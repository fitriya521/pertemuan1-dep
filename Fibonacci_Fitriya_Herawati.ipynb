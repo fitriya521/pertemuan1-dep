{
  "cells": [
    {
      "cell_type": "markdown",
      "metadata": {
        "id": "BOKlLHdsirBN"
      },
      "source": [
        "# 01 Install & Import Library"
      ]
    },
    {
      "cell_type": "code",
      "execution_count": 3,
      "metadata": {
        "id": "IM7g19-GGiiT"
      },
      "outputs": [],
      "source": [
        "import pandas as pd\n",
        "import numpy as np\n",
        "import matplotlib.pyplot as plt\n",
        "import seaborn as sns\n",
        "import pickle\n",
        "\n",
        "import tensorflow as tf\n",
        "\n",
        "%matplotlib inline\n",
        "\n",
        "import warnings\n",
        "warnings.filterwarnings('ignore')"
      ]
    },
    {
      "cell_type": "markdown",
      "metadata": {
        "id": "7U11TRgOHArJ"
      },
      "source": [
        "# 02 Data Acquisition\n"
      ]
    },
    {
      "cell_type": "code",
      "execution_count": 4,
      "metadata": {
        "colab": {
          "base_uri": "https://localhost:8080/",
          "height": 206
        },
        "id": "XEbnU5x3G5OF",
        "outputId": "1b6b76c8-9d4f-40cf-9a27-ff0b65c8c638"
      },
      "outputs": [
        {
          "output_type": "execute_result",
          "data": {
            "text/plain": [
              "   Id Sentiment                             Instagram Comment Text\n",
              "0   1  negative   <USERNAME> TOLOL!! Gak ada hubungan nya kegug...\n",
              "1   2  negative  Geblek lo tata...cowo bgt dibela2in balikan......\n",
              "2   3  negative  Kmrn termewek2 skr lengket lg duhhh kok labil ...\n",
              "3   4  negative  Intinya kalau kesel dengan ATT nya, gausah ke ...\n",
              "4   5  negative  hadewwwww permpuan itu lg!!!!sakit jiwa,knp ha..."
            ],
            "text/html": [
              "\n",
              "  <div id=\"df-a0961a4d-35ae-4f16-99e1-35a3a983676e\">\n",
              "    <div class=\"colab-df-container\">\n",
              "      <div>\n",
              "<style scoped>\n",
              "    .dataframe tbody tr th:only-of-type {\n",
              "        vertical-align: middle;\n",
              "    }\n",
              "\n",
              "    .dataframe tbody tr th {\n",
              "        vertical-align: top;\n",
              "    }\n",
              "\n",
              "    .dataframe thead th {\n",
              "        text-align: right;\n",
              "    }\n",
              "</style>\n",
              "<table border=\"1\" class=\"dataframe\">\n",
              "  <thead>\n",
              "    <tr style=\"text-align: right;\">\n",
              "      <th></th>\n",
              "      <th>Id</th>\n",
              "      <th>Sentiment</th>\n",
              "      <th>Instagram Comment Text</th>\n",
              "    </tr>\n",
              "  </thead>\n",
              "  <tbody>\n",
              "    <tr>\n",
              "      <th>0</th>\n",
              "      <td>1</td>\n",
              "      <td>negative</td>\n",
              "      <td>&lt;USERNAME&gt; TOLOL!! Gak ada hubungan nya kegug...</td>\n",
              "    </tr>\n",
              "    <tr>\n",
              "      <th>1</th>\n",
              "      <td>2</td>\n",
              "      <td>negative</td>\n",
              "      <td>Geblek lo tata...cowo bgt dibela2in balikan......</td>\n",
              "    </tr>\n",
              "    <tr>\n",
              "      <th>2</th>\n",
              "      <td>3</td>\n",
              "      <td>negative</td>\n",
              "      <td>Kmrn termewek2 skr lengket lg duhhh kok labil ...</td>\n",
              "    </tr>\n",
              "    <tr>\n",
              "      <th>3</th>\n",
              "      <td>4</td>\n",
              "      <td>negative</td>\n",
              "      <td>Intinya kalau kesel dengan ATT nya, gausah ke ...</td>\n",
              "    </tr>\n",
              "    <tr>\n",
              "      <th>4</th>\n",
              "      <td>5</td>\n",
              "      <td>negative</td>\n",
              "      <td>hadewwwww permpuan itu lg!!!!sakit jiwa,knp ha...</td>\n",
              "    </tr>\n",
              "  </tbody>\n",
              "</table>\n",
              "</div>\n",
              "      <button class=\"colab-df-convert\" onclick=\"convertToInteractive('df-a0961a4d-35ae-4f16-99e1-35a3a983676e')\"\n",
              "              title=\"Convert this dataframe to an interactive table.\"\n",
              "              style=\"display:none;\">\n",
              "        \n",
              "  <svg xmlns=\"http://www.w3.org/2000/svg\" height=\"24px\"viewBox=\"0 0 24 24\"\n",
              "       width=\"24px\">\n",
              "    <path d=\"M0 0h24v24H0V0z\" fill=\"none\"/>\n",
              "    <path d=\"M18.56 5.44l.94 2.06.94-2.06 2.06-.94-2.06-.94-.94-2.06-.94 2.06-2.06.94zm-11 1L8.5 8.5l.94-2.06 2.06-.94-2.06-.94L8.5 2.5l-.94 2.06-2.06.94zm10 10l.94 2.06.94-2.06 2.06-.94-2.06-.94-.94-2.06-.94 2.06-2.06.94z\"/><path d=\"M17.41 7.96l-1.37-1.37c-.4-.4-.92-.59-1.43-.59-.52 0-1.04.2-1.43.59L10.3 9.45l-7.72 7.72c-.78.78-.78 2.05 0 2.83L4 21.41c.39.39.9.59 1.41.59.51 0 1.02-.2 1.41-.59l7.78-7.78 2.81-2.81c.8-.78.8-2.07 0-2.86zM5.41 20L4 18.59l7.72-7.72 1.47 1.35L5.41 20z\"/>\n",
              "  </svg>\n",
              "      </button>\n",
              "      \n",
              "  <style>\n",
              "    .colab-df-container {\n",
              "      display:flex;\n",
              "      flex-wrap:wrap;\n",
              "      gap: 12px;\n",
              "    }\n",
              "\n",
              "    .colab-df-convert {\n",
              "      background-color: #E8F0FE;\n",
              "      border: none;\n",
              "      border-radius: 50%;\n",
              "      cursor: pointer;\n",
              "      display: none;\n",
              "      fill: #1967D2;\n",
              "      height: 32px;\n",
              "      padding: 0 0 0 0;\n",
              "      width: 32px;\n",
              "    }\n",
              "\n",
              "    .colab-df-convert:hover {\n",
              "      background-color: #E2EBFA;\n",
              "      box-shadow: 0px 1px 2px rgba(60, 64, 67, 0.3), 0px 1px 3px 1px rgba(60, 64, 67, 0.15);\n",
              "      fill: #174EA6;\n",
              "    }\n",
              "\n",
              "    [theme=dark] .colab-df-convert {\n",
              "      background-color: #3B4455;\n",
              "      fill: #D2E3FC;\n",
              "    }\n",
              "\n",
              "    [theme=dark] .colab-df-convert:hover {\n",
              "      background-color: #434B5C;\n",
              "      box-shadow: 0px 1px 3px 1px rgba(0, 0, 0, 0.15);\n",
              "      filter: drop-shadow(0px 1px 2px rgba(0, 0, 0, 0.3));\n",
              "      fill: #FFFFFF;\n",
              "    }\n",
              "  </style>\n",
              "\n",
              "      <script>\n",
              "        const buttonEl =\n",
              "          document.querySelector('#df-a0961a4d-35ae-4f16-99e1-35a3a983676e button.colab-df-convert');\n",
              "        buttonEl.style.display =\n",
              "          google.colab.kernel.accessAllowed ? 'block' : 'none';\n",
              "\n",
              "        async function convertToInteractive(key) {\n",
              "          const element = document.querySelector('#df-a0961a4d-35ae-4f16-99e1-35a3a983676e');\n",
              "          const dataTable =\n",
              "            await google.colab.kernel.invokeFunction('convertToInteractive',\n",
              "                                                     [key], {});\n",
              "          if (!dataTable) return;\n",
              "\n",
              "          const docLinkHtml = 'Like what you see? Visit the ' +\n",
              "            '<a target=\"_blank\" href=https://colab.research.google.com/notebooks/data_table.ipynb>data table notebook</a>'\n",
              "            + ' to learn more about interactive tables.';\n",
              "          element.innerHTML = '';\n",
              "          dataTable['output_type'] = 'display_data';\n",
              "          await google.colab.output.renderOutput(dataTable, element);\n",
              "          const docLink = document.createElement('div');\n",
              "          docLink.innerHTML = docLinkHtml;\n",
              "          element.appendChild(docLink);\n",
              "        }\n",
              "      </script>\n",
              "    </div>\n",
              "  </div>\n",
              "  "
            ]
          },
          "metadata": {},
          "execution_count": 4
        }
      ],
      "source": [
        "data = pd.read_csv('dataset_komentar_instagram_cyberbullying.csv')\n",
        "data.head()"
      ]
    },
    {
      "cell_type": "markdown",
      "metadata": {
        "id": "jRNl4aixG9_g"
      },
      "source": [
        "# 03 Text Preprocessing"
      ]
    },
    {
      "cell_type": "code",
      "execution_count": 5,
      "metadata": {
        "id": "SA0uZ2JDG8co"
      },
      "outputs": [],
      "source": [
        "\n",
        "import re\n",
        "\n",
        "def text_preprocessing(text):\n",
        "  text = text.lower()                               # Mengubah teks menjadi lower case\n",
        "  text = re.sub(r'https?://\\S+|www\\.\\S+', '', text) # Menghapus URL\n",
        "  text = re.sub(r'[-+]?[0-9]+', '', text)           # Menghapus angka\n",
        "  text = re.sub(r'[^\\w\\s]','', text)                # Menghapus karakter tanda baca\n",
        "  text = text.strip()                               # Menghapus whitespaces\n",
        "  return text"
      ]
    },
    {
      "cell_type": "code",
      "execution_count": 6,
      "metadata": {
        "colab": {
          "base_uri": "https://localhost:8080/"
        },
        "id": "SIOoY4vpHPif",
        "outputId": "dacbad27-8516-4e7c-e34a-3f01a7018ad1"
      },
      "outputs": [
        {
          "output_type": "stream",
          "name": "stdout",
          "text": [
            "CPU times: user 7.81 ms, sys: 970 µs, total: 8.78 ms\n",
            "Wall time: 12.7 ms\n"
          ]
        }
      ],
      "source": [
        "%time data['clean_teks'] = data['Instagram Comment Text'].apply(text_preprocessing)\n",
        "\n",
        "# Perhatikan waktu komputasi ketika proses text preprocessing, bandingkan dengan langkah text preprocessing pada pertemuan sebelumnya"
      ]
    },
    {
      "cell_type": "code",
      "execution_count": 7,
      "metadata": {
        "colab": {
          "base_uri": "https://localhost:8080/",
          "height": 206
        },
        "id": "wkdNz0YBHg3b",
        "outputId": "66c90b30-5e5e-42a5-df13-b1546296c809"
      },
      "outputs": [
        {
          "output_type": "execute_result",
          "data": {
            "text/plain": [
              "   Id Sentiment                             Instagram Comment Text  \\\n",
              "0   1  negative   <USERNAME> TOLOL!! Gak ada hubungan nya kegug...   \n",
              "1   2  negative  Geblek lo tata...cowo bgt dibela2in balikan......   \n",
              "2   3  negative  Kmrn termewek2 skr lengket lg duhhh kok labil ...   \n",
              "3   4  negative  Intinya kalau kesel dengan ATT nya, gausah ke ...   \n",
              "4   5  negative  hadewwwww permpuan itu lg!!!!sakit jiwa,knp ha...   \n",
              "\n",
              "                                          clean_teks  \n",
              "0  username tolol gak ada hubungan nya keguguran ...  \n",
              "1  geblek lo tatacowo bgt dibelain balikanhadewwn...  \n",
              "2  kmrn termewek skr lengket lg duhhh kok labil b...  \n",
              "3  intinya kalau kesel dengan att nya gausah ke a...  \n",
              "4  hadewwwww permpuan itu lgsakit jiwaknp harus d...  "
            ],
            "text/html": [
              "\n",
              "  <div id=\"df-d8023564-c548-4f5f-a5c0-a9bcb50a2550\">\n",
              "    <div class=\"colab-df-container\">\n",
              "      <div>\n",
              "<style scoped>\n",
              "    .dataframe tbody tr th:only-of-type {\n",
              "        vertical-align: middle;\n",
              "    }\n",
              "\n",
              "    .dataframe tbody tr th {\n",
              "        vertical-align: top;\n",
              "    }\n",
              "\n",
              "    .dataframe thead th {\n",
              "        text-align: right;\n",
              "    }\n",
              "</style>\n",
              "<table border=\"1\" class=\"dataframe\">\n",
              "  <thead>\n",
              "    <tr style=\"text-align: right;\">\n",
              "      <th></th>\n",
              "      <th>Id</th>\n",
              "      <th>Sentiment</th>\n",
              "      <th>Instagram Comment Text</th>\n",
              "      <th>clean_teks</th>\n",
              "    </tr>\n",
              "  </thead>\n",
              "  <tbody>\n",
              "    <tr>\n",
              "      <th>0</th>\n",
              "      <td>1</td>\n",
              "      <td>negative</td>\n",
              "      <td>&lt;USERNAME&gt; TOLOL!! Gak ada hubungan nya kegug...</td>\n",
              "      <td>username tolol gak ada hubungan nya keguguran ...</td>\n",
              "    </tr>\n",
              "    <tr>\n",
              "      <th>1</th>\n",
              "      <td>2</td>\n",
              "      <td>negative</td>\n",
              "      <td>Geblek lo tata...cowo bgt dibela2in balikan......</td>\n",
              "      <td>geblek lo tatacowo bgt dibelain balikanhadewwn...</td>\n",
              "    </tr>\n",
              "    <tr>\n",
              "      <th>2</th>\n",
              "      <td>3</td>\n",
              "      <td>negative</td>\n",
              "      <td>Kmrn termewek2 skr lengket lg duhhh kok labil ...</td>\n",
              "      <td>kmrn termewek skr lengket lg duhhh kok labil b...</td>\n",
              "    </tr>\n",
              "    <tr>\n",
              "      <th>3</th>\n",
              "      <td>4</td>\n",
              "      <td>negative</td>\n",
              "      <td>Intinya kalau kesel dengan ATT nya, gausah ke ...</td>\n",
              "      <td>intinya kalau kesel dengan att nya gausah ke a...</td>\n",
              "    </tr>\n",
              "    <tr>\n",
              "      <th>4</th>\n",
              "      <td>5</td>\n",
              "      <td>negative</td>\n",
              "      <td>hadewwwww permpuan itu lg!!!!sakit jiwa,knp ha...</td>\n",
              "      <td>hadewwwww permpuan itu lgsakit jiwaknp harus d...</td>\n",
              "    </tr>\n",
              "  </tbody>\n",
              "</table>\n",
              "</div>\n",
              "      <button class=\"colab-df-convert\" onclick=\"convertToInteractive('df-d8023564-c548-4f5f-a5c0-a9bcb50a2550')\"\n",
              "              title=\"Convert this dataframe to an interactive table.\"\n",
              "              style=\"display:none;\">\n",
              "        \n",
              "  <svg xmlns=\"http://www.w3.org/2000/svg\" height=\"24px\"viewBox=\"0 0 24 24\"\n",
              "       width=\"24px\">\n",
              "    <path d=\"M0 0h24v24H0V0z\" fill=\"none\"/>\n",
              "    <path d=\"M18.56 5.44l.94 2.06.94-2.06 2.06-.94-2.06-.94-.94-2.06-.94 2.06-2.06.94zm-11 1L8.5 8.5l.94-2.06 2.06-.94-2.06-.94L8.5 2.5l-.94 2.06-2.06.94zm10 10l.94 2.06.94-2.06 2.06-.94-2.06-.94-.94-2.06-.94 2.06-2.06.94z\"/><path d=\"M17.41 7.96l-1.37-1.37c-.4-.4-.92-.59-1.43-.59-.52 0-1.04.2-1.43.59L10.3 9.45l-7.72 7.72c-.78.78-.78 2.05 0 2.83L4 21.41c.39.39.9.59 1.41.59.51 0 1.02-.2 1.41-.59l7.78-7.78 2.81-2.81c.8-.78.8-2.07 0-2.86zM5.41 20L4 18.59l7.72-7.72 1.47 1.35L5.41 20z\"/>\n",
              "  </svg>\n",
              "      </button>\n",
              "      \n",
              "  <style>\n",
              "    .colab-df-container {\n",
              "      display:flex;\n",
              "      flex-wrap:wrap;\n",
              "      gap: 12px;\n",
              "    }\n",
              "\n",
              "    .colab-df-convert {\n",
              "      background-color: #E8F0FE;\n",
              "      border: none;\n",
              "      border-radius: 50%;\n",
              "      cursor: pointer;\n",
              "      display: none;\n",
              "      fill: #1967D2;\n",
              "      height: 32px;\n",
              "      padding: 0 0 0 0;\n",
              "      width: 32px;\n",
              "    }\n",
              "\n",
              "    .colab-df-convert:hover {\n",
              "      background-color: #E2EBFA;\n",
              "      box-shadow: 0px 1px 2px rgba(60, 64, 67, 0.3), 0px 1px 3px 1px rgba(60, 64, 67, 0.15);\n",
              "      fill: #174EA6;\n",
              "    }\n",
              "\n",
              "    [theme=dark] .colab-df-convert {\n",
              "      background-color: #3B4455;\n",
              "      fill: #D2E3FC;\n",
              "    }\n",
              "\n",
              "    [theme=dark] .colab-df-convert:hover {\n",
              "      background-color: #434B5C;\n",
              "      box-shadow: 0px 1px 3px 1px rgba(0, 0, 0, 0.15);\n",
              "      filter: drop-shadow(0px 1px 2px rgba(0, 0, 0, 0.3));\n",
              "      fill: #FFFFFF;\n",
              "    }\n",
              "  </style>\n",
              "\n",
              "      <script>\n",
              "        const buttonEl =\n",
              "          document.querySelector('#df-d8023564-c548-4f5f-a5c0-a9bcb50a2550 button.colab-df-convert');\n",
              "        buttonEl.style.display =\n",
              "          google.colab.kernel.accessAllowed ? 'block' : 'none';\n",
              "\n",
              "        async function convertToInteractive(key) {\n",
              "          const element = document.querySelector('#df-d8023564-c548-4f5f-a5c0-a9bcb50a2550');\n",
              "          const dataTable =\n",
              "            await google.colab.kernel.invokeFunction('convertToInteractive',\n",
              "                                                     [key], {});\n",
              "          if (!dataTable) return;\n",
              "\n",
              "          const docLinkHtml = 'Like what you see? Visit the ' +\n",
              "            '<a target=\"_blank\" href=https://colab.research.google.com/notebooks/data_table.ipynb>data table notebook</a>'\n",
              "            + ' to learn more about interactive tables.';\n",
              "          element.innerHTML = '';\n",
              "          dataTable['output_type'] = 'display_data';\n",
              "          await google.colab.output.renderOutput(dataTable, element);\n",
              "          const docLink = document.createElement('div');\n",
              "          docLink.innerHTML = docLinkHtml;\n",
              "          element.appendChild(docLink);\n",
              "        }\n",
              "      </script>\n",
              "    </div>\n",
              "  </div>\n",
              "  "
            ]
          },
          "metadata": {},
          "execution_count": 7
        }
      ],
      "source": [
        "data.head()"
      ]
    },
    {
      "cell_type": "markdown",
      "metadata": {
        "id": "cf8BbooCHThV"
      },
      "source": [
        "# 05 Word Embedding"
      ]
    },
    {
      "cell_type": "markdown",
      "metadata": {
        "id": "8nQtivY_HWyA"
      },
      "source": [
        "## Word2Vec from Scratch"
      ]
    },
    {
      "cell_type": "code",
      "execution_count": 8,
      "metadata": {
        "id": "nk85jTHnHVxR",
        "colab": {
          "base_uri": "https://localhost:8080/",
          "height": 35
        },
        "outputId": "4b087e48-99eb-4b3d-efef-4abf7344eac2"
      },
      "outputs": [
        {
          "output_type": "execute_result",
          "data": {
            "text/plain": [
              "'4.3.1'"
            ],
            "application/vnd.google.colaboratory.intrinsic+json": {
              "type": "string"
            }
          },
          "metadata": {},
          "execution_count": 8
        }
      ],
      "source": [
        "# Import library\n",
        "import gensim\n",
        "\n",
        "# Lihat versi Gensim yang digunakan\n",
        "gensim.__version__"
      ]
    },
    {
      "cell_type": "code",
      "execution_count": 9,
      "metadata": {
        "colab": {
          "base_uri": "https://localhost:8080/"
        },
        "id": "eyiJ78YzHpTy",
        "outputId": "9d4c1960-5cf5-41a7-aed1-8924309b6455"
      },
      "outputs": [
        {
          "output_type": "execute_result",
          "data": {
            "text/plain": [
              "0      [username, tolol, gak, ada, hubungan, nya, keg...\n",
              "1      [geblek, lo, tatacowo, bgt, dibelain, balikanh...\n",
              "2      [kmrn, termewek, skr, lengket, lg, duhhh, kok,...\n",
              "3      [intinya, kalau, kesel, dengan, att, nya, gaus...\n",
              "4      [hadewwwww, permpuan, itu, lgsakit, jiwaknp, h...\n",
              "                             ...                        \n",
              "395    [bangga, sama, suami, yg, selalu, ingat, istri...\n",
              "396    [apaoun, pekerjaannya, yg, penting, halal, u, ...\n",
              "397    [gojek, itu, mayoritas, pegangguran, yang, lam...\n",
              "398    [username, aslinya, cantik, dan, ayu, loh, mba...\n",
              "399    [username, suami, saya, seumuran, sama, saya, ...\n",
              "Name: clean_teks, Length: 400, dtype: object"
            ]
          },
          "metadata": {},
          "execution_count": 9
        }
      ],
      "source": [
        "# Tokenize kata pada setiap kalimat\n",
        "def tokenization(text):\n",
        "  text = re.split('\\W+', text)\n",
        "  return text\n",
        "\n",
        "sentences = data['clean_teks'].apply(lambda x: tokenization(x.lower()))\n",
        "sentences"
      ]
    },
    {
      "cell_type": "code",
      "execution_count": 10,
      "metadata": {
        "id": "iqxAz2J1HupL"
      },
      "outputs": [],
      "source": [
        "# Defenisikan parameter training Word2Vec\n",
        "\n",
        "EMBEDDING_SIZE = 100    # Dimensi word vektor / neuron pada projection (hidden) layer\n",
        "WINDOW_SIZE = 5         # Window size. Jarak maksimum antara kata saat ini dan yang diprediksi dalam sebuah\n",
        "MIN_WORD  = 1           # Model akan mengabaikan semua kata dengan frekuensi total lebih rendah dari ini (opsional)\n",
        "EPOCH = 10              # Jumlah iterasi (epoch).\n",
        "SG = 1                  # Strategi algoritma pelatihan: 1 untuk skip-gram, 0 untuk CBOW\n",
        "NEGATIVE = 5            # Negative sampling. Jika 0, negative sampling tidak digunakan"
      ]
    },
    {
      "cell_type": "code",
      "source": [
        "%%time \n",
        "\n",
        "# Proses training Word2Vec\n",
        "from gensim.models import Word2Vec, FastText, KeyedVectors\n",
        "model_word2vec = Word2Vec(sentences, vector_size=EMBEDDING_SIZE, sg=SG, min_count=MIN_WORD, window=WINDOW_SIZE, negative=NEGATIVE, epochs=EPOCH)\n"
      ],
      "metadata": {
        "colab": {
          "base_uri": "https://localhost:8080/"
        },
        "id": "DX08KsAfdSW2",
        "outputId": "9ac10fa5-4d64-442f-a1be-e0e78d904e96"
      },
      "execution_count": 11,
      "outputs": [
        {
          "output_type": "stream",
          "name": "stdout",
          "text": [
            "CPU times: user 489 ms, sys: 6.36 ms, total: 495 ms\n",
            "Wall time: 499 ms\n"
          ]
        }
      ]
    },
    {
      "cell_type": "code",
      "execution_count": 12,
      "metadata": {
        "id": "lJNkEC75IQxG"
      },
      "outputs": [],
      "source": [
        "# Save Word2Vec sebagai full model\n",
        "model_word2vec.save('myvec-word2vec-100.model')"
      ]
    },
    {
      "cell_type": "code",
      "source": [
        "# Save Word2Vec sebagai wordvectors. Hanya menyimpan kata & trained embeddingnya\n",
        "word2vec_word_vectors = model_word2vec.wv\n",
        "word2vec_word_vectors.save('myvec-word2vec-100.wordvectors')"
      ],
      "metadata": {
        "id": "A_XLel-R1Em1"
      },
      "execution_count": 13,
      "outputs": []
    },
    {
      "cell_type": "code",
      "execution_count": 14,
      "metadata": {
        "colab": {
          "base_uri": "https://localhost:8080/"
        },
        "id": "MFCQhBf0IX8S",
        "outputId": "b1b86d3d-f78e-4b30-e04f-5d4bf2bf4ccf"
      },
      "outputs": [
        {
          "output_type": "execute_result",
          "data": {
            "text/plain": [
              "array([-0.08965279,  0.16122237,  0.0638966 ,  0.02110137,  0.04004653,\n",
              "       -0.35366172,  0.19840175,  0.45647717, -0.16275978, -0.09879215,\n",
              "       -0.14553635, -0.39760676, -0.0878851 ,  0.07475206, -0.10774878,\n",
              "       -0.19613044,  0.07109585, -0.26879856, -0.04475833, -0.37825167,\n",
              "        0.15513504,  0.14419198,  0.17874874, -0.25801843, -0.05426653,\n",
              "       -0.02525695, -0.23251732, -0.10477359, -0.22212471,  0.00905766,\n",
              "        0.24580173,  0.01866961,  0.12756453, -0.15772682, -0.03114882,\n",
              "        0.27847412,  0.06334408, -0.1414518 , -0.08433933, -0.46753526,\n",
              "        0.07838009, -0.20770684, -0.16797167,  0.13248251,  0.18054982,\n",
              "       -0.1837914 , -0.29100138, -0.09075769,  0.09493707,  0.15614803,\n",
              "        0.07701831, -0.22299409, -0.04556736,  0.01100311, -0.16314411,\n",
              "        0.11218885,  0.16754515, -0.06226735, -0.13510388,  0.13087931,\n",
              "        0.17601721,  0.07877944,  0.00412523, -0.01790112, -0.41677043,\n",
              "        0.25730184,  0.10243613,  0.17330727, -0.39889967,  0.37475765,\n",
              "       -0.22526938,  0.24168195,  0.25006297, -0.07020313,  0.2535611 ,\n",
              "       -0.00408131,  0.04574604, -0.00467099, -0.18761021,  0.01578682,\n",
              "       -0.17031172, -0.02459707, -0.24375035,  0.35830712, -0.10393204,\n",
              "        0.04363187,  0.03009238,  0.29277277,  0.10002192,  0.04484348,\n",
              "        0.2971188 ,  0.10728465,  0.04632269, -0.02000908,  0.41992852,\n",
              "        0.14597431,  0.09034189, -0.1101165 ,  0.11478052, -0.09270813],\n",
              "      dtype=float32)"
            ]
          },
          "metadata": {},
          "execution_count": 14
        }
      ],
      "source": [
        "# Cari nilai vektor dari kata tertentu\n",
        "model_word2vec.wv['anak']"
      ]
    },
    {
      "cell_type": "code",
      "execution_count": 15,
      "metadata": {
        "colab": {
          "base_uri": "https://localhost:8080/"
        },
        "id": "z8W1cpEdIlj2",
        "outputId": "f54f2254-d906-4361-def9-7bc08910bb2c"
      },
      "outputs": [
        {
          "output_type": "execute_result",
          "data": {
            "text/plain": [
              "[('lancar', 0.9983526468276978),\n",
              " ('lihat', 0.9983174204826355),\n",
              " ('akan', 0.998310923576355),\n",
              " ('bego', 0.998302698135376),\n",
              " ('bikin', 0.9982948899269104),\n",
              " ('bnyk', 0.9982319474220276),\n",
              " ('dunia', 0.998180627822876),\n",
              " ('dr', 0.9981654286384583),\n",
              " ('pasangan', 0.9981565475463867),\n",
              " ('ini', 0.9981459975242615)]"
            ]
          },
          "metadata": {},
          "execution_count": 15
        }
      ],
      "source": [
        "# Menemukan kata kata teratas yang paling mirip dari kata terentu\n",
        "# Menghitung kesamaan dari vektor bobot proyeksi dari kata-kata yang diberikan dan vektor untuk setiap kata dalam model.\n",
        "\n",
        "model_word2vec.wv.most_similar('anak')"
      ]
    },
    {
      "cell_type": "code",
      "execution_count": 16,
      "metadata": {
        "colab": {
          "base_uri": "https://localhost:8080/"
        },
        "id": "O-0i7n7zI5xk",
        "outputId": "a624a940-6652-4f81-aa6f-8c11a278c7e4"
      },
      "outputs": [
        {
          "output_type": "stream",
          "name": "stdout",
          "text": [
            "[[-7.09369183e-02  1.36407360e-01  5.39028198e-02  9.64782946e-03\n",
            "   4.69418280e-02 -2.86463469e-01  1.79923385e-01  3.81577402e-01\n",
            "  -1.42584682e-01 -7.91290998e-02 -1.13864355e-01 -3.21624011e-01\n",
            "  -7.80808851e-02  5.55211455e-02 -8.55581909e-02 -1.42658874e-01\n",
            "   7.71626979e-02 -2.22251385e-01 -3.40721905e-02 -3.13153833e-01\n",
            "   1.28853261e-01  1.20871030e-01  1.68039426e-01 -2.18546361e-01\n",
            "  -4.65028509e-02 -1.13261538e-02 -1.91698775e-01 -1.01517923e-01\n",
            "  -1.76337063e-01  1.09699005e-02  2.19871849e-01  2.76059397e-02\n",
            "   1.01193912e-01 -1.32481828e-01 -1.40987979e-02  2.09504142e-01\n",
            "   3.90364155e-02 -1.10778935e-01 -6.16719127e-02 -3.98110330e-01\n",
            "   5.89217544e-02 -1.66410670e-01 -1.34655669e-01  1.01307884e-01\n",
            "   1.39402479e-01 -1.58022031e-01 -2.30644986e-01 -6.40759096e-02\n",
            "   7.52565190e-02  1.49708778e-01  7.48473480e-02 -1.78006679e-01\n",
            "  -4.57864963e-02  8.46520590e-04 -1.34859979e-01  9.49850976e-02\n",
            "   1.39838263e-01 -5.51995412e-02 -1.13506876e-01  1.09500691e-01\n",
            "   1.48917317e-01  6.04590587e-02  3.35408072e-03 -2.70984024e-02\n",
            "  -3.50697368e-01  2.15287715e-01  9.53780636e-02  1.22925267e-01\n",
            "  -3.34237158e-01  2.98157752e-01 -1.83754578e-01  1.94917694e-01\n",
            "   1.99383795e-01 -6.08310848e-02  1.99426174e-01  6.19978004e-04\n",
            "   3.41858678e-02  4.78761224e-03 -1.65549159e-01  2.98309699e-02\n",
            "  -1.31733671e-01 -2.22405847e-02 -1.98384464e-01  2.94350117e-01\n",
            "  -8.01036656e-02  3.94180752e-02  3.67902257e-02  2.52116263e-01\n",
            "   7.36036226e-02  2.74920687e-02  2.62190968e-01  7.83200711e-02\n",
            "   5.28265722e-02 -1.96174532e-02  3.60133350e-01  1.15331717e-01\n",
            "   7.62177035e-02 -9.49615836e-02  8.31871480e-02 -8.03167820e-02]\n",
            " [-7.35205188e-02  1.25566751e-01  4.57070097e-02  1.50291948e-02\n",
            "   2.66041923e-02 -2.66698122e-01  1.61725402e-01  3.42916131e-01\n",
            "  -1.28884792e-01 -8.46418291e-02 -1.03806570e-01 -2.85458088e-01\n",
            "  -7.46243969e-02  4.07242626e-02 -7.34323710e-02 -1.41804248e-01\n",
            "   6.06176630e-02 -2.20033258e-01 -3.51177491e-02 -2.83976734e-01\n",
            "   1.25331432e-01  1.06207274e-01  1.36060685e-01 -2.00750932e-01\n",
            "  -3.40355113e-02 -8.68193060e-03 -1.64976716e-01 -8.58063698e-02\n",
            "  -1.67096868e-01  1.15498388e-02  1.94187731e-01  2.25006621e-02\n",
            "   8.98450240e-02 -1.19156703e-01 -1.02243945e-02  2.03652054e-01\n",
            "   4.28520255e-02 -9.73587781e-02 -5.61550669e-02 -3.65016937e-01\n",
            "   4.68950719e-02 -1.49088740e-01 -1.16122633e-01  8.73952135e-02\n",
            "   1.40777096e-01 -1.55037150e-01 -2.07440585e-01 -6.35177568e-02\n",
            "   7.34755099e-02  1.22528858e-01  6.56081587e-02 -1.60898641e-01\n",
            "  -5.62522709e-02 -8.66619113e-04 -1.23203926e-01  8.70604143e-02\n",
            "   1.20370120e-01 -4.13704664e-02 -1.19229533e-01  9.78545472e-02\n",
            "   1.31950244e-01  6.03637882e-02  6.69493712e-03 -1.29186204e-02\n",
            "  -3.26584011e-01  1.93742037e-01  9.00840834e-02  1.20934270e-01\n",
            "  -3.15396309e-01  2.85963953e-01 -1.61987916e-01  1.82659879e-01\n",
            "   1.90081939e-01 -4.54873703e-02  1.98984385e-01 -2.92619783e-03\n",
            "   3.78265753e-02  5.66262333e-03 -1.58005819e-01  2.86725741e-02\n",
            "  -1.28606349e-01 -2.64226757e-02 -1.84996843e-01  2.75093675e-01\n",
            "  -8.19530040e-02  2.71673780e-02  3.77624147e-02  2.28492394e-01\n",
            "   7.24158287e-02  2.92826165e-02  2.26105884e-01  8.18763599e-02\n",
            "   3.42562720e-02 -1.78794451e-02  3.30703795e-01  1.08954847e-01\n",
            "   6.90128654e-02 -1.04835212e-01  9.26404074e-02 -8.25532451e-02]\n",
            " [-7.98887983e-02  1.48514420e-01  4.81810011e-02  2.02263929e-02\n",
            "   3.26834582e-02 -3.40825915e-01  2.06427261e-01  4.15411621e-01\n",
            "  -1.54235587e-01 -1.21285446e-01 -1.32258907e-01 -3.73197407e-01\n",
            "  -7.53627121e-02  5.21678627e-02 -9.64295119e-02 -1.72044918e-01\n",
            "   6.37227669e-02 -2.69227028e-01 -3.71036343e-02 -3.67723614e-01\n",
            "   1.67569891e-01  1.34459630e-01  1.88362420e-01 -2.31103510e-01\n",
            "  -4.20604385e-02 -3.39746960e-02 -2.23472431e-01 -1.05532371e-01\n",
            "  -2.02974752e-01  1.78369917e-02  2.41352379e-01  2.58387234e-02\n",
            "   1.18397743e-01 -1.50160134e-01 -2.89896652e-02  2.41180643e-01\n",
            "   5.09459712e-02 -1.25884891e-01 -5.72090596e-02 -4.46880907e-01\n",
            "   7.53020421e-02 -1.96389213e-01 -1.51571766e-01  1.15687564e-01\n",
            "   1.71508834e-01 -1.82568058e-01 -2.60207206e-01 -7.97187537e-02\n",
            "   1.00742728e-01  1.68787763e-01  8.12348500e-02 -2.08876669e-01\n",
            "  -4.68537807e-02 -1.32430000e-02 -1.59503445e-01  1.05224818e-01\n",
            "   1.61388174e-01 -5.53206131e-02 -1.48342282e-01  1.14461139e-01\n",
            "   1.62822366e-01  8.88177678e-02  9.11831297e-03 -3.31516601e-02\n",
            "  -4.12938565e-01  2.57959574e-01  1.01346917e-01  1.56597614e-01\n",
            "  -3.82868022e-01  3.49198967e-01 -2.02231854e-01  2.42438629e-01\n",
            "   2.22005785e-01 -5.49951605e-02  2.29612410e-01 -6.04436360e-03\n",
            "   4.49383855e-02 -1.31293116e-02 -1.71781331e-01  2.99135707e-02\n",
            "  -1.45767987e-01 -1.86413378e-02 -2.32171535e-01  3.44175786e-01\n",
            "  -9.79040563e-02  4.74191755e-02  4.42283303e-02  2.88845628e-01\n",
            "   8.25115368e-02  2.54418403e-02  2.77261704e-01  9.64649767e-02\n",
            "   4.15362529e-02 -1.50927929e-02  3.83478045e-01  1.40613407e-01\n",
            "   9.05219913e-02 -1.16042346e-01  1.11762509e-01 -1.06711566e-01]\n",
            " [-7.36577511e-02  1.26462340e-01  3.81612666e-02  1.54802529e-02\n",
            "   4.51949015e-02 -2.85489947e-01  1.59982115e-01  3.70508671e-01\n",
            "  -1.25150442e-01 -9.33629796e-02 -1.14339888e-01 -3.09186369e-01\n",
            "  -8.03641528e-02  5.28421178e-02 -7.19924420e-02 -1.39831826e-01\n",
            "   7.41511062e-02 -2.30535522e-01 -3.28139849e-02 -2.97112226e-01\n",
            "   1.24555126e-01  1.08940147e-01  1.64316192e-01 -2.06643537e-01\n",
            "  -3.81142274e-02 -1.62952393e-02 -1.81366950e-01 -8.88650417e-02\n",
            "  -1.71841145e-01  1.04019176e-02  2.00758517e-01  2.08771955e-02\n",
            "   1.01538867e-01 -1.27822936e-01 -1.12821115e-02  2.10519731e-01\n",
            "   3.94470170e-02 -9.16244835e-02 -5.86973839e-02 -3.87609988e-01\n",
            "   5.19624688e-02 -1.66403726e-01 -1.30400643e-01  8.39568302e-02\n",
            "   1.33833990e-01 -1.58764660e-01 -2.35105559e-01 -5.75781539e-02\n",
            "   8.18151459e-02  1.34935692e-01  5.85043132e-02 -1.70510814e-01\n",
            "  -4.01552320e-02  3.67135671e-03 -1.25797465e-01  9.44260582e-02\n",
            "   1.26910821e-01 -3.37586254e-02 -1.14708170e-01  1.02375947e-01\n",
            "   1.47799298e-01  6.66828007e-02 -4.01843945e-03 -2.72619184e-02\n",
            "  -3.52599323e-01  2.16951519e-01  7.47959614e-02  1.33353800e-01\n",
            "  -3.10394913e-01  2.94438511e-01 -1.83532387e-01  2.05478057e-01\n",
            "   1.99011713e-01 -5.66785224e-02  2.04638958e-01 -1.00374855e-02\n",
            "   4.08962332e-02 -3.03847366e-03 -1.46437719e-01  1.69627294e-02\n",
            "  -1.36892080e-01 -2.03971379e-02 -1.92152992e-01  2.83604622e-01\n",
            "  -6.38866276e-02  3.53242829e-02  2.38478277e-02  2.42819488e-01\n",
            "   7.51251727e-02  1.58989336e-02  2.47121200e-01  7.04336166e-02\n",
            "   4.57946286e-02 -7.92267208e-04  3.33210886e-01  1.10000446e-01\n",
            "   6.49827570e-02 -9.78025049e-02  8.30224752e-02 -7.52503797e-02]\n",
            " [-7.47149661e-02  1.45221889e-01  6.63259327e-02  1.77855622e-02\n",
            "   3.50720510e-02 -3.38834703e-01  1.99965835e-01  4.13702428e-01\n",
            "  -1.56152099e-01 -1.12683825e-01 -1.37408361e-01 -3.65299940e-01\n",
            "  -9.14549306e-02  6.04785234e-02 -1.00821726e-01 -1.77673370e-01\n",
            "   7.36359507e-02 -2.60225058e-01 -5.09257354e-02 -3.45828563e-01\n",
            "   1.52308807e-01  1.20927535e-01  1.71278864e-01 -2.45218486e-01\n",
            "  -5.50319143e-02 -2.63970122e-02 -2.18691871e-01 -1.10335991e-01\n",
            "  -1.96122512e-01  1.87908467e-02  2.44826257e-01  1.86337456e-02\n",
            "   1.20390281e-01 -1.56239882e-01 -2.56559886e-02  2.49297842e-01\n",
            "   4.74480242e-02 -1.27912089e-01 -6.27937168e-02 -4.54417944e-01\n",
            "   7.79876709e-02 -1.84946701e-01 -1.41103312e-01  1.14107944e-01\n",
            "   1.72715828e-01 -1.87693238e-01 -2.63456523e-01 -7.39782974e-02\n",
            "   8.90090019e-02  1.49917230e-01  6.74957559e-02 -2.09268942e-01\n",
            "  -5.23484461e-02 -1.07106352e-02 -1.40517205e-01  9.42033082e-02\n",
            "   1.61844909e-01 -6.27200007e-02 -1.38914004e-01  1.19293660e-01\n",
            "   1.51423648e-01  7.52114728e-02  1.55059006e-02 -3.15933563e-02\n",
            "  -4.13198143e-01  2.44990930e-01  9.56235826e-02  1.50058225e-01\n",
            "  -3.79796863e-01  3.29307735e-01 -1.98099032e-01  2.35318407e-01\n",
            "   2.18423352e-01 -5.43626323e-02  2.31337562e-01 -1.54989734e-02\n",
            "   4.05833125e-02 -1.37110483e-02 -1.91404462e-01  2.56934129e-02\n",
            "  -1.45169258e-01 -1.30265718e-02 -2.15110034e-01  3.43325973e-01\n",
            "  -8.28450993e-02  4.65688780e-02  3.15338969e-02  2.83114702e-01\n",
            "   7.01664090e-02  2.75970586e-02  2.74567902e-01  9.09952298e-02\n",
            "   5.90349026e-02 -1.71085615e-02  4.05692518e-01  1.33843958e-01\n",
            "   7.96770081e-02 -1.16005749e-01  1.11836143e-01 -8.47316533e-02]\n",
            " [-6.17175773e-02  1.30861685e-01  4.19467837e-02  1.10516222e-02\n",
            "   4.51082475e-02 -2.89860666e-01  1.75447732e-01  3.82476121e-01\n",
            "  -1.33257642e-01 -9.40965489e-02 -1.05523080e-01 -3.22951227e-01\n",
            "  -7.94173703e-02  3.73981558e-02 -7.83283636e-02 -1.47746533e-01\n",
            "   7.46722594e-02 -2.28459135e-01 -3.68178971e-02 -3.05581182e-01\n",
            "   1.33077905e-01  1.21415295e-01  1.53856471e-01 -2.23945141e-01\n",
            "  -3.87629345e-02 -2.93821916e-02 -1.91793323e-01 -1.06014386e-01\n",
            "  -1.86999351e-01  1.21704126e-02  2.15248629e-01  2.16496810e-02\n",
            "   1.07023984e-01 -1.45956352e-01 -9.51592531e-03  2.31195584e-01\n",
            "   4.00603935e-02 -1.17157236e-01 -6.41502291e-02 -4.09764260e-01\n",
            "   6.99807331e-02 -1.71436489e-01 -1.25099778e-01  1.03736721e-01\n",
            "   1.46063268e-01 -1.67991489e-01 -2.38483936e-01 -6.84956685e-02\n",
            "   8.81377608e-02  1.38689533e-01  5.64824827e-02 -1.82394430e-01\n",
            "  -4.99805771e-02  8.98985285e-03 -1.34602875e-01  9.86242816e-02\n",
            "   1.30552337e-01 -5.20003028e-02 -1.24393180e-01  1.16923064e-01\n",
            "   1.45580173e-01  8.12112466e-02  1.53655130e-02 -2.08787471e-02\n",
            "  -3.72553676e-01  2.21458927e-01  8.21660832e-02  1.35943308e-01\n",
            "  -3.37896377e-01  3.11335295e-01 -1.91436961e-01  2.13967428e-01\n",
            "   2.10417181e-01 -5.47296517e-02  2.19354033e-01 -1.06546013e-02\n",
            "   4.15770039e-02 -6.86815334e-03 -1.63519412e-01  3.42288576e-02\n",
            "  -1.39476851e-01 -1.65948961e-02 -1.88044235e-01  3.08131754e-01\n",
            "  -8.89550671e-02  3.55371647e-02  2.81472728e-02  2.51852810e-01\n",
            "   6.57926276e-02  3.00561059e-02  2.44873136e-01  9.07149538e-02\n",
            "   3.69905867e-02 -1.23131853e-02  3.65403831e-01  1.19058095e-01\n",
            "   7.06030577e-02 -1.10293224e-01  9.66803953e-02 -8.08572844e-02]\n",
            " [-7.64342472e-02  1.53311536e-01  5.38105629e-02  4.81625408e-04\n",
            "   4.93276007e-02 -3.42022181e-01  1.90481722e-01  4.27588731e-01\n",
            "  -1.40779316e-01 -1.11394741e-01 -1.26137033e-01 -3.56318325e-01\n",
            "  -7.10643604e-02  5.75688258e-02 -9.10460427e-02 -1.68664396e-01\n",
            "   7.20682070e-02 -2.50356615e-01 -3.74911390e-02 -3.48123789e-01\n",
            "   1.62903368e-01  1.29954129e-01  1.90831140e-01 -2.43830353e-01\n",
            "  -3.18377726e-02 -3.27719115e-02 -2.13185489e-01 -1.04819849e-01\n",
            "  -2.16249540e-01  1.73232146e-02  2.32832402e-01  1.96088813e-02\n",
            "   1.25529408e-01 -1.56797603e-01 -1.60779823e-02  2.50494689e-01\n",
            "   4.56041768e-02 -1.19734824e-01 -5.61535656e-02 -4.45063591e-01\n",
            "   7.26689398e-02 -1.88114002e-01 -1.49545521e-01  1.12872094e-01\n",
            "   1.49907842e-01 -1.96458355e-01 -2.68227488e-01 -8.15773979e-02\n",
            "   8.97659957e-02  1.48579657e-01  7.45980814e-02 -2.16076449e-01\n",
            "  -4.72160652e-02 -5.74989826e-05 -1.46752968e-01  9.92218405e-02\n",
            "   1.59662262e-01 -5.84544353e-02 -1.28194466e-01  1.18246794e-01\n",
            "   1.59808293e-01  7.09656179e-02  4.86548897e-03 -2.62138210e-02\n",
            "  -3.94996136e-01  2.54713267e-01  1.10075228e-01  1.53344855e-01\n",
            "  -3.83618265e-01  3.46754760e-01 -2.06630066e-01  2.25863695e-01\n",
            "   2.21693769e-01 -6.05126843e-02  2.21722409e-01 -4.45917062e-03\n",
            "   4.54360507e-02 -5.60929533e-03 -1.94741681e-01  3.92128527e-02\n",
            "  -1.55697137e-01 -1.35370707e-02 -2.21114814e-01  3.38759899e-01\n",
            "  -9.85789523e-02  3.46017852e-02  3.20244692e-02  2.90774435e-01\n",
            "   7.05506802e-02  1.94294080e-02  2.82648981e-01  9.95780751e-02\n",
            "   4.64425981e-02 -2.13876404e-02  4.09541488e-01  1.31427079e-01\n",
            "   8.46497789e-02 -1.09869167e-01  1.05058260e-01 -9.79461819e-02]\n",
            " [-6.53493777e-02  1.61109865e-01  5.97285256e-02  1.36489170e-02\n",
            "   4.30818796e-02 -3.50270301e-01  2.02022538e-01  4.42886502e-01\n",
            "  -1.58065781e-01 -1.16902597e-01 -1.23921148e-01 -3.66277397e-01\n",
            "  -8.79758373e-02  5.90149984e-02 -8.62929672e-02 -1.83199301e-01\n",
            "   7.26495907e-02 -2.71626294e-01 -4.57186997e-02 -3.76077443e-01\n",
            "   1.59375682e-01  1.21570833e-01  1.85788944e-01 -2.58240491e-01\n",
            "  -6.03807867e-02 -3.12090907e-02 -2.35803932e-01 -1.05400600e-01\n",
            "  -2.03871340e-01  2.32338756e-02  2.42405891e-01  1.25907660e-02\n",
            "   1.13236576e-01 -1.60809860e-01 -1.64694414e-02  2.58997530e-01\n",
            "   3.99736464e-02 -1.16692461e-01 -7.09996521e-02 -4.78031307e-01\n",
            "   6.16214089e-02 -1.99191511e-01 -1.49062902e-01  1.24698207e-01\n",
            "   1.69206351e-01 -1.94414735e-01 -2.62842208e-01 -7.53850788e-02\n",
            "   9.30772573e-02  1.69687450e-01  7.47153684e-02 -2.23655269e-01\n",
            "  -4.66531366e-02  8.59279372e-03 -1.52660728e-01  1.03531085e-01\n",
            "   1.63170308e-01 -5.04762679e-02 -1.38342768e-01  1.20236933e-01\n",
            "   1.70248330e-01  7.97961354e-02  7.60891428e-03 -2.65518092e-02\n",
            "  -4.21219707e-01  2.66645789e-01  1.15125269e-01  1.69618532e-01\n",
            "  -3.97559762e-01  3.56060475e-01 -2.17484653e-01  2.47835428e-01\n",
            "   2.33900443e-01 -6.13465235e-02  2.43781537e-01 -3.93815292e-03\n",
            "   2.97828168e-02  6.47557620e-03 -1.88665718e-01  2.43974682e-02\n",
            "  -1.55717909e-01 -1.41517743e-02 -2.34361142e-01  3.43058169e-01\n",
            "  -7.72003308e-02  3.63700241e-02  2.92290691e-02  2.86923885e-01\n",
            "   9.16810483e-02  3.40029597e-02  2.94284135e-01  8.95739272e-02\n",
            "   4.05391790e-02 -6.54866500e-03  4.17032659e-01  1.14146970e-01\n",
            "   8.12445953e-02 -1.32191524e-01  1.01821914e-01 -9.79600102e-02]]\n"
          ]
        }
      ],
      "source": [
        "# Kata-kata yang ingin kita plot vektornya\n",
        "word_list = [ 'lancar', 'lihat', 'dunia', 'pasangan', 'akan', 'bego', 'bikin', 'ini']\n",
        "\n",
        "# daftar vektor dari kata-kata tersebut\n",
        "word_vectors = np.array([model_word2vec.wv[w] for w in word_list])\n",
        "print(word_vectors)"
      ]
    },
    {
      "cell_type": "code",
      "execution_count": 17,
      "metadata": {
        "id": "ysJV_W0nJK2v"
      },
      "outputs": [],
      "source": [
        "# Reduksi dimensi vektor ke 2D menggunakan PCA\n",
        "from sklearn.decomposition import PCA, KernelPCA\n",
        "\n",
        "dimred = PCA(n_components=2, copy=False, whiten=True)\n",
        "red_word_vectors = dimred.fit_transform(word_vectors)"
      ]
    },
    {
      "cell_type": "code",
      "execution_count": 18,
      "metadata": {
        "colab": {
          "base_uri": "https://localhost:8080/"
        },
        "id": "cNwyXzGTJOLI",
        "outputId": "1b41dcc3-da1f-46f9-cb77-5f54555f7a4e"
      },
      "outputs": [
        {
          "output_type": "execute_result",
          "data": {
            "text/plain": [
              "array([[ 0.6493494 ,  0.2314753 ],\n",
              "       [ 1.4527593 , -0.57214874],\n",
              "       [-0.8754732 , -1.3639507 ],\n",
              "       [ 0.99153143,  1.0130415 ],\n",
              "       [-0.72699386, -0.66349167],\n",
              "       [ 0.45051375, -0.15415831],\n",
              "       [-0.74535704, -0.2772661 ],\n",
              "       [-1.19633   ,  1.7865013 ]], dtype=float32)"
            ]
          },
          "metadata": {},
          "execution_count": 18
        }
      ],
      "source": [
        "# Lihat vektor hasil PCA (dari 5 dimensi menjadi 2 dimensi)\n",
        "red_word_vectors"
      ]
    },
    {
      "cell_type": "code",
      "execution_count": 19,
      "metadata": {
        "id": "vT9b73NSJZl-"
      },
      "outputs": [],
      "source": [
        "def plot(datas, labels, fc='yellow'):\n",
        "  # plot the dots\n",
        "  plt.subplots_adjust(bottom = 0.1)\n",
        "  plt.scatter(datas[:, 0], datas[:, 1], marker='o')\n",
        "\n",
        "  # annotate labels\n",
        "  for label, x, y in zip(labels, datas[:, 0], datas[:, 1]):\n",
        "    plt.annotate(label, \\\n",
        "                 xy=(x, y), xytext=(-15, 15), \\\n",
        "                 textcoords='offset points', ha='right', va='bottom', \\\n",
        "                 bbox=dict(boxstyle='round,pad=0.3', fc=fc, alpha=0.5), \\\n",
        "                 arrowprops=dict(arrowstyle = '->', connectionstyle='arc3,rad=0'))\n",
        "  plt.show()"
      ]
    },
    {
      "cell_type": "code",
      "execution_count": 20,
      "metadata": {
        "colab": {
          "base_uri": "https://localhost:8080/",
          "height": 452
        },
        "id": "0Q_H6z_GJee1",
        "outputId": "37bb3999-0552-43b3-d68f-1a646573aeae"
      },
      "outputs": [
        {
          "output_type": "display_data",
          "data": {
            "text/plain": [
              "<Figure size 640x480 with 1 Axes>"
            ],
            "image/png": "[encoded data removed]"
          },
          "metadata": {}
        }
      ],
      "source": [
        "plot(red_word_vectors, word_list)"
      ]
    },
    {
      "cell_type": "markdown",
      "metadata": {
        "id": "e-VtlhAYHZXo"
      },
      "source": [
        "## FastText (Pre-Trained Model)\n",
        "Pada contoh Word2Vec diatas, kita melatih suatu shallow neural network pada dataset SMS spam untuk mendapatkan word vectors. Pada contoh FastText ini, kita akan memanfaatkan pre-trained word vector yang sudah dilatih pada kumpulan data yang besar."
      ]
    },
    {
      "cell_type": "code",
      "execution_count": 21,
      "metadata": {
        "id": "XOVDbxwKHcB_",
        "colab": {
          "base_uri": "https://localhost:8080/"
        },
        "outputId": "1384b3df-f82a-4acf-b452-dfcad4cbef59"
      },
      "outputs": [
        {
          "output_type": "stream",
          "name": "stdout",
          "text": [
            "\u001b[?25l     \u001b[90m━━━━━━━━━━━━━━━━━━━━━━━━━━━━━━━━━━━━━━━━\u001b[0m \u001b[32m0.0/68.8 KB\u001b[0m \u001b[31m?\u001b[0m eta \u001b[36m-:--:--\u001b[0m\r\u001b[2K     \u001b[90m━━━━━━━━━━━━━━━━━━━━━━━━━━━━━━━━━━━━━━━━\u001b[0m \u001b[32m68.8/68.8 KB\u001b[0m \u001b[31m3.3 MB/s\u001b[0m eta \u001b[36m0:00:00\u001b[0m\n",
            "\u001b[?25h  Preparing metadata (setup.py) ... \u001b[?25l\u001b[?25hdone\n",
            "  Building wheel for fasttext (setup.py) ... \u001b[?25l\u001b[?25hdone\n"
          ]
        }
      ],
      "source": [
        "!pip -q install fasttext"
      ]
    },
    {
      "cell_type": "code",
      "execution_count": 22,
      "metadata": {
        "colab": {
          "base_uri": "https://localhost:8080/"
        },
        "id": "_czd_wVmJ4i0",
        "outputId": "4cd4ae78-b3e2-4172-f31d-5c485068680f"
      },
      "outputs": [
        {
          "output_type": "stream",
          "name": "stdout",
          "text": [
            "--2023-04-10 14:34:27--  https://dl.fbaipublicfiles.com/fasttext/vectors-crawl/cc.en.300.bin.gz\n",
            "Resolving dl.fbaipublicfiles.com (dl.fbaipublicfiles.com)... 99.84.160.46, 99.84.160.61, 99.84.160.80, ...\n",
            "Connecting to dl.fbaipublicfiles.com (dl.fbaipublicfiles.com)|99.84.160.46|:443... connected.\n",
            "HTTP request sent, awaiting response... 200 OK\n",
            "Length: 4503593528 (4.2G) [application/octet-stream]\n",
            "Saving to: ‘cc.en.300.bin.gz’\n",
            "\n",
            "cc.en.300.bin.gz    100%[===================>]   4.19G   115MB/s    in 28s     \n",
            "\n",
            "2023-04-10 14:34:56 (152 MB/s) - ‘cc.en.300.bin.gz’ saved [4503593528/4503593528]\n",
            "\n"
          ]
        }
      ],
      "source": [
        "# Download dan unzip dataset\n",
        "# Warning: proses download lama dan memakan diskspace yang besar (sekitar 7GB)\n",
        "!wget https://dl.fbaipublicfiles.com/fasttext/vectors-crawl/cc.en.300.bin.gz\n",
        "!gunzip cc.en.300.bin.gz"
      ]
    },
    {
      "cell_type": "code",
      "execution_count": 23,
      "metadata": {
        "colab": {
          "base_uri": "https://localhost:8080/"
        },
        "id": "_59NPDEzKJII",
        "outputId": "23e6e764-e5aa-4465-a478-f056bb071f19"
      },
      "outputs": [
        {
          "output_type": "stream",
          "name": "stderr",
          "text": [
            "Warning : `load_model` does not return WordVectorModel or SupervisedModel any more, but a `FastText` object which is very similar.\n"
          ]
        }
      ],
      "source": [
        "import fasttext\n",
        "\n",
        "# Load model FastText\n",
        "ft_model = fasttext.load_model(\"cc.en.300.bin\")"
      ]
    },
    {
      "cell_type": "code",
      "execution_count": 24,
      "metadata": {
        "colab": {
          "base_uri": "https://localhost:8080/"
        },
        "id": "7SdjSG5nKTME",
        "outputId": "785825b2-7a32-4f53-f05f-a63f6de66bad"
      },
      "outputs": [
        {
          "output_type": "stream",
          "name": "stdout",
          "text": [
            "[ 2.42450818e-01  6.32418990e-02 -2.45161593e-01 -2.05890033e-02\n",
            "  1.27277663e-02 -2.59373933e-02 -5.21341106e-03  1.34514064e-01\n",
            " -7.64094889e-02 -1.27056867e-01 -3.62890095e-01  1.35297015e-01\n",
            " -2.20065042e-01  4.24842089e-02  5.29587716e-02 -5.98831475e-03\n",
            " -1.18865341e-01 -1.11841932e-02 -1.89194083e-01  9.99911427e-02\n",
            " -1.38888493e-01 -1.43801555e-01  3.54859829e-02  2.61899345e-02\n",
            "  7.98116624e-02 -2.10437085e-02  1.62220910e-01  2.04768270e-01\n",
            " -4.82459366e-02  3.53048742e-01  6.50913566e-02 -1.86739832e-01\n",
            "  9.31903869e-02  1.04058556e-01  7.56956041e-02  1.09482139e-01\n",
            " -2.19687968e-02  5.79392910e-03 -1.71332240e-01 -2.85581052e-02\n",
            " -9.43390056e-02  9.69993919e-02  3.57175134e-02  1.92339525e-01\n",
            "  9.95140076e-02  7.67444894e-02  5.52244596e-02  8.53588283e-02\n",
            "  5.07597020e-03 -5.01559814e-03  5.16012125e-02 -9.66108441e-02\n",
            " -4.21354286e-02  2.49160469e-01 -1.68842122e-01 -1.33448988e-01\n",
            "  6.80803657e-02 -7.95789957e-02  1.73364818e-01  9.08781141e-02\n",
            "  7.88191110e-02  3.66272368e-02  1.64687783e-01  2.68210676e-02\n",
            " -3.29665214e-01  1.37140736e-01  1.39860347e-01  1.33420065e-01\n",
            " -1.05828151e-01 -1.88849151e-01  1.76478729e-01  1.38512790e-01\n",
            " -2.26088297e-02  2.49701425e-01  7.16141379e-03  2.64825728e-02\n",
            "  1.31486505e-01 -9.47324932e-02  1.17763486e-02 -6.97166249e-02\n",
            "  1.40887350e-01  2.50973880e-01  4.78849327e-03  3.95635050e-03\n",
            " -6.97234645e-02  4.85501848e-02 -2.03632023e-02  1.10304207e-01\n",
            "  6.20524101e-02 -1.23707384e-01 -2.79894441e-01 -1.69865170e-03\n",
            "  1.75420996e-02  4.36840467e-02 -2.68422849e-02 -1.69816256e-01\n",
            "  8.62115156e-03  1.43765524e-01  1.95300784e-02 -6.10619001e-02\n",
            " -4.84477803e-02  1.63342208e-02 -1.00827932e-01  2.75172293e-02\n",
            "  5.84067032e-02  1.09944209e-01  1.61332071e-01 -1.89962476e-01\n",
            " -1.69466659e-01  8.99599120e-02  6.18601858e-04  1.30736679e-01\n",
            "  1.12261651e-02  3.87059748e-02  4.24157605e-02  6.61555082e-02\n",
            " -1.83303416e-01 -1.41805811e-02  6.91982135e-02  1.33135200e-01\n",
            "  1.08029217e-01  1.63577139e-01  5.53682707e-02  5.37487529e-02\n",
            "  2.05740184e-01  5.60507178e-02 -1.82669938e-01  6.32730275e-02\n",
            "  1.13082074e-01 -1.61665857e-01  1.15581453e-02  2.16442883e-01\n",
            " -1.30418897e-01 -2.18128171e-02  2.93349978e-02 -3.32040042e-02\n",
            "  4.17612260e-03  9.78753250e-03  1.07649621e-02  1.63666174e-01\n",
            " -4.91191726e-03  3.25901099e-02  5.13929129e-02  1.08164363e-01\n",
            " -8.05588439e-02 -1.32976010e-01 -2.60240078e-01 -2.27582958e-02\n",
            "  5.06471982e-03 -5.23607573e-03 -1.70590244e-02  6.88281059e-02\n",
            " -2.63379551e-02 -2.28958234e-01 -6.78709242e-03  7.78222233e-02\n",
            " -1.48741096e-01 -7.16169253e-02 -1.43407388e-02 -1.25831112e-01\n",
            " -1.50646211e-03 -2.32396409e-01  1.82283252e-01 -2.53161192e-01\n",
            " -4.02157046e-02  7.58260265e-02  1.77831054e-02 -2.63862740e-02\n",
            " -7.40705198e-03 -7.08677843e-02  1.72719285e-01 -1.25581771e-02\n",
            "  6.44003451e-02 -4.58488725e-02  9.80769247e-02  1.35817248e-02\n",
            "  2.42763504e-01  1.50885880e-01  6.27142726e-04  2.86745846e-01\n",
            "  7.04201823e-03  6.80698380e-02  1.76938158e-02 -1.29426271e-01\n",
            " -8.35863277e-02 -9.65133533e-02  9.88614410e-02  1.09223783e-01\n",
            "  2.38884926e-01 -2.37155668e-02 -6.93111718e-02  2.94719450e-02\n",
            "  1.20625477e-02 -9.33136195e-02 -5.39899692e-02  5.45682125e-02\n",
            " -9.72564667e-02  1.35176882e-01 -6.08348399e-02  3.13067213e-02\n",
            " -4.38215584e-02  1.04628645e-01 -1.65422931e-01  5.40140532e-02\n",
            " -2.01111540e-01 -2.36325245e-02  6.74505457e-02 -1.56182066e-01\n",
            " -1.32847294e-01 -5.46170920e-02 -8.95291418e-02 -5.66412210e-02\n",
            "  1.52070401e-02  2.09939942e-01 -1.41309816e-02 -1.50137290e-01\n",
            "  9.04334411e-02  5.36519252e-02  2.78487444e-01 -5.87511472e-02\n",
            " -8.52563530e-02 -9.15996656e-02  1.01344131e-01 -2.02832132e-04\n",
            " -3.32318008e-01 -2.58358028e-02 -1.25585705e-01 -1.22612268e-01\n",
            " -1.92342661e-02  2.62225211e-01  8.06513652e-02 -1.27303779e-01\n",
            "  9.71472543e-03  3.75231281e-02 -1.03320591e-01  8.94097388e-02\n",
            "  1.30043909e-01  1.15269475e-01  6.14318103e-02 -1.26257911e-02\n",
            "  2.25224614e-01 -1.45759135e-01  2.59343833e-01 -6.58992678e-02\n",
            "  2.69328415e-01 -8.44174158e-03  5.54468408e-02  8.84931013e-02\n",
            " -8.06078687e-02  1.37046352e-01 -2.74485290e-01 -5.70252351e-02\n",
            " -9.02475342e-02  1.77518517e-01  1.82485759e-01 -1.59082353e-01\n",
            " -4.61416990e-02  7.26981014e-02 -8.97256583e-02  9.57750976e-02\n",
            " -1.11849140e-02 -8.16330165e-02 -6.27678335e-02 -7.95078874e-02\n",
            " -5.50887249e-02 -8.88837688e-03 -3.91196795e-02 -4.94873933e-02\n",
            " -5.18946648e-02  1.63249597e-01 -3.99598069e-02 -2.05689281e-01\n",
            "  1.79298073e-02  1.46620376e-02  3.13694850e-02  1.11320160e-01\n",
            " -1.38921976e-01  3.85449752e-02 -3.17289867e-02 -5.23811355e-02\n",
            " -4.97110840e-03 -4.90604267e-02 -6.63511902e-02 -8.61517042e-02\n",
            "  2.38464743e-01  2.81819738e-02  6.66561127e-02 -7.92551935e-02\n",
            "  9.96000767e-02 -1.28326580e-01 -2.24348586e-02 -4.81430441e-04\n",
            " -1.55377895e-01  1.87840164e-01 -1.24235451e-01 -7.36820102e-02\n",
            " -1.59701824e-01  2.54057318e-01 -1.77696738e-02  1.86333880e-02]\n"
          ]
        }
      ],
      "source": [
        "# Lihat vektor kata tertentu menggunakan pre-trained FastText\n",
        "print(ft_model['anak'])"
      ]
    },
    {
      "cell_type": "markdown",
      "metadata": {
        "id": "SEBo5UqqKIXC"
      },
      "source": [
        "# 06 Deep Learning for NLP"
      ]
    },
    {
      "cell_type": "markdown",
      "metadata": {
        "id": "AKAd26_gLTyy"
      },
      "source": [
        "## Long short term memory network (LSTM)"
      ]
    },
    {
      "cell_type": "markdown",
      "source": [
        "### Memilih Panjang Sequence (max_length)"
      ],
      "metadata": {
        "id": "jr_1GUyJ28Jc"
      }
    },
    {
      "cell_type": "code",
      "source": [
        "'''\n",
        "Ada banyak cara untuk menentukan max_length\n",
        "Intuisinya adalah kita tidak ingin memotong kalimat, atau terlalu banyak menambahkan padding (komputasi lebih lama)\n",
        "Contoh ini, max_lenght ditentukan dari distribusi token pada dataset \n",
        "'''\n",
        "token_lens = []\n",
        "\n",
        "for text in data['clean_teks']:\n",
        "    tokens = text.split()\n",
        "    token_lens.append(len(tokens))\n",
        "\n",
        "plt.figure(figsize=(8, 5))\n",
        "sns.histplot(token_lens, kde=True, stat='density', linewidth=0)\n",
        "plt.xlim([0, 100]);\n",
        "plt.xlabel('Token count');"
      ],
      "metadata": {
        "colab": {
          "base_uri": "https://localhost:8080/",
          "height": 465
        },
        "id": "7sVbdnBN2-lq",
        "outputId": "78a3dbb6-db68-4a00-8d3a-8e6d95902a21"
      },
      "execution_count": 25,
      "outputs": [
        {
          "output_type": "display_data",
          "data": {
            "text/plain": [
              "<Figure size 800x500 with 1 Axes>"
            ],
            "image/png": "[encoded data removed]"
          },
          "metadata": {}
        }
      ]
    },
    {
      "cell_type": "code",
      "source": [
        "MAX_SEQ_LENGTH = 100"
      ],
      "metadata": {
        "id": "m93njp474hWJ"
      },
      "execution_count": 26,
      "outputs": []
    },
    {
      "cell_type": "markdown",
      "source": [
        "### Preparing Data for Embedding Layer"
      ],
      "metadata": {
        "id": "9F_BYlnG3Toc"
      }
    },
    {
      "cell_type": "markdown",
      "source": [
        "#### Tokenizing Data\n",
        "Proses ini berbeda dengan tokenization pada text-preprocessing. Pada pemodelan dengan deep learning, tokenization merujuk pada membuat dictionary berdasarkan dataset."
      ],
      "metadata": {
        "id": "Y-wD1FsA3fY0"
      }
    },
    {
      "cell_type": "code",
      "source": [
        "'''\n",
        "Proses vektorisasi teks dengan mengubah setiap teks menjadi token urutan bilangan int (setiap bilangan int menjadi indeks token dalam dictionary) \n",
        "'''\n",
        "from keras.preprocessing.text import Tokenizer"
      ],
      "metadata": {
        "id": "025eB7383n8g"
      },
      "execution_count": 27,
      "outputs": []
    },
    {
      "cell_type": "code",
      "source": [
        "NUM_WORDS = 100       # Frekuensi kemunculan kata. Hanya num_words-1 yang akan disimpan pada dictionary. Berarti kata dengan kemunculan <=num_words tidak digunakan.\n",
        "OOV_TOKEN = '<unk>'   # Token khusus untuk mengganti kata yang tidak terdaftar dalam dictionary.\n",
        "\n",
        "tokenizer = Tokenizer(num_words=NUM_WORDS, oov_token=OOV_TOKEN, lower=True, split=' ')\n",
        "tokenizer.fit_on_texts(data['clean_teks'])\n",
        "\n",
        "# Tambahkan token padding untuk menyamakan ukuran dimensi embedding layer\n",
        "tokenizer.word_index['<pad>'] = 0\n",
        "tokenizer.index_word[0] = '<pad>'\n",
        "\n",
        "WV_DICTIONARY = tokenizer.word_index\n",
        "\n",
        "WV_DICTIONARY_SIZE = len(WV_DICTIONARY)\n",
        "print(WV_DICTIONARY_SIZE) # Lihat kata unik pada dictionary yang dihasilkan"
      ],
      "metadata": {
        "colab": {
          "base_uri": "https://localhost:8080/"
        },
        "id": "M2E5MTvs3ezp",
        "outputId": "7c65ca19-4d72-414a-d85f-0db152bdccde"
      },
      "execution_count": 28,
      "outputs": [
        {
          "output_type": "stream",
          "name": "stdout",
          "text": [
            "3224\n"
          ]
        }
      ]
    },
    {
      "cell_type": "code",
      "source": [
        "# Lihat dictionary hasil tokenisasi\n",
        "WV_DICTIONARY"
      ],
      "metadata": {
        "colab": {
          "base_uri": "https://localhost:8080/"
        },
        "id": "HfMaJuoc4Oez",
        "outputId": "2d1e5ca4-4885-455a-bd88-a85b129b9041"
      },
      "execution_count": 29,
      "outputs": [
        {
          "output_type": "execute_result",
          "data": {
            "text/plain": [
              "{'<unk>': 1,\n",
              " 'yg': 2,\n",
              " 'di': 3,\n",
              " 'dan': 4,\n",
              " 'username': 5,\n",
              " 'nya': 6,\n",
              " 'ya': 7,\n",
              " 'ga': 8,\n",
              " 'dia': 9,\n",
              " 'sama': 10,\n",
              " 'aja': 11,\n",
              " 'gak': 12,\n",
              " 'ini': 13,\n",
              " 'itu': 14,\n",
              " 'yang': 15,\n",
              " 'ada': 16,\n",
              " 'anak': 17,\n",
              " 'orang': 18,\n",
              " 'banget': 19,\n",
              " 'si': 20,\n",
              " 'artis': 21,\n",
              " 'org': 22,\n",
              " 'semoga': 23,\n",
              " 'jadi': 24,\n",
              " 'cantik': 25,\n",
              " 'bgt': 26,\n",
              " 'jd': 27,\n",
              " 'kaya': 28,\n",
              " 'juga': 29,\n",
              " 'apa': 30,\n",
              " 'buat': 31,\n",
              " 'udah': 32,\n",
              " 'punya': 33,\n",
              " 'kalo': 34,\n",
              " 'saya': 35,\n",
              " 'suka': 36,\n",
              " 'mba': 37,\n",
              " 'bisa': 38,\n",
              " 'klo': 39,\n",
              " 'ibu': 40,\n",
              " 'sm': 41,\n",
              " 'baik': 42,\n",
              " 'kan': 43,\n",
              " 'lagi': 44,\n",
              " 'suami': 45,\n",
              " 'lo': 46,\n",
              " 'lebih': 47,\n",
              " 'selalu': 48,\n",
              " 'sih': 49,\n",
              " 'ke': 50,\n",
              " 'mau': 51,\n",
              " 'lu': 52,\n",
              " 'allah': 53,\n",
              " 'mbak': 54,\n",
              " 'tau': 55,\n",
              " 'laki': 56,\n",
              " 'jg': 57,\n",
              " 'biar': 58,\n",
              " 'udh': 59,\n",
              " 'pelakor': 60,\n",
              " 'istri': 61,\n",
              " 'keluarga': 62,\n",
              " 'n': 63,\n",
              " 'pake': 64,\n",
              " 'lah': 65,\n",
              " 'deh': 66,\n",
              " 'bagus': 67,\n",
              " 'tp': 68,\n",
              " 'nikah': 69,\n",
              " 'sok': 70,\n",
              " 'sangat': 71,\n",
              " 'kita': 72,\n",
              " 'ama': 73,\n",
              " 'tapi': 74,\n",
              " 'manusia': 75,\n",
              " 'dari': 76,\n",
              " 'gue': 77,\n",
              " 'bilang': 78,\n",
              " 'bukan': 79,\n",
              " 'ganteng': 80,\n",
              " 'sehat': 81,\n",
              " 'skrg': 82,\n",
              " 'becus': 83,\n",
              " 'ayu': 84,\n",
              " 'malah': 85,\n",
              " 'banyak': 86,\n",
              " 'perempuan': 87,\n",
              " 'lg': 88,\n",
              " 'anaknya': 89,\n",
              " 'suaranya': 90,\n",
              " 'atau': 91,\n",
              " 'mereka': 92,\n",
              " 'sendiri': 93,\n",
              " 'dunia': 94,\n",
              " 'pernah': 95,\n",
              " 'baru': 96,\n",
              " 'tuh': 97,\n",
              " 'kali': 98,\n",
              " 'dr': 99,\n",
              " 'gitu': 100,\n",
              " 'dasar': 101,\n",
              " 'mah': 102,\n",
              " 'jangan': 103,\n",
              " 'keren': 104,\n",
              " 'otak': 105,\n",
              " 'kok': 106,\n",
              " 'bener': 107,\n",
              " 'd': 108,\n",
              " 'bikin': 109,\n",
              " 'emang': 110,\n",
              " 'biasa': 111,\n",
              " 'kalau': 112,\n",
              " 'dengan': 113,\n",
              " 'semua': 114,\n",
              " 'pasti': 115,\n",
              " 'masih': 116,\n",
              " 'bego': 117,\n",
              " 'pada': 118,\n",
              " 'ni': 119,\n",
              " 'bahagia': 120,\n",
              " 'aurel': 121,\n",
              " 'att': 122,\n",
              " 'aku': 123,\n",
              " 'jijik': 124,\n",
              " 'mukanya': 125,\n",
              " 'liat': 126,\n",
              " 'cuma': 127,\n",
              " 'kampungan': 128,\n",
              " 'gw': 129,\n",
              " 'menjadi': 130,\n",
              " 'jevin': 131,\n",
              " 'kek': 132,\n",
              " 'siapa': 133,\n",
              " 'jaman': 134,\n",
              " 'malu': 135,\n",
              " 'akan': 136,\n",
              " 'yaa': 137,\n",
              " 'tidak': 138,\n",
              " 'ny': 139,\n",
              " 'muda': 140,\n",
              " 'kayak': 141,\n",
              " 'jgn': 142,\n",
              " 'y': 143,\n",
              " 'tu': 144,\n",
              " 'gk': 145,\n",
              " 'diri': 146,\n",
              " 'krn': 147,\n",
              " 'mana': 148,\n",
              " 'nih': 149,\n",
              " 'ma': 150,\n",
              " 'gua': 151,\n",
              " 'aj': 152,\n",
              " 'g': 153,\n",
              " 'jelek': 154,\n",
              " 'ngomong': 155,\n",
              " 'dong': 156,\n",
              " 'bs': 157,\n",
              " 'karna': 158,\n",
              " 'suara': 159,\n",
              " 'gini': 160,\n",
              " 'muka': 161,\n",
              " 'lonte': 162,\n",
              " 'banci': 163,\n",
              " 'dlm': 164,\n",
              " 'tenar': 165,\n",
              " 'paling': 166,\n",
              " 'dah': 167,\n",
              " 'via': 168,\n",
              " 'pinter': 169,\n",
              " 'lain': 170,\n",
              " 'sukses': 171,\n",
              " 'dgn': 172,\n",
              " 'lama': 173,\n",
              " 'lagu': 174,\n",
              " 'indonesia': 175,\n",
              " 'coba': 176,\n",
              " 'sampe': 177,\n",
              " 'nanti': 178,\n",
              " 'cowok': 179,\n",
              " 'bapak': 180,\n",
              " 'nagita': 181,\n",
              " 'laku': 182,\n",
              " 'komen': 183,\n",
              " 'amat': 184,\n",
              " 'kamu': 185,\n",
              " 'bangga': 186,\n",
              " 'hati': 187,\n",
              " 'hamil': 188,\n",
              " 'kyk': 189,\n",
              " 'enji': 190,\n",
              " 'langsung': 191,\n",
              " 'bunda': 192,\n",
              " 'pas': 193,\n",
              " 'kasih': 194,\n",
              " 'pasangan': 195,\n",
              " 'dy': 196,\n",
              " 'kak': 197,\n",
              " 'bu': 198,\n",
              " 'pak': 199,\n",
              " 'rini': 200,\n",
              " 'tolol': 201,\n",
              " 'kasian': 202,\n",
              " 'terus': 203,\n",
              " 'harus': 204,\n",
              " 'namanya': 205,\n",
              " 'kami': 206,\n",
              " 'bodoh': 207,\n",
              " 'buruk': 208,\n",
              " 'sah': 209,\n",
              " 'eh': 210,\n",
              " 'now': 211,\n",
              " 'micin': 212,\n",
              " 'kata': 213,\n",
              " 'iya': 214,\n",
              " 'kalian': 215,\n",
              " 'emg': 216,\n",
              " 'yah': 217,\n",
              " 'makin': 218,\n",
              " 'macam': 219,\n",
              " 'mulu': 220,\n",
              " 'pengen': 221,\n",
              " 'gt': 222,\n",
              " 'jelas': 223,\n",
              " 'lihat': 224,\n",
              " 'hatinya': 225,\n",
              " 'untuk': 226,\n",
              " 'karena': 227,\n",
              " 'cocok': 228,\n",
              " 'bngt': 229,\n",
              " 'mungkin': 230,\n",
              " 'dulu': 231,\n",
              " 'nyanyi': 232,\n",
              " 'padahal': 233,\n",
              " 'trs': 234,\n",
              " 'dri': 235,\n",
              " 'rumah': 236,\n",
              " 'seperti': 237,\n",
              " 'min': 238,\n",
              " 'mata': 239,\n",
              " 'masa': 240,\n",
              " 'blm': 241,\n",
              " 'kl': 242,\n",
              " 'salut': 243,\n",
              " 'lancar': 244,\n",
              " 'langgeng': 245,\n",
              " 'depe': 246,\n",
              " 'benci': 247,\n",
              " 'gimana': 248,\n",
              " 'balajaer': 249,\n",
              " 'loh': 250,\n",
              " 'tdk': 251,\n",
              " 'pny': 252,\n",
              " 'menurut': 253,\n",
              " 'agama': 254,\n",
              " 'adanya': 255,\n",
              " 'mas': 256,\n",
              " 'yak': 257,\n",
              " 'situ': 258,\n",
              " 'kebanyakan': 259,\n",
              " 'liatnya': 260,\n",
              " 'hal': 261,\n",
              " 'lbh': 262,\n",
              " 'anjing': 263,\n",
              " 'munafik': 264,\n",
              " 'tuhan': 265,\n",
              " 'dlu': 266,\n",
              " 'cucu': 267,\n",
              " 'ttp': 268,\n",
              " 'luar': 269,\n",
              " 'tetep': 270,\n",
              " 'cewe': 271,\n",
              " 'bawa': 272,\n",
              " 'trus': 273,\n",
              " 'jdi': 274,\n",
              " 'cara': 275,\n",
              " 'orng': 276,\n",
              " 'jujur': 277,\n",
              " 'msh': 278,\n",
              " 'wajar': 279,\n",
              " 'penting': 280,\n",
              " 'usah': 281,\n",
              " 'netizen': 282,\n",
              " 'yakin': 283,\n",
              " 'berani': 284,\n",
              " 'kenapa': 285,\n",
              " 'amit': 286,\n",
              " 'hidup': 287,\n",
              " 'sedih': 288,\n",
              " 'lucu': 289,\n",
              " 'keliatan': 290,\n",
              " 'jodoh': 291,\n",
              " 'semakin': 292,\n",
              " 'ngga': 293,\n",
              " 'swt': 294,\n",
              " 'suaminya': 295,\n",
              " 'salam': 296,\n",
              " 'amin': 297,\n",
              " 'saat': 298,\n",
              " 'bpk': 299,\n",
              " 'mb': 300,\n",
              " 'the': 301,\n",
              " 'kmrn': 302,\n",
              " 'ajah': 303,\n",
              " 'cari': 304,\n",
              " 'sensasi': 305,\n",
              " 'berarti': 306,\n",
              " 'bela': 307,\n",
              " 'sdh': 308,\n",
              " 'janda': 309,\n",
              " 'hanya': 310,\n",
              " 'makeup': 311,\n",
              " 'cewek': 312,\n",
              " 'bnyk': 313,\n",
              " 'kliatan': 314,\n",
              " 'loe': 315,\n",
              " 'dg': 316,\n",
              " 'mirip': 317,\n",
              " 'asli': 318,\n",
              " 'bencong': 319,\n",
              " 'sekolah': 320,\n",
              " 'akhirat': 321,\n",
              " 'ketemu': 322,\n",
              " 'tolong': 323,\n",
              " 'dikit': 324,\n",
              " 'wah': 325,\n",
              " 'umur': 326,\n",
              " 'bakal': 327,\n",
              " 'dewasa': 328,\n",
              " 'nyinyir': 329,\n",
              " 'sudah': 330,\n",
              " 'mulutnya': 331,\n",
              " 'norak': 332,\n",
              " 'begini': 333,\n",
              " 'curhat': 334,\n",
              " 'otaknya': 335,\n",
              " 'goblok': 336,\n",
              " 'ko': 337,\n",
              " 'sosmed': 338,\n",
              " 'agnes': 339,\n",
              " 'elu': 340,\n",
              " 'hahaha': 341,\n",
              " 'dpt': 342,\n",
              " 'tua': 343,\n",
              " 'drpd': 344,\n",
              " 'hehe': 345,\n",
              " 'yaaa': 346,\n",
              " 'tangga': 347,\n",
              " 'ting': 348,\n",
              " 'gigi': 349,\n",
              " 'alhamdulillah': 350,\n",
              " 'putus': 351,\n",
              " 'pesawat': 352,\n",
              " 'akun': 353,\n",
              " 'bakalan': 354,\n",
              " 'nonton': 355,\n",
              " 'wanita': 356,\n",
              " 'sayang': 357,\n",
              " 'dapet': 358,\n",
              " 'sekali': 359,\n",
              " 'perlu': 360,\n",
              " 'enak': 361,\n",
              " 'sabar': 362,\n",
              " 'raisa': 363,\n",
              " 'beruntung': 364,\n",
              " 'sukak': 365,\n",
              " 'semangat': 366,\n",
              " 'waktu': 367,\n",
              " 'neko': 368,\n",
              " 'dewi': 369,\n",
              " 'slalu': 370,\n",
              " 'mami': 371,\n",
              " 'radhini': 372,\n",
              " 'kandung': 373,\n",
              " 'asal': 374,\n",
              " 'ertong': 375,\n",
              " 'lakinya': 376,\n",
              " 'mending': 377,\n",
              " 'ig': 378,\n",
              " 'laknat': 379,\n",
              " 'smua': 380,\n",
              " 'kelakuan': 381,\n",
              " 'sakit': 382,\n",
              " 'besar': 383,\n",
              " 'panutan': 384,\n",
              " 'murahan': 385,\n",
              " 'pacar': 386,\n",
              " 'kids': 387,\n",
              " 'ciuman': 388,\n",
              " 'suci': 389,\n",
              " 'adalah': 390,\n",
              " 'rasa': 391,\n",
              " 'katanya': 392,\n",
              " 'ampun': 393,\n",
              " 'taik': 394,\n",
              " 'ih': 395,\n",
              " 'baju': 396,\n",
              " 'sampah': 397,\n",
              " 'gila': 398,\n",
              " 'smpe': 399,\n",
              " 'mulut': 400,\n",
              " 'pemimpin': 401,\n",
              " 'marah': 402,\n",
              " 'mudahan': 403,\n",
              " 'babi': 404,\n",
              " 'ah': 405,\n",
              " 'gatel': 406,\n",
              " 'smoga': 407,\n",
              " 'selamat': 408,\n",
              " 'gtu': 409,\n",
              " 'gagal': 410,\n",
              " 'nama': 411,\n",
              " 'cepat': 412,\n",
              " 'nilai': 413,\n",
              " 'jga': 414,\n",
              " 'ngatain': 415,\n",
              " 'dese': 416,\n",
              " 'nyadar': 417,\n",
              " 'duh': 418,\n",
              " 'pdhl': 419,\n",
              " 'beda': 420,\n",
              " 'emng': 421,\n",
              " 'main': 422,\n",
              " 'karya': 423,\n",
              " 'apaan': 424,\n",
              " 'apalagi': 425,\n",
              " 'video': 426,\n",
              " 'generasi': 427,\n",
              " 'sumpah': 428,\n",
              " 'sana': 429,\n",
              " 'sini': 430,\n",
              " 'satu': 431,\n",
              " 'bnr': 432,\n",
              " 'abal': 433,\n",
              " 'enggk': 434,\n",
              " 'kere': 435,\n",
              " 'perebut': 436,\n",
              " 'karma': 437,\n",
              " 'mu': 438,\n",
              " 'sempurna': 439,\n",
              " 'ceramah': 440,\n",
              " 'fans': 441,\n",
              " 'sekarang': 442,\n",
              " 'cinlok': 443,\n",
              " 'ngaku': 444,\n",
              " 'kenal': 445,\n",
              " 'milih': 446,\n",
              " 'percaya': 447,\n",
              " 'kangen': 448,\n",
              " 'kador': 449,\n",
              " 'terima': 450,\n",
              " 'kecil': 451,\n",
              " 'mulan': 452,\n",
              " 'sirik': 453,\n",
              " 'nyonyiah': 454,\n",
              " 'jawab': 455,\n",
              " 'sesuai': 456,\n",
              " 'ikut': 457,\n",
              " 'happy': 458,\n",
              " 'wajahnya': 459,\n",
              " 'hamish': 460,\n",
              " 'mbk': 461,\n",
              " 'hebat': 462,\n",
              " 'samawa': 463,\n",
              " 'dalam': 464,\n",
              " 'go': 465,\n",
              " 'syg': 466,\n",
              " 'calon': 467,\n",
              " 'apapun': 468,\n",
              " 'ia': 469,\n",
              " 'nyaa': 470,\n",
              " 'bella': 471,\n",
              " 'gojek': 472,\n",
              " 'hubungan': 473,\n",
              " 'kya': 474,\n",
              " 'top': 475,\n",
              " 'berkualitas': 476,\n",
              " 'perasaan': 477,\n",
              " 'toh': 478,\n",
              " 'ngurus': 479,\n",
              " 'para': 480,\n",
              " 'asik': 481,\n",
              " 'rakyat': 482,\n",
              " 'syarat': 483,\n",
              " 'islam': 484,\n",
              " 'saksi': 485,\n",
              " 'emak': 486,\n",
              " 'ngerebut': 487,\n",
              " 'disini': 488,\n",
              " 'bibir': 489,\n",
              " 'lho': 490,\n",
              " 'dijaga': 491,\n",
              " 'zaman': 492,\n",
              " 'kau': 493,\n",
              " 'cuman': 494,\n",
              " 'uang': 495,\n",
              " 'ank': 496,\n",
              " 'najis': 497,\n",
              " 's': 498,\n",
              " 'ribut': 499,\n",
              " 'walaupun': 500,\n",
              " 'oplas': 501,\n",
              " 'dek': 502,\n",
              " 'wkwkwk': 503,\n",
              " 'supaya': 504,\n",
              " 'sebagai': 505,\n",
              " 'sederhana': 506,\n",
              " 'gaya': 507,\n",
              " 'makan': 508,\n",
              " 'mentang': 509,\n",
              " 'pula': 510,\n",
              " 'hormat': 511,\n",
              " 'buah': 512,\n",
              " 'busuk': 513,\n",
              " 'cowo': 514,\n",
              " 'kegatelan': 515,\n",
              " 'tante': 516,\n",
              " 'emas': 517,\n",
              " 'istrinya': 518,\n",
              " 'blg': 519,\n",
              " 'surga': 520,\n",
              " 'diluar': 521,\n",
              " 'hidupnya': 522,\n",
              " 'alasan': 523,\n",
              " 'telah': 524,\n",
              " 'rmh': 525,\n",
              " 'nggak': 526,\n",
              " 'makanya': 527,\n",
              " 'a': 528,\n",
              " 'status': 529,\n",
              " 'heran': 530,\n",
              " 'nyinyirin': 531,\n",
              " 'parah': 532,\n",
              " 'media': 533,\n",
              " 'nyindir': 534,\n",
              " 'knp': 535,\n",
              " 'hahahaha': 536,\n",
              " 'ampe': 537,\n",
              " 'la': 538,\n",
              " 'memang': 539,\n",
              " 'maju': 540,\n",
              " 'kaga': 541,\n",
              " 'foto': 542,\n",
              " 'dn': 543,\n",
              " 'model': 544,\n",
              " 'begitu': 545,\n",
              " 'mencari': 546,\n",
              " 'tak': 547,\n",
              " 'duit': 548,\n",
              " 'minta': 549,\n",
              " 'ntar': 550,\n",
              " 'mewah': 551,\n",
              " 'plagiat': 552,\n",
              " 'sprti': 553,\n",
              " 'japok': 554,\n",
              " 'cerita': 555,\n",
              " 'pantes': 556,\n",
              " 'mecin': 557,\n",
              " 'seolah': 558,\n",
              " 'sma': 559,\n",
              " 'babang': 560,\n",
              " 'kenyataan': 561,\n",
              " 'masyarakat': 562,\n",
              " 'kuat': 563,\n",
              " 'kuliah': 564,\n",
              " 'tpi': 565,\n",
              " 'lakik': 566,\n",
              " 'muljem': 567,\n",
              " 'lainnya': 568,\n",
              " 'mantan': 569,\n",
              " 'naik': 570,\n",
              " 'ngapain': 571,\n",
              " 'terlihat': 572,\n",
              " 'baca': 573,\n",
              " 'jaer': 574,\n",
              " 'bini': 575,\n",
              " 'ambil': 576,\n",
              " 'gada': 577,\n",
              " 'nah': 578,\n",
              " 'ibarat': 579,\n",
              " 'ksh': 580,\n",
              " 'daripada': 581,\n",
              " 'awal': 582,\n",
              " 'dirinya': 583,\n",
              " 'susah': 584,\n",
              " 'kampung': 585,\n",
              " 'mak': 586,\n",
              " 'beneran': 587,\n",
              " 'nanya': 588,\n",
              " 'gede': 589,\n",
              " 'terkenal': 590,\n",
              " 'saja': 591,\n",
              " 'sombong': 592,\n",
              " 'sist': 593,\n",
              " 'cireng': 594,\n",
              " 'bersama': 595,\n",
              " 'besok': 596,\n",
              " 'maaf': 597,\n",
              " 'pribadi': 598,\n",
              " 'dipamer': 599,\n",
              " 'amora': 600,\n",
              " 'kd': 601,\n",
              " 'sekeluarga': 602,\n",
              " 'wajah': 603,\n",
              " 'dengar': 604,\n",
              " 'setan': 605,\n",
              " 'acara': 606,\n",
              " 'segala': 607,\n",
              " 'insya': 608,\n",
              " 'tata': 609,\n",
              " 'memisahkan': 610,\n",
              " 'celine': 611,\n",
              " 'setiap': 612,\n",
              " 'presiden': 613,\n",
              " 'tanpa': 614,\n",
              " 'of': 615,\n",
              " 'you': 616,\n",
              " 'gagah': 617,\n",
              " 'hari': 618,\n",
              " 'lcb': 619,\n",
              " 'pun': 620,\n",
              " 'smg': 621,\n",
              " 'program': 622,\n",
              " 'agar': 623,\n",
              " 'eyang': 624,\n",
              " 'habibie': 625,\n",
              " 'bangsa': 626,\n",
              " 'berkarya': 627,\n",
              " 'kerja': 628,\n",
              " 'betul': 629,\n",
              " 'bang': 630,\n",
              " 'masyaallah': 631,\n",
              " 'aslinya': 632,\n",
              " 'natural': 633,\n",
              " 'berbakat': 634,\n",
              " 'yes': 635,\n",
              " 'cakep': 636,\n",
              " 'menikah': 637,\n",
              " 'nia': 638,\n",
              " 'ariel': 639,\n",
              " 'lagunya': 640,\n",
              " 'ka': 641,\n",
              " 'terbaik': 642,\n",
              " 'remix': 643,\n",
              " 'mei': 644,\n",
              " 'pcrn': 645,\n",
              " 'bulan': 646,\n",
              " 'ibel': 647,\n",
              " 'ashanti': 648,\n",
              " 'datang': 649,\n",
              " 'rejeki': 650,\n",
              " 'hijab': 651,\n",
              " 'ditinggal': 652,\n",
              " 'abege': 653,\n",
              " 'ato': 654,\n",
              " 'seandainya': 655,\n",
              " 'seseorang': 656,\n",
              " 'boleh': 657,\n",
              " 'haters': 658,\n",
              " 'permpuan': 659,\n",
              " 'ja': 660,\n",
              " 'pantesan': 661,\n",
              " 'tinggalin': 662,\n",
              " 'mikir': 663,\n",
              " 'nyampah': 664,\n",
              " 'caption': 665,\n",
              " 'heboh': 666,\n",
              " 'koin': 667,\n",
              " 'jiwa': 668,\n",
              " 'pd': 669,\n",
              " 'berkelas': 670,\n",
              " 'etika': 671,\n",
              " 'ancur': 672,\n",
              " 'merdu': 673,\n",
              " 'pernikahan': 674,\n",
              " 'sekalipun': 675,\n",
              " 'tersebut': 676,\n",
              " 'maka': 677,\n",
              " 'pernikahannya': 678,\n",
              " 'gatau': 679,\n",
              " 'abang': 680,\n",
              " 'jeleknya': 681,\n",
              " 'mna': 682,\n",
              " 'pencitraan': 683,\n",
              " 'alim': 684,\n",
              " 'masalah': 685,\n",
              " 'seharusnya': 686,\n",
              " 'mgkn': 687,\n",
              " 'berteman': 688,\n",
              " 'bayangin': 689,\n",
              " 'teman': 690,\n",
              " 'jaga': 691,\n",
              " 'ucapan': 692,\n",
              " 'lahh': 693,\n",
              " 'kelebihan': 694,\n",
              " 'upil': 695,\n",
              " 'mencerminkan': 696,\n",
              " 'sebenarnya': 697,\n",
              " 'kesian': 698,\n",
              " 'mati': 699,\n",
              " 'jual': 700,\n",
              " 'nyari': 701,\n",
              " 'anjir': 702,\n",
              " 'goyang': 703,\n",
              " 'hrs': 704,\n",
              " 'dada': 705,\n",
              " 'moral': 706,\n",
              " 'pnyanyi': 707,\n",
              " 'dangdut': 708,\n",
              " 'nonjolin': 709,\n",
              " 'akhlak': 710,\n",
              " 'bkn': 711,\n",
              " 'dh': 712,\n",
              " 'mw': 713,\n",
              " 'hahahahahaha': 714,\n",
              " 'dipermak': 715,\n",
              " 'hina': 716,\n",
              " 'astagfirullah': 717,\n",
              " 'ky': 718,\n",
              " 'buang': 719,\n",
              " 'belepotan': 720,\n",
              " 'penuh': 721,\n",
              " 'kbanyakan': 722,\n",
              " 'ogah': 723,\n",
              " 'terlalu': 724,\n",
              " 'hukum': 725,\n",
              " 'tidur': 726,\n",
              " 'selamanya': 727,\n",
              " 'bangsat': 728,\n",
              " 'sumpel': 729,\n",
              " 'timah': 730,\n",
              " 'panas': 731,\n",
              " 'congor': 732,\n",
              " 'pesek': 733,\n",
              " 'rupa': 734,\n",
              " 'ratu': 735,\n",
              " 'raya': 736,\n",
              " 'dimana': 737,\n",
              " 'ngerasa': 738,\n",
              " 'mahhhh': 739,\n",
              " 'manda': 740,\n",
              " 'begok': 741,\n",
              " 'berapa': 742,\n",
              " 'alah': 743,\n",
              " 'krna': 744,\n",
              " 'poligami': 745,\n",
              " 'masuk': 746,\n",
              " 'mendapat': 747,\n",
              " 'pikir': 748,\n",
              " 'pintar': 749,\n",
              " 'menyakiti': 750,\n",
              " 'pintu': 751,\n",
              " 'rejekimu': 752,\n",
              " 'sbg': 753,\n",
              " 'm': 754,\n",
              " 'depan': 755,\n",
              " 'pemikiran': 756,\n",
              " 'eehhh': 757,\n",
              " 'tanteibuomaempo': 758,\n",
              " 'picik': 759,\n",
              " 'manusi': 760,\n",
              " 'larangan': 761,\n",
              " 'larang': 762,\n",
              " 'ngungkapin': 763,\n",
              " 'unek': 764,\n",
              " 'stupid': 765,\n",
              " 'human': 766,\n",
              " 'baperan': 767,\n",
              " 'baper': 768,\n",
              " 'kyak': 769,\n",
              " 'hak': 770,\n",
              " 'instagram': 771,\n",
              " 'netijen': 772,\n",
              " 'goblog': 773,\n",
              " 'banyakan': 774,\n",
              " 'masyako': 775,\n",
              " 'didik': 776,\n",
              " 'dibenci': 777,\n",
              " 'kerudung': 778,\n",
              " 'ayem': 779,\n",
              " 'dikasih': 780,\n",
              " 'contoh': 781,\n",
              " 'better': 782,\n",
              " 'class': 783,\n",
              " 'ngak': 784,\n",
              " 'belakangan': 785,\n",
              " 'dipiara': 786,\n",
              " 'indo': 787,\n",
              " 'beginian': 788,\n",
              " 'kn': 789,\n",
              " 'kitu': 790,\n",
              " 'wkwkwkwkw': 791,\n",
              " 'jawa': 792,\n",
              " 'fansnya': 793,\n",
              " 'jablay': 794,\n",
              " 'sy': 795,\n",
              " 'youtube': 796,\n",
              " 'penghasilan': 797,\n",
              " 'salah': 798,\n",
              " 'mreka': 799,\n",
              " 'bayar': 800,\n",
              " 'pautin': 801,\n",
              " 'sblm': 802,\n",
              " 'pamer': 803,\n",
              " 'and': 804,\n",
              " 'pngn': 805,\n",
              " 'doang': 806,\n",
              " 'jedun': 807,\n",
              " 'terhormat': 808,\n",
              " 'menjaga': 809,\n",
              " 'hrsnya': 810,\n",
              " 'cm': 811,\n",
              " 'modal': 812,\n",
              " 'instastory': 813,\n",
              " 'buktinya': 814,\n",
              " 'emaknya': 815,\n",
              " 'sadar': 816,\n",
              " 'layar': 817,\n",
              " 'kacaudh': 818,\n",
              " 'miskinjadi': 819,\n",
              " 'maen': 820,\n",
              " 'k': 821,\n",
              " 'dukun': 822,\n",
              " 'elmu': 823,\n",
              " 'pelet': 824,\n",
              " 'jauh': 825,\n",
              " 'mlh': 826,\n",
              " 'idupnya': 827,\n",
              " 'ciptaan': 828,\n",
              " 'kuping': 829,\n",
              " 'pacarnya': 830,\n",
              " 'yaelah': 831,\n",
              " 'drama': 832,\n",
              " 'hitam': 833,\n",
              " 'putih': 834,\n",
              " 'anda': 835,\n",
              " 'justru': 836,\n",
              " 'papan': 837,\n",
              " 'kga': 838,\n",
              " 'jijikk': 839,\n",
              " 'bully': 840,\n",
              " 'one': 841,\n",
              " 'masak': 842,\n",
              " 'bajunya': 843,\n",
              " 'seorang': 844,\n",
              " 'rusak': 845,\n",
              " 'govlok': 846,\n",
              " 'baek': 847,\n",
              " 'rebut': 848,\n",
              " 'fikir': 849,\n",
              " 'billy': 850,\n",
              " 'buluk': 851,\n",
              " 'ajaaa': 852,\n",
              " 'resiko': 853,\n",
              " 'hahahahaha': 854,\n",
              " 'noh': 855,\n",
              " 'kuin': 856,\n",
              " 'sholehah': 857,\n",
              " 'cma': 858,\n",
              " 'uda': 859,\n",
              " 'tega': 860,\n",
              " 'valakor': 861,\n",
              " 'dapat': 862,\n",
              " 'setelah': 863,\n",
              " 'jet': 864,\n",
              " 'bodong': 865,\n",
              " 'wkwkwkwk': 866,\n",
              " 'swamik': 867,\n",
              " 'pertama': 868,\n",
              " 'rezeki': 869,\n",
              " 'plus': 870,\n",
              " 'depok': 871,\n",
              " 'sorry': 872,\n",
              " 'bala': 873,\n",
              " 'bukti': 874,\n",
              " 'ku': 875,\n",
              " 'rusuh': 876,\n",
              " 'hartis': 877,\n",
              " 'tanggung': 878,\n",
              " 'sampek': 879,\n",
              " 'bahas': 880,\n",
              " 'lalu': 881,\n",
              " 'pecun': 882,\n",
              " 'prempuan': 883,\n",
              " 'berjilbab': 884,\n",
              " 'kelas': 885,\n",
              " 'songong': 886,\n",
              " 'berkali': 887,\n",
              " 'wkwk': 888,\n",
              " 'gimik': 889,\n",
              " 'raffi': 890,\n",
              " 'hujad': 891,\n",
              " 'publik': 892,\n",
              " 'single': 893,\n",
              " 'demi': 894,\n",
              " 'harga': 895,\n",
              " 'maling': 896,\n",
              " 'ngaca': 897,\n",
              " 'abis': 898,\n",
              " 'maluin': 899,\n",
              " 'texas': 900,\n",
              " 'py': 901,\n",
              " 'tanya': 902,\n",
              " 'setuju': 903,\n",
              " 'keras': 904,\n",
              " 'numpang': 905,\n",
              " 'rapi': 906,\n",
              " 'nimbrung': 907,\n",
              " 'didepan': 908,\n",
              " 'wlina': 909,\n",
              " 'jongos': 910,\n",
              " 'tetehlu': 911,\n",
              " 'udeh': 912,\n",
              " 'brojol': 913,\n",
              " 'bunmai': 914,\n",
              " 'maia': 915,\n",
              " 'urusan': 916,\n",
              " 'kelihatan': 917,\n",
              " 'bner': 918,\n",
              " 'inget': 919,\n",
              " 'comment': 920,\n",
              " 'brp': 921,\n",
              " 'medsos': 922,\n",
              " 'pakai': 923,\n",
              " 'ibadah': 924,\n",
              " 'arti': 925,\n",
              " 'attitude': 926,\n",
              " 'ketauan': 927,\n",
              " 'kurang': 928,\n",
              " 'bangt': 929,\n",
              " 'live': 930,\n",
              " 'kluarga': 931,\n",
              " 'mbaknya': 932,\n",
              " 'koq': 933,\n",
              " 'berita': 934,\n",
              " 'kellen': 935,\n",
              " 'dateng': 936,\n",
              " 'posting': 937,\n",
              " 'joget': 938,\n",
              " 'bening': 939,\n",
              " 'ngefans': 940,\n",
              " 'untung': 941,\n",
              " 'up': 942,\n",
              " 'aneh': 943,\n",
              " 'fokus': 944,\n",
              " 'jengkel': 945,\n",
              " 'dosa': 946,\n",
              " 'pandangan': 947,\n",
              " 'terhadap': 948,\n",
              " 'pekerjaan': 949,\n",
              " 'ketawa': 950,\n",
              " 'aura': 951,\n",
              " 'positifnya': 952,\n",
              " 'bulu': 953,\n",
              " 'atas': 954,\n",
              " 'kisah': 955,\n",
              " 'awet': 956,\n",
              " 'berlarut': 957,\n",
              " 'senyum': 958,\n",
              " 'pepatah': 959,\n",
              " 'trllu': 960,\n",
              " 'mawaddah': 961,\n",
              " 'sampai': 962,\n",
              " 'maut': 963,\n",
              " 'amiin': 964,\n",
              " 'jemima': 965,\n",
              " 'terharu': 966,\n",
              " 'pilih': 967,\n",
              " 'stefan': 968,\n",
              " 'tinggi': 969,\n",
              " 'super': 970,\n",
              " 'seumurannya': 971,\n",
              " 'so': 972,\n",
              " 'warahmah': 973,\n",
              " 'menonjolkan': 974,\n",
              " 'dandan': 975,\n",
              " 'utk': 976,\n",
              " 'yaampun': 977,\n",
              " 'good': 978,\n",
              " 'dekat': 979,\n",
              " 'kesalahan': 980,\n",
              " 'tahun': 981,\n",
              " 'knl': 982,\n",
              " 'sbagai': 983,\n",
              " 'saling': 984,\n",
              " 'korban': 985,\n",
              " 'terpancar': 986,\n",
              " 'proud': 987,\n",
              " 'bless': 988,\n",
              " 'kereenn': 989,\n",
              " 'niki': 990,\n",
              " 'orangnya': 991,\n",
              " 'dilihat': 992,\n",
              " 'alami': 993,\n",
              " 'bak': 994,\n",
              " 'h': 995,\n",
              " 'cantikk': 996,\n",
              " 'duren': 997,\n",
              " 'keluarganya': 998,\n",
              " 'memiliki': 999,\n",
              " 'fisik': 1000,\n",
              " ...}"
            ]
          },
          "metadata": {},
          "execution_count": 29
        }
      ]
    },
    {
      "cell_type": "markdown",
      "source": [
        "#### Text to Sequence"
      ],
      "metadata": {
        "id": "k2UaiP4k34HO"
      }
    },
    {
      "cell_type": "code",
      "source": [
        "# Proses mengubah token hasil tokenisasi menjadi urutan bilangan int berdasarkan index dictionary.\n",
        "data_seq = tokenizer.texts_to_sequences(data['clean_teks'])"
      ],
      "metadata": {
        "id": "0mA4Bxvf3cgW"
      },
      "execution_count": 30,
      "outputs": []
    },
    {
      "cell_type": "code",
      "source": [
        "# Lihat hasil setelah di ubah menjadi sequences\n",
        "print(data['clean_teks'][10])\n",
        "print(data_seq[10])"
      ],
      "metadata": {
        "colab": {
          "base_uri": "https://localhost:8080/"
        },
        "id": "KaV-56wm4Ca5",
        "outputId": "678194fb-4ec1-4a06-cec5-275c85e709db"
      },
      "execution_count": 31,
      "outputs": [
        {
          "output_type": "stream",
          "name": "stdout",
          "text": [
            "syarat sah nikah menurut agama islam hanya  yaitu  adanya cpp adanya cpw saksi wali nikah dan mas kawinmahar perkara makeup gak manglingi bukan syarat sah pernikahan sekalipun gak makeup tapi syarat yg  tersebut terpenuhi maka pernikahannya sah yak emak emak julids\n",
            "[1, 1, 69, 1, 1, 1, 1, 1, 1, 1, 1, 1, 1, 1, 69, 4, 1, 1, 1, 1, 12, 1, 79, 1, 1, 1, 1, 12, 1, 74, 1, 2, 1, 1, 1, 1, 1, 1, 1, 1, 1]\n"
          ]
        }
      ]
    },
    {
      "cell_type": "markdown",
      "source": [
        "#### Add Padding & Truncation"
      ],
      "metadata": {
        "id": "umKlNlhl4apK"
      }
    },
    {
      "cell_type": "code",
      "source": [
        "from keras.utils import pad_sequences\n"
      ],
      "metadata": {
        "id": "Vx0imRoNhTpW"
      },
      "execution_count": 32,
      "outputs": []
    },
    {
      "cell_type": "code",
      "source": [
        "PADDING = 'post'        # Berikan padding untuk setiap sequences. Terdapat dua pilihan dalam melakukan padding 'pre' or 'post'.\n",
        "TRUNCATING = 'post'     # Menghapus token dari sequences yang lebih besar dari max_lenght. Terdapat dua pilihan dalam melakukan truncanting 'pre' or 'post'.\n",
        "\n",
        "data_pad = pad_sequences(data_seq, maxlen=MAX_SEQ_LENGTH, padding=PADDING, truncating=TRUNCATING)"
      ],
      "metadata": {
        "id": "BPpIQ6aE4aPL"
      },
      "execution_count": 33,
      "outputs": []
    },
    {
      "cell_type": "code",
      "source": [
        "print(data['clean_teks'][10])\n",
        "print(data_seq[10])\n",
        "print(data_pad[10])"
      ],
      "metadata": {
        "colab": {
          "base_uri": "https://localhost:8080/"
        },
        "id": "WmeMZiJp4zBf",
        "outputId": "85cd46dc-0ae4-4e33-ae4e-bf81b1d6bd64"
      },
      "execution_count": 34,
      "outputs": [
        {
          "output_type": "stream",
          "name": "stdout",
          "text": [
            "syarat sah nikah menurut agama islam hanya  yaitu  adanya cpp adanya cpw saksi wali nikah dan mas kawinmahar perkara makeup gak manglingi bukan syarat sah pernikahan sekalipun gak makeup tapi syarat yg  tersebut terpenuhi maka pernikahannya sah yak emak emak julids\n",
            "[1, 1, 69, 1, 1, 1, 1, 1, 1, 1, 1, 1, 1, 1, 69, 4, 1, 1, 1, 1, 12, 1, 79, 1, 1, 1, 1, 12, 1, 74, 1, 2, 1, 1, 1, 1, 1, 1, 1, 1, 1]\n",
            "[ 1  1 69  1  1  1  1  1  1  1  1  1  1  1 69  4  1  1  1  1 12  1 79  1\n",
            "  1  1  1 12  1 74  1  2  1  1  1  1  1  1  1  1  1  0  0  0  0  0  0  0\n",
            "  0  0  0  0  0  0  0  0  0  0  0  0  0  0  0  0  0  0  0  0  0  0  0  0\n",
            "  0  0  0  0  0  0  0  0  0  0  0  0  0  0  0  0  0  0  0  0  0  0  0  0\n",
            "  0  0  0  0]\n"
          ]
        }
      ]
    },
    {
      "cell_type": "markdown",
      "metadata": {
        "id": "sXqDQxxHMeJJ"
      },
      "source": [
        "### One-hot Encoding\n",
        "\n",
        "![image.png](data:image/png;base64,iVBORw0KGgoAAAANSUhEUgAAA/YAAAGMCAIAAAD/XK6NAAAgAElEQVR4nOzdd4xl13kg+HPzvS/n/F7lXNU5UcyiRFkSJVm2NNbYM/LsLLDeATZ4AWOx2MUACyxmsAvDC894sOvBYGbWXnkdKMkKFGlSNFM32YGduyvHl3O8OZ7943aXW9VVxSK7m91dfX4Aia6qW/ed9169e7977ne+D1MUBSAIgiAIgiAIsl/gD3sACIIgCIIgCILcTyjERxAEQRAEQZB9BYX4CIIgCIIgCLKvoBAfQRAEQRAEQfYVFOIjCIIgCIIgyL6CQnwEQRAEQRAE2VdQiI8gCIIgCIIg+woK8REEQRAEQRBkX0EhPoIgCIIgCILsKyjERxAEQRAEQZB9BYX4CIIgCIIgCLKvoBAfQRAEQRAEQfYVFOIjCIIgCIIgyL6CQnwEQRAEQRAE2VdQiI8gCIIgCIIg+8ojFOKrqiqKIoTwYQ8EQRAAAJAkSZKkhz0K5MHSNI3neXTgfXxBCHme1zTtYQ8E+exkWRZF8WGPAvmMFEURBOFhj2Ib5MMewD/o9Xr1ej0ej+P4I3ThgSBPrHq9ThBEKpWiKOphjwV5UARBKJVKyWQSHXgfU5ZlFQqFQCDgcrke9liQz6jZbBqGEY1GH/ZAkM+i3W6rqtrX10fT9CN1IH2EQvxut7u0tLSxsfGwB4IgCAAAqKrq8/lYlg2HwyT5CB0rkPuI5/mVlZVcLvewB4J8RhBCSZJomkaX4o8vTdMsy1pZWXnYA0E+C13XKYrCcTyZTDocjoc9nH/wCJ22MQxTIbcsDpnWI3QNhCBPLJ+VDVKcz+d7pKYlkPtOh/SyOIoOvI8pHLPC5jxvxiUl8LDHgnxGXljEodLWhx72QJDPwg3Lg5wWj8cZhnnYY/kVj1aIbwKqqQdMgKYiEOThY0ANJyiO4x72QJAHCMMwiJHowPv4woHuAyQP3R0QfthjQT4jCrQogDVN9A4+lnDAY3jvEcyUQ9M2CIIgCIIgCLKvoBAfQRAEQRAEQfYVFOIjCIIgCIIgyL6CQnwEQRAEQRAE2VdQiI8gCIIgCIIg+woK8REEQRAEQRBkX0EhPoIgCIIgCILsKyjERxAEQRAEQZB9BYX4CIIgCIIgCLKvoBAfQRAEQRAEQfYVFOIjCIIgCIIgyL6CQnwEQRAEQRAE2VdQiI8gCIIgCIIg+woK8REEQRAEQRBkX0EhPoIgCIIgCILsKyjERxAEQRAEQZB9BYX4CIIgCIIgCLKvkA97AMjnBEIIAIQQAggwDAMYhmHYwx4UgiAIgiAPEITQ/g9ACDAMw3B09n9CoBD/yQFNXdUUEUBIMhxFOwD6kCMIgiDIfmdosq5J0LIImqVZF4YRD3tEyOcBhfj7FoSWqWut0kK7vNyprUvdmq5KpqEBAAiColin0xfzRvr98dFAfJSgaAx7sFlbK5de61TXCIJyeCPpyeccnvADfTgEQR5lEt+srl1uFuf3sjEGMJpzUwxHcx6HN+oN99GcmyDpBz3IvZB69XZpubx2EQDgjw5G+g+5g6mHPajttUpLzcJct5Gzv4xkZqKDRxmHZ+97ELvVRm62VV4yDQ3HSacvOnjo10iGu1+nj8rqxUZhXhHbAIChI1/3x4Y2f9QuL1dWL0l8HUIY7T8UGzxKsc778qD7j2nomtxr5Gc7tXWhVZL5hqFJpqEDCDGCJCmWcwVcgaQ30hdMTXHuIEkxD3vIyAOBQvz9SerVe/Vcu7xUz91olRY71XWpVzd1FQAIAAAAIyjG6Yt6w/3B5Hik/2AoM+MOpmjW9eCGVJg/nZ//gKIdweR4uG8GhfgI8iTTxE55+fzqlV/sZWMM4DTnpmiOdnic3qg33O9PjPrjI55QGoCHnHOoiJ1a9tr8h38JAEhPPO/0xR/ZEB9aZruysnbldV2TAQC9Rg7DifTkc3v8dUOTm4WFhbN/0ywumIbqCfWlJ5+D0LqPI2wU5tcu/6LbyAIAov2H7gzxe83C+rW32pUlyzIBtELpKRTi383UVb5ValeW2+XlRn62W1sTWmWJb1iGfvvsDzCcYJ1+VyDpDfeFMtPB1GQgPuIJZTCcQAk8+wwK8fcVO+VOlXuV1UtrV95Yv/p3qtSFlonhJEFSNOuyk3MgtCzT4Bv5Xj1bXPzI4Y1MPvPb/YdeDibGCYp5QB9ysV3ulFcoxklzblPXHsRDIAjyuDANTepWO+UV+0sMwz8hdRDCzWgSw4jk2Knh498aPvZNxul7uFkHpq7KfMN+IoHYiK5JD3Ewu/NGB93BlKmr9mhNTSEIMjp4lKRZHN/tNYQQAgD4Vqm09NHKxz+zTB0n6VBqKj54lKTZ+3gHWBHb3UbWHp6mCHf+SFeEXjPXLq9Ay5R6Dcsy79eD7g8QWqah843cxvW3Vy79vLLysf19DCcIkibYzTM7tExTlToy36hnr61e+kVs+PjQka8NH3vF4Y3iBIWi/P0Ehfj7DNQ1afb9P1u/+majMG+oEoQWTlBOfzyQGHX64iTFAAh1VezWN1qlJUVoW6YudirX3/lPfDM/9dw/iQ4ewQjqYT8LBEGeIBhB0oyTYhw7bQAhNDRZV0XLNAAAEJqV1Uu6KmkyP/X891mn73Mc7GOMIOn40PGJp3/7w1f/VwCA0K6Uly/kbr6THHuKc4d2/10IzY3rb61ffcsydQCAPzacHH0q3HcQw1EU8UgwNKVVWrzy5v9dXvlY5uv2NwmS5tyhQGrc6Y1TDIcBzDA0sVNul5f5ZtEyNQjN2sZVhW90KivHXvl9py+OEegN3T/Qe7mv8M3C2pU3Vi+/3i4v64pAkEx85GRs6FgoNcF5whTjwHESAGiauibzvXq2vHyhsHBG6FQUoVVY+BAnKIc34gokH5EkVwRBngQuf7z/wJdT40/vso1lGmK31izMl1cu9OpZQ1fa5eX1q2/Gho6F+w480CTDfQPDMKc/nhg7lZp4rp69pkrdXiN/8/0/d3gjFOMkaW6nXzR1pbJ2qbR0rlvfABhOs67+mS+lJp4hafbzHD+yE10VW6Wli6/9cXX9stRrAAAYhy8xdirSd8gXHXR4wxTtwAkSAMyyTEOTZL7ZLi+VVy+Wl89ritBr5uHCh+5QZujI1/3x4Yf9bJD7BoX4+4fMN0pL5+c//KtOZcXQVZc/kRx7uv/gl6ODh92BFH7Xpbkm8/74COcNr3z8M6lbE1rF/Nz7vtjw6Mlvu/zxh/IUEAR5AjEOb3Tg8PCxb+6+mSJ22pUVX2xw8eyrvXpOU4RWeakwd9rlT6AQf48oxuGLDk0990+uvNlrFuZUuVdaOpe7+Q7NukLpqW1/xdRVoV1aOv/jeva6rggU48xMPZ+ZfsEbGfycB49sC0KrXV5Z+finG9fftkydZDhvuL9v+sXE2NOh9KTTG8OJrVlY0DLFztFgcsLlj+fnTvfq2V4zv3zhbz3BtNMfp9Eih/0Chfj7BISwVV7Ozb7TyN0EALBOf3z4+OGv/AtfbJhitp+boTl3fPiEwxNW+GZu9n2xU5Z6tcVzr8aGjnLuEEGidB0EQR4hrNMXGzziCaWFVklXJb6RNzSluPRRZuaL3kj/wx7dY4PhPAOHf628fE7mG3yzYOrK+rVfuvwJb7h/2wWsitiurl3J3vh7oV0hSMYdTI2d+k4gOYHOEY8ITREqaxeXP/6ZZWoYhntCmYGDLx96+V/QnHun9wjDCVcgwXlC3uigoSmK0LIr8NRyN8L9B+k7VjkjjzXU3XafsEyjunYld/M9+8v4yImRk98OpiZ2v5GK4YQrkDz05d/zx4YxDDc0pVmYbxUXZL7xuYwaQRDkU8Fo1j14+GvecD8AwDL1dmVFU/iHParHCoaRFDv21HfjwyftbzQLc6Wlc43C7LabN4uLs6d/oAgtAC13MDVw6CuxoWOcK/A5jhjZTSM3W127LLSKAACKcfTPvDT9wu+yLt/dt+63wAnKHxtOTzwX6Ttwe1c3msWFBz5i5POCZvH3iWZhtlVaUKUOABjj9EYHj8QGj37iJxzDMJJivJGBcN+BXiMrtMtOX9QyDVNXt93e0FWxW20V5nuNrCr1TEPHMEAxDqc/4Y8O+WLDNOvC8Hu6btQUQWiVmsUFoV3UZMEyDQzHac7tDqT8sWFfbIgg6buX/ENomYbWLq8oYpuiOXcwzTi9fLNQz91ol5YAAJw75I+PRPoPUqxr99oRCII8sjAMwwnSHUhSjAsAAC1TETt2u49tWZapCu1GYbZbz8l8w9AUgAGSYl2+uC82FEiM7vGA0Kmtt8vL3dq6IrQhhCTNugPJcGbGE87cz6f3ubCPn/74aGr86W59o7p2CVpmeeVj1hUIpiZJmrvzBWmVFgsLpxu5WVPXGIc3Onhk5MS3GYd3l+M8hJYm8+3KSqe6JnYqmiwAAAiS4jxhb7gvmBhn3cEHdwfAskxDU5rFuW51XexU7bI8BEWzTr8nmA6mJjl3cMvMl6HJneq6JvdMU2c4dyA5ThD03U/QMo1mYV6Texa0cJwIpSZpzo1t98fTLi+L3RqGYRTr8ob7P1Xngc+gvHKhnr1h15tKjT8THz7h8Ib3UuYIwzCMIKNDR9uV5eLiR/Ybp/9qISNDV/hmQRFalmWyTn8wOS7zjXr2Rj0/q8k8zTp9saFAYtx/18S/KvN8I9fIz4mdsq7J0LJwHGddfm94wB8fdocye2mya1km3yy0y8vd+obMNyG0MIBRjMPlTwRTE+5geqfXVpV6YrcmdasQWu5AwhcdAgD0Gvl2ZblTWZN6dQAAQVKsy+8N94czM4zTvy/vSqEQf59o5Oe6tQ3LNDCcDMRHAvFRhzeyl1/EcIJinamJZ2jOpYodhzcSSk/R3DaJra3SUiN/s5Gfa1eWxXZZUwS7ugVJcw5P2BNK++Ojkf6D/vgo5w582jJqEELL0BqFuUZutlmc79TWpG5dV0VomRiGU4zD4Yt6w/2h1ERk4LAn1Lflgw0tS1el7I2/bxbmnL7YwKGvWKZRXb9SXPyoV88CABinL5iaUKVuauJZVH8DQR5rlmWAWwU0MQzDMbB9oCC0K63ifC17rZGfE9plVerYkxcExXDukCeU9sdHogNHAonRndp0mIYu9+qV9cv1jWut8rLQKqpyD0BIUIzDE66uXY4NHcNJ2q4p+XhhHJ7Y0DGxW2mXFnVNFtql8vL5wsKZ5OhTjMML7CpGqlRe+bgwf9qePIr0H8pMPR9IjOI7V11TpW6zuFDbuNoszPPNgsQ3DFUCAOAEyTr9rkDCHxuJ9B8Mpadc/vi28fG9kHr1dnm5tnG1VVrsNQqy0Lz16CTFcB6nL+aLDoUz06HMtC86uNlRQdfkevZaLXtdEVruUHqCcboCyS31nSzTUKXuysWf8808hBZBsVPP/k4gOX7XmcjUFCE3935l9SJFO0Lpadbpe3AhvmUamsw3i/N8Mw8AwAkyOf5MKD1FkJ+ilZU7mEyMnurVcxTn8kUG/LFfWW6rK1J5+UI9d8PUlUBizOWPr11+Iz9/pl1e0lWRpDlPKJ0ce5pzfY/m3DhBQggtU2/kZ2sb15qF+U511e7JA6GF4TjDeVyBpC82HM7MxAaPcp4gSW2faGAamtStVVYv1fM3O5UVoV1SxS6Eln0PyuEJ+6KDofRUuO9AMGkX+/6VkEPmG+WV86XFs5apZ6ZfpDlPPXujsnapVVzgmwW7txpOkPZ4gqmJ2NDxUHpy/7XrQSH+PtEsLQjtEgAAJ4hI/2FXIPWpguzEyMn48AmCoglym7r4hq7KfGPtyhtrV16vZ29apkZQDEmx9l0CqVtrlRYhhIzDO3Dw5aFjr8QGj36qjwqElq5Kncrq4tkf5m6+26mu2vNkBMXgOGlZptAuNfKzGE44vdGRk98eOPSVcHr6zrRRew+FhTP52fe8kQF3MNXIz5VXP26XFje3kbo1iuaig0dQiI8gjy/L0DvVNVXqAgAwnHB4QsRdvTkt01DlXnHxw5WLPyvMn9ZkHidpkmIIkgYYZvLNTnWttPgRyXBDR74+fOyb8eHj7F2ZJ5ZlSr1afu70zXf/c7u8rCkCTpAU48AJEopWr54rzJ+ublwNp6ctS/+cnvx95YsPZ6ZezM990MjPaXKv28gtfvSqN9RH0hxB0tAy29W1wvyZevYGhhOcK9g388Xk+DM71VuDlmXoSj13c/HcDzeuvSV1axhOkjRLUgyGEaap9Rq5yupFnKCT418YOf6t9OTzrkAC3L6rcI8gtBShXV75eO3KG6sXf25oMobhBMUQFIthmGnqvVq2snoRw/D48PHBI18bOvoNVyABAI5hmGXoYqeam32vU1nxx0dDqUnG6dsS4pu6yjcLq5dfa5eXAQAk7QgmJzhveEv4bplGr5HP3Xhn4/ovHZ4I6/QbO9wSvy9MQ+vW14VWSVMEDCdZVyDcN+MKfLrOaxTtiA4ccXiirmCC4Txb3l9Dk2obV9evvaUrfHTwaDA9OfvBD+rZ65Zl2Bu0y0uWZQ4e+SrFOCBO2CW5F8/9aOPqm71GDgBA0pwdgkPLFFql2sY1kuYCibGp5/9pcuwL7mDq7r8o09D5ZqG4+NHNd/+fVnnJ0BWCoEmaw0kSQCjr9VZpMT/3vi861HfgS2OnfjMQHyVp7s4bL4rQqq1fWb7wE9NQ7VZfN977s8rqRV3hCZLGSRqahmlopqGBtUsb1385ePiro6d+MzP1Ak6Q97HPw0OHQvx9oltdl7o1AACOE4H4iMPzCUWOt6BYFwAQ7DQZ1irdeOc/rVz8mditQsvEcMIb7vfHhu0bBa3iQqu8JPNNVewsX/hbvlUYf+q7k8/+zt4f3TKNVmnx3I/+dT13Q5W6EEKCpAOJMV9smHX4VKXXLMz36llN7gnt0rW3/4PCN7Fnfyc+cmLbvWmKUF2/Ulw4I3Zrd36fcweT48+gyhsI8ljTNSl7/Ze9Zh4AQJBUIDF29yypKvc2rr115a0/bZeW7JuNLn8sEB/1hPpwkurWs838LN8s6Iq4fOEnUq+hSt3xL/yjLTsxVKkw98H5n/wfUrdmmQZB0k5vJDJw2OEJ66rYLC3VN67Vs9e61TX88bzFj+OkNzp49Kv/3Uc//N+axZ4qdvJzH2Rmvsg4vK5AwjTUxbN/U12/bJk6zbmHjnw9MfqUyxfbaW+GrrRKi1ff+tPCwhldFQEArMsXTIz74yM05+ab+XruZq+eMw2lMH9a7JSFTvnY1//7+9W2zDS0lUuvLZ37UXXtkp24xbmD3uhgIDFOUgzfKrZKi53KCoRWZfWS0KnwrdLJX/8fadYFAEYxjsjA4fVrb4JbS1evRPoPb5mlUqROLXvN0GT7S2iZrfJSbOioLzKwZRj13A17MRvFOmIjJx7oogVDkxu5Wftyl6K5SP8hxun7DLmyrMt/O/lqt8stvlm4+Nofd6qrm/E9AIBzBX2RfncwjWE4hFajMPvxz/6otnFNFTsQQopxhPsO+KKDFOvSpF4jf7NTXddVoZ67cfZH/+rYK78/ePirntDWbDdFaC6d/9Hs+z+wQw6S5tyBZCgz4/RFTV3p1rP2/ru19aVzP+pUV7/wm//SFx3caeVhbeOqzDcK82cs03B4w95wvzuYUoRWt77RaxagaRiavH71Lcs0Q+lphye0n4qGoxD/sWeZhq4Imty7lUCP4a5gyr7TuncYhu302e7U1rM33l698rrUqwOABZMTI8e/Fe47wHlCJMUCADWZbxYX8/Onczf/XlOERu7mhtPvCiSTY0/vMbmtkZ9dvfhaLXtdU3iKdYUz00NHv+GPj7AuP0FQlmWoUq+2fiU3+25h/oypK7nZd1lXgPOEPeHM3Xm0qtQtLJxRhXYoNZkYPeWPj5iGzjfzrCsYHTxC0ju210EQ5FGmq1K7vLRx/e3i4kd2FEXSXHryeYcneudmitipb1ybff//7dU2ILS8kf6ho69EBw67AgmKdmA4rqtSr54tLZ9fufRzhW/WNq7SnDuQHA8kxsg7bggUFs6sX/+l1K1Zpu6LDqYnn89Mv2g3ELQsU+rV26Wl+Q//qltb39KH9XGBYRjNuqODR9JTLxiG2q2u6aqwfOEnDk+YoOha9kZ55YLYqVCsK5AYHz7xTV90cKfUGtPQuvWNy2/8u9r6FV0VOXcwPfl8Zup5b2SQ4Tw4QeqqJHar1bVLyxd+yjcL3Xq2MHfaFxnITL/IOv33+EQ0RWjkZ1cv/rxRmLNMg2bd/YdeTo49HYiP0pwbw3FDk4V2uZ69tvDRq2KnIrYrxYUzS2cH+w++7A6mSJq1kzRwgtIVvrp+SVO+u+UhVKnXyN28M8TvVFZkvnnX66DWs9clvokTFOsMBBKjD3RSydTVdmXZzp4naCaYmqAY52e4K4JhOEZ8woWBrkpCqyh16zTnTk8+Hx08QrNusVMBGBZKTdgn4trG9bXLb1TXr2pyj3F4Y0PHh45+3RsZYBweDCcs09CkbmnlQu7mO+XlC4rYXjz7Q5wgJ5/5bftmC7B7WENr6fzfblz/eztjPtJ/uP/AS7GhY5w7RNKsnQrVq+dWr7xRWbkg9RqN3M3Z0z+YePp7m4uGt+BbRV0R3cHU8LFvhPsOOL1RknGYhib36qWlc4vnf6TwTV0Tu7X1/Nz7A4e+sp+WkqMQ/7FnWYYq9wxdtdPUCJLhXIFdmph8KhBa9eyNtcuv840cACA6eHToyNeHj3/T5YvdeXPcGx1y+mMkza5dfl2VutX1K4zDG+k/hOOeT5xR0BSxunZ549ovVamD42Ri9NTI8V/PTL3Aunx3Znx6QhnWHcQwvLR8XmiXCwtnXP741PPfx+mtpxzL0MR2OTpwePDI1/tmXnIHk5ZpSL06huFOb2T3WQoEQT5/qtSrZa8z3PYpyxDaSyhFqVNpV1Zq2eu9Rt4ydc4TToycSI59gXX/yim5W11fv/ZWPXfD0ORAcnzg4MvjX/gtdzB1Z+qFPz7iDqVp1jX/0V+LnUp1/crqpdfcwZQd4luWqcm94uLZysrHEFqMwztw+KtDR1+JZGbw28v9TUMLpacAgMsf/6yyevFBvjwPEEFSnDs4dPTrqtiWOhVdlavrV4oLHypCOz/7Xqe6ZuhKpO/g2KnfDKWn6R3eIACA0CoV5s8UFs6oYsfljyfHvjD1/PeDyQnG4d2MOE1d9Yb7Waf/5vt/3qtnm8X5hbM/DCQnaNb9iZUhdif3GssXftLIz2pS1+mLpSaeG3vqO5G+mTtb9gaS44H4CEGxKx//tFGY71TXFz561RPp5zwhgmTsKX+HNyp2Ku3ystxrGLpyZ5q4KnaqG9d0VcYJys786VRXpV7NMo3NwVuWqclCPXdT4ZucOxhIjHLuIP4gp4RNUxfaZfvCgyBoTzBN3pW0dr9YpgEti6SxoaOv9M28FEiMUYxDEVqmqdOsC0JoaEpp6Vz2+tuq2CZIJjP94vDxb6XGn6ZZ151Xhq5gkmZdlmFUN642C3PFhY9C6anY4FGMoAAAuip16+u52XdbpUUMx33hwYlnvpeefM4b7t98nSG0gslJhzdCEGR+/gO519i4+mYoNeEOpraNzk1dpTn39Au/m5p41hPKbB4HDF1xeCKGrqx8/FOZb0p8vbR0PjX+DArxkUcINE1N5qFlAgBwnKAYB0Gz93jE3KQpQrM4X924CgCgOXd68rnhY9/whvu2bObwhOLDJwiSaeRudiorYqdaWjontEsESe/SlN4mtEqNwly7soxhuNMfz0y92H/wZda59S6EJ5TOTD6PYVi7siK0y53qWm723eET38IJcrsni2WmXxw4+OVgavL2CPfbMhoE2TcUoVWcP9OprG77U2iZpqEqQkdsl1W5BwDECdLpj8eHjg0f+6YvNkTdMaNhmnq7spyf+8DUVYJiYoNHh499I5AY3bJPmnWFUlMM56msXdSkntSt5mbfGzv1HZp1EyRlmUa3utEuL4mdCsU4AomxvpmXIv0HiTsmHey8naFj37CXeKpS50G8Mp+P6MChbnWtVVqsrl/RpG5p6WyruFBdv6rJvMMTjg+fGDzyNZp17TI93Kmu5Wff1WQeQhhMTQ4deSU5+tSWbQiK8cWGOHegnr2uSj2pV6usXuzW1t2B5L0sSDUNTWgXN66/pco9nKB8saGJp38rOnCY5tx3bkbRnDcyMPH098R2WehUFL5ZXb/cKi4GEmPuQBIAzB8b9oTSQqugih2+VVTFLuljNx9C5pvd6qppqA5PhCCpXiMn9xpSt6YpwubiLkOThU5ZaBZ0VfLHh0OZGYLYpv7bfQQtU5W6pmkAADCcYF3+XU79pq7qqvSJFWZJ2sFwHpyk7h45SXPeyMDwsW9EBw7bE3Cb+QKWZQqtYj17o11exjDcHUwNHPxKZvL5uzsteMP96akXdEVsFhd0VWiVlwrzZ8J9B+0dqlInP/dBp7quK4LDG01NPDdw8CvuYPLOPWAYTnOu9ORzfKsodsrFxbO9Rq6euxlKT28bndOsK5SennjmH2+pFkVSrD8+PHzsG/nZ92W+qStit75uGg9w7cTnD4X4jz3LMlSxY+eb4gRFc/ezKGS3us43cvZ9wGByPNJ/aKcWM6zTF85MJUZPaXKv18gpYruyepFxeD8xxK/nrvfqGxBaBEmnJp4N983cHd/bXIFEevL5hY/+RpW6mtzr1DZ69SxFO7YcygHAcJyID5/0xVAjbgR5DOiK0CzON4vze9kYw3Da4R0+9o2RE78eHzq+5aeazHfrG+3yEgDA6Y1G+g5G+g9tux+SZl2BZGzwuNiutivLQqvYLi9zrgDnCZm6Ulm/bK9uojnPwMGXPcE0sV0ZGXcgGcpMB5Jj5eXzn+45P0oIkkmOP61Kver6FQCA/X9bfPjEwKGvfGK/c76ZLy9fsEwDJ4hwZiY99fy2m+E4QbHu5Pgz3XpW6lZNTa5tXA0kRu8lxFelbree7dVzAACHNxpKTqYnn9v+0QnS5Y/HR052a+u52fcgtOq5G6H0lDuQBAD4YyOeUFSKgfIAACAASURBVKa0dBYA0C4vR/pmnL5bCWCK2OFbBTvlPdw3wzi8vUYOQktol4RWYTPEV/hWMz9r6DIA0OGNhtKT971k0BbQMjVZsEzdfnacK7hLsSNZaDXyc7X1y7vv0x8fjY+cdHoj4K4Qn3H6+mZecnijdz+KZRrllQu9RhZCi6CY9NQLgeTYtp3UAAC+yEBm6oXr7/xHQ5eFZqGyehGat5L7VbGTu/GOKrYBAA5vZPTUb7CuHctjRAeOtEtLxcWzAIBmYb5ZnI8OHL57M3cwFR08sm3GFM25N9sHWaauim17tnTfQCH+Yw/DCZpz22E9tEy7OtX92nm3tr65aDWYnnJ6o7tsTJBMdOBQdf1Kr5GzTL1VXIwPb78i9k69etZOucNwMpyedu68nMt+iEj/Yb5V1GTe1JVmccEVSG4J8UmKcQUSdgGvT36GCII8DgiSDmVmQulJX3QomJzwhDPb1gXmmwWpU7X/7YsOOXy7HbIwnPBGB1h3AFSAZert6kogOc55QpZpdKprqtQDAJA0F0xP0TvHoC5/Iph4vEN8AIDDG4kNHe0/+HJp6Zwm9wAAGIb7YsPpyefCO6Q4bxI7VaFd1lQRAOgKJF3++C6ZojhOBBKjnCcMALCg1amuq+I93QCRurVubd3+tzec8d91x2YLX3TQGx0Es+8BAIR2SerdOsH540OeUMZeM9qprIidyj88wXa5W10DAJA0F+k76PCEls79CEJLaBZ7jXwoPX1rJHyjlr1u6CpOUO5AMpgcx4kH3IMFw0mKuX32tzRVtHaOUGW+WV2/NH/mr3bfZf/MS/74iMMTwu5qjUoxjkBilNruzYWW2amty0ILAIDhRDA5dneJqjtGTZCs0xsd1FVJV0WpV1eENkmzOEHpqtgozOmqhBMU5woEEmPEDlU1AQDuQGLz4tNeYrHtZozDZ1/FbT8WnGTvX27zowbFQI89HCdphwcjCGBXyVVEyzQhhPfl/qDUq9uHe2Bnw+9abhInKG9k0J6PsUyDbxY2FyftQuxWb9e/wz2Rvt2XXuEk6Y302zm7pqELrZKhKVu3oWinP07S3H4qfYUg+5jDG4kNHg1lpv/hWxBapiF1a83ivF0i026d4w6kM1MveiMDJL21ErZN6tbsOAMAoEqd8vL5zSPY3SzTaOTn7BDTMk2hVbJLwVimzjdzdkoDQTG+6CDNbD8fCQBgnX6nP/EZn/kjg6RYb2Rg9OS3W8UF+xXDSbpv5ovRgU+uMiwLTeX29KdlGvXcjcWzr+60MbQsqVeXulUAALAsqVvRVeleRq7KPalbt//t8ETcgU94L1z++GZcKHXritC2/804fK5AwuGNip2ynQ4KoWX/jYndare+YeefeCP9jNPn8ERkoSG0y3yzcOt5QUvm643cTcvQHJ6wO5hiHP4HvfQLwzCCYu0FbxCamtSD5o4hvmloitixK+jvQuKb1g695AiScQWSd9eoBQBAaAmtov2XAy2zWZiH0KJ2/tRIvYauiBBa0DLtpdicJ2hZpiJ2FaEFLRMnKFlorV3+xS5DhZZZz88CgAEAZb559+pnG8U6OXdw2x9hmN1Mj8ZxYpero8cXCvEfezhBMJyXIBmAYRBahibpqmiZ+n0p/KRK3c3jr9MToXYtDoDhBOe+1ckCQmv3rpObNJk3VBkAgGE45w7untiD44TTG7EvuKFlKEL77oMRTlCsK4Cm8BHkceHwRgaPfG3i6e9tfsdeYWvXuMjefKey8rGuSkK70mtkZb7hDqYApLcNnxSxrcm3so07tXVF7OTnP9jpce3uTnKvAexGucKt3ljQshShZeoKAADHSc4d3DassdGsi3Xda02YRwHr9KUmnqXYP7G/xAkyMXLq7oKGd9Nk3r40Anaixez7d6b6bAWhZRr2zWEIoCK0DX3rNM2nYqiSPUkEAKAd3l0mj22M08fcvmjR5N5mNSScIJ2+mD82JHbKfLMotMu6ItKcG0JL6lR7jRyGE4H4qNMXJSnOFxvSNnixWxVaRcs0MJwwNFnsVDvVNdPUPZF+dyjzwKfw7Xv4Do+dNmNXlTDNHc+5NOv0BNPRwaN3/0hXBLFb1aTe7ikAOEHueG6FUJW69oybZejZm++Uls/vUmzDbip3++NmKkLbMg2oa6rUsa8VoWX2Grmrv/z3u4wHAKCKHQzDIISazO9U2IogmZ1ShvY9FAY99nCCYl1+mnMTJG3qKoRQ6lY1Rbgvq8IVsbN57Gacvp3qztpuzyhsLnvf0zWxZeqbWxIkvXtofusqguaA3Zpe6pjm1qYzOEbQjPM+LkhAEORzhuE4SbPB1IQvNhhIjp+X/vdGYZ5v5hfP/aieu/7Ff/bHgfjItvfWdUXUb988VMXOp0oCsUz9M2TiUqzz3ss+PgownCAp9s57IwTFYHuYKzENzTJuHYd1VdRV8RNWdN4GoaVKHfPeQnx7Fan9b4rmdpk5tpEUS95u/rrlHXf6Y8H0ZGHhjGVqYqfaa+ZDqUnLNIROuVfP4jjpT4xynjCGEaHMTKu0KPMNoV3WNYlmXEK70mvk7dOlPzbs22HR2v1FEJTLnyApDgBgGbrQKpr6jiG+N9I/8fT3ho6+cvePqutX5s/8f8XFj3a/8Y7hxJbyOHeClmn3nIbQspvKf1qmoRq330oILU3qNnLdPf82vI8pyvsGCvH3CW+4r+kJ880CtMxuPRtMTX2qEF/q1YsLH5ZWzvujw6H0lC86aOe54gS5GSubpvbwV6JAaOgqtAwAAAYwnKRRNg6C7GM4QUX6Dj71nX957sf/up67buhqt7px7sf/6uCXfy+1c6dVmzcy4PLHada9yzabCJqN9B3YH/PxD5HTF/OE0qxzb2cfDGOdvt3XX30qEFr3Eue5/InNxHqxXWqXlkKpyU51XWiVLdMgSCaQGHO4wxCakf6Da1deBzyQ+UZ943ps6Gi3tt6trQF7DUN0yL2Hux/3jqS5UGoyP/c+AEDXpMrqpbG7OrhtwgmK5tzbzmdz7gB5uzL9vcNxMj584q4yGDty+KIOb3jL7B5Jsw5vNJgY3/vjhu/M9EMAACjE3zd80SGnN8o3C5ZlNvJzscGj/tjQ3n+9W98oLZ/fuPZW1X05lJ4aPvbNjDcCAKBZ1+ZiF10WjF0TbyC07BwhAAAA2JYJoZ2QFHt7eT7UVck0tF1O29CyNKlr5/9gOMHcc0FlBEEeZRiG0w5PKDM9cvLbuio18rO6KlbXLuduvMM4vLG7sg5ImiVvH0BC6enU+NO+6OCeHggnOHfQ6Y3Zj0oQtN14FULLNDRoWTtlHRi6unmr88lEkPRmiRWXP9E386VtC5tsA8MIkvaGBz55y10enWY3i6Xomqwrn/BeaIqg3X6/SJq7MwWLZt3uYNLpi8lCS+hU2pUVAEC3uiZ2q/bdcncwRTvc0LKCyXGacQIMU4R2s7QQ7pvpVte61XWcIN2BlDuQ2HuAey9Imov0H+BcAYDhpqF1qqvd2sZOq+Z26W+F4yTAPqG17SfCMNwuwoOT9OCRr/piw3u8l07SnCeUtv+KNuMNknYEEmMHXvov9z6A+3ituG+g8GifCCYn3MFUZe0StMx67ka3no0MHN525fsWEEIAYLMwX8/d6DVyvUYOJ0hFvLUCiXX6N9eZSb367kdPaJlSt2poEgAAw3HG6d/LegDa4SVpBwBNCKHMN3VV3OW3LMsUu1X7tixOkA5veJccWQRB9gEcJ2jW1X/gy63iotStSb2aInby86c5T9gXHaQ5z52RBOPwbUZXrNMbSk8lRk/ttGcIIbRMaNlNA/+hDiCG4YzTR1AMUHhomQrfpFnXTjU3dEVQbi/wfTLRrGtzDRVGkL7YUGb6xZ02ttuX2lWe70ufJpp1bebfq1JXFrZfc7lJEVqb7xfNee5M7CFIinMFQ6mJyvoVqVvtVFZNQ29XV6VOlWI4T7jPXmwGLcvlTzi8kW4jq4idVnFRlfluPcs3CzhJB1OTDl902xKr9x1B0Z5wnx3TK0LLrlXtCaWZ/kMPtB7/NjCMYl0EyQDAYzjuiw4lRk/t0tkXQssydIDjOEZsXjyTNEdzHgwnoGUCCBnOk558DmD4Ls/FMg3T0AiKwXbd7ImFkhz2iWB60hvuJwgaWma7tNgszArtEoQQQrj7L0Jo6ZpcXbvcKi3Z34n0H/SEb91kdHgj9O3eFt16ThHbu+zQNPROZc1e+YTjpDuQ3EshKoc3YrfPgJbVa2SVnXNnIYSWqXVr6/ayfYKk3aE0RX9C3X0EQR53OE54w32Zqeejg0fsmcJmYa4w/0EjN2sa2p0HJac3shnw9eo5qVff9RgIVakrdspip3KrR7jdQ5Ag3cGkndJg6Gq7sqrtPLuhiJ07Cyw+gThXkHH67DlgoVmQuvVdUzqhropipyK0inY5B2vnIjB7QXNuznOrXorca4idyu4nPqlb36zAw7kCm82bNvcWGz5Oc25FaHcbWVXqtsvLUq9Gc55gcsLOesdwnKQYX3SIcwUVsdMszvPNAt8qKmKbJJlI3wHHHV11HygMw0mKDfcd2Lxpv3H9l5W1S4Yu7+Xsb4O3mBDsafudRuIKJOzastCyurX1zTXQ2z6iaWhCuyR1qrLQ0hQBWhaEkGIcnMtPMU4MJ1S5J3Yquibvknllr8fr1tZlvqnJvKHvq65V9wUK8fcJmnUFkuOhzJT9ZX7u9MrHPzN1BXzSh1wVO0vnflzP3dDkHobhFOOMD5/YvLXtiw5ttv+orV/mm/ldPm+mrpSWz9lnO4KkQ5npvTQ08UUG7Lx/yzIqqxeF2zXI7gYtU5V61bUrdh19gmJ8seEndqU8gjxpEqNPZaZf5NxBe9qvWVycPf0DRWjdeZRzBZNOX8xOEWwW57u19V1WEJq6tnzhbz/4y//ltX/7T9/4v/758oW/FdplYB++0tN2oT1dFcsrH+8yTy+0Cs3C3H18mo8d1h10+mJ2lC/16t36hrBDhXJg90haOnfhp3/4i3/3uz/5o+9eev3fdCor9/LoDk/EG7mV6tOtrTcKc5apg52j1WZpoVlcsP/tCfdt6epFc5748Em7LrMm9UpLZ5uFeUVoMQ5vODOzOWmF3aruHzJUsVtbz8++J7RLAACCYqKDRz7nZuqpiWeiQ8fshdF8I79x/e3VS6/vsdwFAMDUVUVoCa3SZv+pz8AuN2Rf21iWUV69tMt1L7TMTnXt3T//g9f+5Puv/Zvf/uAv/mexW7UvCynWFek/RLMuaJky3ygufKjvUCcHACA0i4tnf/h3f/pf/fSPvvv2f/xvls7/6DOPf79CIf4+gRNkuO9AeuoFkuYAhvXq2ez1t2++/+fd+sZOJckgtHqN3Mb1txfPvtqrZ6Fl0py7b+aL/vjI5gI1dzDpCfXZs2Ldera6drlZ2L4DpdSrl1cv1nM3FbFDkLTDGw6lJ2nuk0P8UHrSG+nHSRqaRnXtcm3jmtAqbbsl3yxsXPtlr5E1VJl1BfyJUZcvTu7cFwNBkP2EdfqjA4eHjrxiJ1coYru6fiV38137mt/GOHyeUMYbGcAw3N6gtHh2273pqtSpreVuvldevtAszncqqzTnto8nBMVEB454gmmCYjSZz82+18jPyttF+b1Grp69sXkL9MlEkJQnmI70HcAJwjL12sbVjRtvm8Y2TRgt01DE9sb1t0uLH7WKC63iAo6TOHlPOS005/YEM/7EGEExqtRt5ufWr75pty3bwjS0ZnGhsvJxp7ICMIygmGBqwhv+ldI3FOMIpiY4T5ggGZlvrlz8udAqmIZGO7yhzNRmTTkMJ3yxYYc7CKGlip2N62/zjTxJcy5/3B1Mfc4TTy5/MjFyKjP1AgDANNRG9vri2VdvvPOfm4W5nepIAgCgZemqVM9enzvzF4tnX+01ctY9hPg4TkT6D7pDaQwnoWlU1i5W1y7zreK2G/fq2dzNd2ob1xr52W49q6sCTlL2ZTnr9KUnn7VvrYjd2tL5H/PNgnnX9DyE0O6nm73xTru8ZD9THEeZ51uhV2T/8IT7UuPPVFcvVdevaArfyM9qiqCrcqT/oJ2rR1IswDA7CU5TBLFdrqxfzt14t7J60TJ1inH648MjJ77t8sc317AyDm8oNRHpP5i7+Z4m90pL5xiHjyBplz9OMg4cJyCE0DLEbr26dnntyut8M2/qqjuYig+d8ITSe0nUcQfTofSUPzpk3+4szJ9mXf7k+NNOb4ygGAzD7OVuQrtcmD+9cunnstCCAHgjA6nxZxiHFy23RZAnBIbj3sjA0NGv1zautkpLhiaJ7fLqpde8kQHG4bXDL5Ji/PGR5PjTQrtsaFI9e33F8XPG5fOEMozDS5C0vfpIk/l2eSU39149d0MROxTr9EUH/bERO9MAJyhfZCCUmWkU5tvlpVZxPnvzHZLmYkNHOVcQw3EIoakrUq+RvflOeeXCndcYTyZvpD898Ww9d1OVOq3S4trlNzzBtD3PvTkLoysi3ypW1y8XFz8SOhWCpJ3eaCg9fY/1nQmSdgUSfTNfXD7/Y7FT61TXFs6+SpBMuG+Gc4fsJRYQWpos9OrZ9WtvVtYuyXyDZByh1GQwNeHwhrfszeEJe0KZVmFeFlrFxQ8VsWN3WvWG+zeXfmE47osOcJ4whuGmoTUKs9Aynb5YIDnOOH3455KIv4liuEjfAe34t/hmwU5OKy2dE9olsVMJ9x30hNKs00fSDhwnAIYBAE1d01RB4VtCu1zbuFpYONMuL9s3uzhPyG3n23zKvHYMJ3zRwVBqsrp2qVvb4Bu53M13KdqRnHjG6YsSJI1huB0tCK1yYf70+tW3dEUE0HIHkpGBIzTjtG/NMQ5vauLZ/PxpmW+oUrcwfzqYnjR01Rcd3FxDbJmGKvc6ldXc7Lv13A0AMIKiQ6nJQGLsvr+2jzsUHu0fJMWEMzNHvvrfXvjpHzYKc7omNgtz7fJSKDOTHHs6nJl2+mI4TlqWoStCt7aevflOI3fzdtILG0iODR7+Wv+BL22Jy6ODR1W518zPyUKztnFV5psyXx849NVbETyEqtzLz32wfvXN4sKHEJoU44gMHJ589rdJitvL8heCpOPDJ6RurdfMG6qUm3ufbxWFVikz/aLDG8UJ0jINmW+sX31z4/ov69nrAGCcO5gYOTl4+KvEvU3/IAjyeGGdvkjfwYFDv2boSqu4aGhy7uZ7saHjTl/MTi/EMCyYmhg9+RuV1Uvd6lqvkVu99Au+VRx/6juh9DTr9AMMt0ytWVzIXn974eyrhirhBOmLDg4f/5bTH7PX+mMYhpFUevI5qVfnWwVDlZbP/1jqVDS5Fx8+QVAMhJbYqRQXPpr/8K/4Rg4n6Z0agj4hvJH+voNfzi+cqWevK2K7tHxW7JQnn/2d+PBxpzeK4YRlGb16Nj/3/vyHfy11a9AyXcF0evrFcN8M80ndcz+R0xuZeOofNfNzuirLfCN7/ZeazA8f+0Zi9BTr9AGAmYbWLi9nr7+9dP7HdsjuDfVNv/hf+GMj24bjofRUszAndqtStwYAcHgj7mDqzqx9HCc8oYzLn6BYlyb37BQXpzdq/3nc49P5DNzBVP/Bly1Dnz39g1ZxUddk+yaJK5AMpSbDfQfspXEYTkBoyXyzV9+oZ280CrOaIgAIMQwnKJZmXZmpF/tmXvKE+z5tNWoMw0iaS4w9JXYqc2f+0lCl7I2/F1oloVPpm3mRc4dwgoKWpSn82pU31q/8XXX9MgCAcfhiwyeGj76C366xQXPu2ODRzOTzmtRr5GelXuPy63/SLq8MHflaODNjl+TXZL5VWpw/85fV9Ssy3yQpxhcfTo59IZSeuu8v7OMOhfj7Cu3wxIaOHn3l9+dP/0Vu9l1dlSzTaObnutU1gqQxnAQYABBAaFmmbmjyZvfZ6MDh0VO/OXzslbsPT5w7mBx7+sQ3/+Di6/+WbxaEdnnho1fXLv+dwxtmHB4AMKFdUsSOLvMQmhhGZKZeHD35G8H05E4NMu7miw4OHPq1Xn1j/epbitjuVNeuvf0f5j/6a4c3QjNOTZXETkWTe4YqAYARFDN66jdGT33H6Y0CVBQfQZ4wFOcae+q7nepqr541NBlCc/3qG5wn5I3023EJRTuCqYlT3/6fLvzsD5uFOU3ulZfPN/KzrNPPuQI055a6NVloqVJHV0UAoS8y1Dfz0vCxb2zpmhRMTQ4c5PlGbuP626ahlZbPN4sLnDvIuUOWqYvdmiK0NJl3+mMM52nkZx/S6/FIwHDSE8qc/OYfXHz9T4oLZ3RNaldWPv75/8m6/Jw7yLmDUrcm9xqK1NFkHlom5w4lRk8eevn3uPuRtk5QjDc6eOjl//rme3+Wu/mOaWiV1Yut4jzj9Du9UZJmpF5T5huazOuKAAD0RvpHT/5G/8xLW9babgqlJkuBVGX1ov2l0xvbks9jcwUSnlB6863n3KFwZoYgH06RN8bhHT7xLdblX7rwk9zNd+2iFGKnogit8urHOE5iGAYABgC0LMsyddPQTEO117HQnDuYnJh45h/Hho66g+nP3G0mnJmBlqUI7Y0bb6tip1VZFt7+9/Mf/qXDE6EYh2loUqeqSB27NB+GEaMnvz164luuQHLLI44//VsAw3RFaFdWNJlfvfRaYf406/Q7vGHT0FWxLfXqmsybukqQtDucOf71/yE6eHTvIceTA4X4+wqOExTrjA0eISg6mJ4qLZ5tlRYUsb3T2naa83gj/YmRk4nRp8J9B1mn/+7KuHZtyszMS6ap5+c+qGWvie2yJvOy0LRnvHRVgpZBc+5wYjQ1/kxq4tlwZvpTpcgTJO0N9089/31XIFVc/LBZmFfEtiJ1pV6dIEjTNAxNBhBwrkAgOZaefCE9+awvOoBSdBDkCYTjpMsfy0w9L3VrdtOfTnWtvHw+lJqIDhzGCArDcYbzxIaOHfry7+XnPiivftytrhmarIptoVXESdrQJMvQAYbZm2WmX7Sz/rYc/UiKCaWnpp7/vtMXKyx82GtkxU5VEVq9Rh5Cy9RVCGBi5GSk76Bl6E96iI9hJM0FUxMHvvjPPaF0cfGjVnlJEVqq1BXbZZJmdVWym68TFBMZOpaeeDY18Zw7kLovd2IxDCdpNjpwGFqmO5gqzH/QrWdlvmkXO8JxwtAV09AwDHd4I/Hh46mJZ5PjzzBO306F233RQVcggROU3ebF6Yt6t+tW6w4k3cFbIT7FulyBhDfSTzykExOOEwzniQ+fYJz+2OCR6vqVRn5WaJV0Vdx+xTmGkRTrCfeHUhOhzHQ4MxOIj7LuwL0sbyMpNpAYm37xn3nCfbmb77bKS4rQVsSu1KvjOAmhZagyhCbFuvzxkb7pL/Yd+FIgOX733wDnDg4c/ArDedavvlnbuCoLbV0VpV6db+ahZZmGar+b7mA6NnS0b+al2PBx1uVHRTPvhoKk/QbDcM4dTIyc8gTT3nBfszAvtEuy0NIVwT7CAgxgGEHRHO3wuvzxQGI0MXLSGxnYpVUHSbGeUHro6Csuf8IfH+lUV1Wxo6uyZeoAAyTNMZzXFUgEk+PJsS94QpltdxUbOo7hJEkx3kj/3ZV2aM4VHTzKOLyeULqWvc438qrcM3XFMk0MwynWyTp97mA6lJlOjT/j8Ea2FFTGMJyiucTIKZp1Mw5vODNN7VyRF0GQh47m3JH+Q3YxSk8o7Q6m9viLGIYRJB0bPmEa+uaCfk8wbRn6ZmUdnCAdnlD/gS85fTFvdKCZn1Olrq4IhqEBCHGCpBgH6/S7/In4yInIwGFPaPuZS84dTI49xTh9rkCyWZyXOlVN4S3LIgiSdngcnkhq4ll/dFCVukKnAgCIDh7+3AomPgg4QaUnn7ML1JA06/BG9j6TguMEzXmSY1+gHR53MN0szMp8U5V7pq5Cy8JxgqBZhvM4fNHYwJH4yAlvZPDu2M4fG+6bejGYmAAAuH61k5HTH09PPOcN90PLCqWniLtOAfab5fBGXIFEq7Qo9+qazOuqDADASYpinJwr4I30J0ZOhTLTWwrpbMG6ArGhY1K3ZtdhTIye9G7XQM0T7s9MvWin+jAOT2L01E63BT43Dm+Ecfr9saFAYsxezCp1a5rc0zUZmoZdRpMgKZLmGIfX7iwRTE0GEqPuQHLbHZI0F8rMQGjJfMsXGyRpzm4JtxPW6YsNHWOdPqc3Ws/fFFpFe7rdskwMw+y/AacvFkyOZ6a/6A4mt9w6s+E46Y8NsU4f6/T7E6O9ek4RWoYmWaYBASAIimZdrMvvj41Eh47Gh4/TrGvLFD7r9IczB9SjvGXosaGjDLfj+4ITZGLkJOsKQGg5vZE9NsN+XGCKsn25lc/f2trauWsb1+VDJkAJ1veH3WRE6lZ79SzfKqlC2/6Y4STt8EZ80UGXP/5pD0m6KkndWruyInYquiJiGM55Q77IoDuYsmvM7UTmW4auYBhGEBTt8O4yeaPKvV4926tnZb5laDJOUO5g0hcddPpiO12H2GV9VbFr6CqGEyTF0KwLTfPfowSYPT5APfPU1gaiyH6Sy+XOXV64LB37nA+8lqFrqmi3sSMIimKdm+2T9khXpc02GjhOEBTDODx3R+qmoSliu1Ne4dslVewCaJG0w+mLesJ93nA/TpJ7SUuwDF3sVNqVlV4jbxoqxTg94UwoPW039zF01b5TStIsxTjvS0envcOBPgTO18FgByTucVfQsmS+aZo6AADDMNbltxdKftr9WKaha1K7tNRr5hWhbRk6STOsK+gJZfyJEZJkd2oVrMm8rsl2aRfOFdisYAMAMDRZUwTTMACANOukWNdOc/AQWorQ7tWzdoALAKA5l9Mf90UHXYHkHptS6aqkK6L9Uuz0cJZp6KpkV63BCZKiuc/c1DYGFimg5MHBz/brO1FlXupUu/V1qVvTVRlaJoZhFOdyeMKeUJ8nlLabRu2yB8syNUUwNcWyTIKkWZcPw4g9zpcrYqdX3+jWc6rQMnQVJwjWHfSGSaImowAAIABJREFU+93B1B7ritqVc/hGrlvbELsVXZUBgBTr8gRTvujQLvccTEPTVcnQZAghSXMM69qpcJP912InLeMEwTr9n2G1dBisHYj0fu1Lz37aX3zQUIi/n9mX7NAyLVO3LPOOdiQYjhM4SeE48WnT1yC0LNPeoWGn8WE4gRMUTpC7d6u2LPNW+WoM270RHbQsy9Qt07AsEwAIAIYTBE5QOE7udGK49UyhtceHQPYChfhPgocV4tsTELdL2tuf108XSkJoQeuOsow7fOrtFrb2IeVWGUcMw3ESJ0j7XL6XA4VdDMQ0dMs0AIAYhuMEiW+Gv/Zz2XkMD9T9DPEhhJa1WVQew3H7KX2G/QAITVOzTOP2DjEMJ3CCJEhql31Cy9ostYnh+J1/EhBa9m6B/Zbt/Dr//+zdd2Ac530n/Gf6bO/ovRcShQALQLCTIkVRsmxJtiIpLlJyFzv2vZe7i3O5NOfuTe513tiXxE4cd0m2LNnqkkVR7FVsYAFBgiB6r4vtbXan3B+QKYqkQIoiuCjfz3/Y2Z39zRbMd5/5zTO/u4BuQlXk6b0eRdHUB7s89jY3R9NUTdWmX4qPe7rpej4smKI/bg91S7MU8TVVVVV5+nX4aJ0MzbA0w97y/f3I95T64Et6m6+hqiqqIqtK4uqH6jbTwrXPTgj53Uo+2IQPvn0Md90nZOayZ/60/O6e5PZ/wFxrzkZ8DHMuZNOfVOqDb/LdWuf0f4ZPnAZu8ytNPvj9IXyieQk+2NIZDyACwNxBUdSn/MJSFE0xt05UFEV9+v+BFEVRDPexw3sURS2Ii8xQFEUxd+G/KEVRhKJYWvykPxspmv64V5Ki6NuMXtMfLZpmPs2PVoqib/nxnN7MufzWUzTN0Dzzu/lq7mQNn+J7StPT78KdH9Sa3rMzLPdJI8ftl/3p/xHNZXP3owkAAAAAAHcAER8AAAAAYEFBxAcAAAAAWFAQ8QEAAAAAFhREfAAAAACABQURHwAAAABgQUHEBwAAAABYUBDxAQAAAAAWFER8AAAAAIAFBREfAAAAAGBBQcQHAAAAAFhQEPEBAAAAABYURHwAAAAAgAUFER8AAAAAYEFBxAcAAAAAWFAQ8QEAAAAAFhREfAAAAACABQURHwAAAABgQWGTXcBHUJTGEFlLdhkAQAihiUoIUVWVpjEWAAAAMJ/MoYivqiotB3OoFhUZH2AOEEkoHrO53W6Hw8EwTLLLAQAAgNs1hyI+IUQnivaMXEJhyBAg+UKeAUEQ9Xo9RVHJrgUAAAA+gTkU8Wma5gTRmZ5PM1yyawEAokoBjidGozHZhQAAAMAng/FyAAAAAIAFBREfAAAAAGBBQcQHAAAAAFhQEPEBAAAAABYURHwAAAAAgAUFER8AAAAAYEFBxAcAAAAAWFAQ8QEAAAAAFhREfAAAAACABQURHwAAAABgQUHEBwAAAABYUBDxAQAAAAAWFER8AAAAAIAFBREfAAAAAGBBYZNdAMxFiqLE47FIKHjTpRRF6fQGnhcZ9m5+fjRNk2JRSYpSFG0wmmmapijqLq4fAAAAYJFAxIebCAf9XR0XD+156+aLKYrnBavdmZNXXL60zmZ3Msxd+CApitxxueXShdO8IG7Z/pjBaLorqwUAAABYbBCh4CbCoWBHW8tLz33fYDQbTRZRp/9wmaapmhaNhHheKCypDAX9TRu2Tw+6f8onVRSl68rFve+8YjCaVq/bptMZGOZTrhIAAABgMULEh5kUlS6prludV1h69RZNVePxeGf7+TMnD584sru741JJeXVOnp7m+STWCQAAAABXIeLDTFypGRVVdVW1DdfcpqmqVr9qXWZ24cHdb/R2Xz7ffFRvMKZn5iatSgAAAAC4BiI+zEQQdBaL3eFKvXHRkpoVg31dVy63jA0PhK85MTeRSPi97tHhfq/HTYimN5gczrTMnHyO5ahrmnkURQkH/UMDPT6vW1EUo8mSlpGjyIl7sVUAAAAACxoiPtwhnd5gMJoIIbKiaJpGCFFVJRwK9XReunLpXFfHxWDATxEi6vTOlIylNStKK2vszlSW5QghiUR8sL+77cLp1nMnQ0G/pqomiy03v2R8bCgWi0yvFgAAAADuDCI+zExTNVVV1Q//1jRNU1VFGRnqGxrooWnaarMLgqBpWiIe7+1s+/Xz/3rm5CGaovOLymmG6e1unxz/7f5dr/7B1/9y1dr7rDYHIcTvndr37qtvvfzzoN+XW1Aq6nT9vZ17d76amp7pnZp0OG9y0AAAAAAAbhMiPswkFosG/N4p99jVW6RYzOOe6O/tOLLv7YvnT9nszqpljQ5XmqaqXs/kr579l64rrVXLGh585Es5eUU0w0yOjZxvPvraiz/Z+eYLhKa2Pfg4IWTfu6+dOrbPZLZ+6T9+s6yy1mS2+rzu08cPvPP6L/0+T/I2FwAAAGAhQMSHmVxpOx8Jh94/+O7VW2RZjoRDXo87Eg4WllSubNqck18s6vSBgLezvbXzcktKetbKxk019atNJgtF005XOscL7W0tA70dnZcvrFq9WdQbWs+dCAb85UuWrV6/ze5MFQQxNZol6vSXW8+Gg4Ekbi8AAADAAoCIDzMJ+LxDVLfHPU4IURTZ750K+L2yLGfm5Fcsra9vWL9qzRarzcEwrM871dl+IRDwlZRXm8xWj3vC456YXomqKumZOZ2XW8ZGBkZH+i1Wx8hwv06nL62ouToPj6jT5+aXVFTVjQz1JW1rAQAAABYERHyYSWFxRe2KNXlFZYSQaDh04eyJ1nMnptzjazft2LTtkZKK6unTZwkh4WBgeLBXTiQmx0fOnT7S09l2dSWSFBsd6k/EpXAoMDTQE/D7pFg0JS0zPSvn2ueiGSY3v8Rmd97LDQQAAABYeBDxYSau1IyKqvqqZQ2EEE1Vl61ce/bk4Rd+9s97d74iSTFZlquWrZq+pyzLsWhE07TR4f5wOMhxH14JS1XVRCLOspzJbKUI5fO4ZTnBsizHCdc+F0UojhcYFp9JAAAAgE8FcQpmwvGCwWCyWO3Tf5osNqJpAZ/3tZd+fPr9A6KoT8/KtTtcDMPSNEXTDEXI0mWrqpY1mkyWG9fmSs1wpaYPDfTSNK2qqqLKH12uaaqqaRpFUbO/ZQAAAAALFiI+fAIMw6Rl5G7e/khvT3vz8YMnjuzJyinYvP1Rg9EsiDqbw0UzTGZ2QcOaLflF5VcfFY9Lk+MjPo9bpzdYbU5FUQRRFwr6pybHr125qmlez2Q0EjYYjPd8ywAAAAAWDvrWdwG4Bi8IrrTMTds+V1S6ZHx08M2Xfz4xPpxIxE1ma25+iSCIQ/3dfd1XEvH49PWwFEXxe6eOH37vjd/87P3D70XCwYysfIvV7vO4ezouRSMhRVEIIaqqRCPhvu52n2cy2ZsIAAAAML8h4sMnxrJc3cp11XUNJottoLfjyP53xoYHHM606roGV2rG5Ytnjh7cOdjfNX3BrFDQf6Xt/Gsv/uTMyUORUNDhStMbjEuql3M833Lm/VPH9gf9XkJIOBRsu3D67Kkj46NDyd4+AAAAgPkNjTrwiVEUpdMb6latn5wYfeOln+5797X0jFy7I8WVmrnjkS/u2/XaxfOnfvhPf1tQXMEwjNfj7u/tmJocXb1he1VdgyCINE2v2bQjFAycOLr3Vz//59PH95st9kg41HWllRCiR5cOAAAAwKeDiA83wfGCMyWjuq4xJ6/IYDLf9D75ReWNa7cO9fckEnEpFo1GwzaHa/X6+zVNaznz/sTYcDQaJhqR5QQhpHHd/Ru3fq60ooZmGEJIYcmSpo3bCUXaL57r6bzMshzNMKJOX1JePTE+7ExJ53mBonHSLQAAAMCdQMSHmzAYTaUV1Y9/+RtpGTkpaZk3vY/RaF5Ss9JgNPu8U1a7Q1VVluUysvIeeuwr9avWt7WeGR7sURIJk8WWk1dcUbXcYrPz/AezZHIcX7dyfWFxZeu5k/29HdFI2GZ31dSv1htN7olRQojeYKJp5t5tMMDdEw6HI5GwxWLhOB7TQwEAQFIg4sNNCKIuLTPH4UpjWZb53cWtbmQ0WcqXLFNUhaGZq3fjeSE7tyg1PUuWE5pGaJrmOI7nxenx+6soirLYHCtWb6xdsUbTVJpmBFFHU7QrJZ0QwvECshHMU0eOHNizZ+fTTz+Tl1diMJiSXQ4AACxGiPhwEzRN0zR/7eWrbophGIbR3eSxPM/xt3gsRVEMw+r0xusez3If+4sCYF4YGRl77709w8M9zzzz1eXLm6xWR7IrAgCARQcRHwDgblIURZY9PD925IgtkUisWbPZZLImuygAAFhcMGkmAMDdxPNsdjb/1FPKxMTb+/e/eOnSuVgsOj2HLAAAwL2BiA8AcJcZDKSxkXzxiwpF7f+Xf/mHoaEuSYomuygAAFhEEPEBAO4yiiIcR6qrtQceiBUWXvjWt/57c/OxQMCb7LoAAGCxQC8+AMCssNvJsmVaIuEZGTm0b59LkqSVK9egLx8AAO4BRHwAgNnicpHVqzVRlH/601cTCcVoNNbUrOJ5gaZxBBUAAGYRdjMAALPIZiObN5M/+qOE3//6P/zD3/b3t8dikWQXBQAACxwiPgDArKuuJo89plRXt//5n//JyZOH/H5PsisCAICFDI06AACzzmoltbUaIf7JyeY9e56PRCJr1mw2m23JrgsAABYmRHwAgHvB5SIrVmiCID/77DvHjhGz2VJfv1oQdOjLBwCAuw4RHwDgHrFaybp1hBD5l79854c/DKWnp2dlFYmiLtl1AQDAQoOIDwBwT1VXE0lS9u49/9d//c3/9J++WVlZm8SZNDVNI3Ikl2pRNSpZNcCnQRFVICEX6bGS0WTXAndIJEGaKHnkTLILgTshkFBCYgYGBlJSUkRRTHY5H0LEBwC4p6b78iXJ6/OdfPvtn4VCn1+xoimJffk8x+anphAK/ULzkqYqwYmgzWzl9bjkwnwV9WuqHE93pCa7ELgTsQDFswm9Xs8wTLJr+QhEfACAe83lIqtXq0Zj9PnnXz98WNY0taFhg15vvPd9+RRFcYKQmlVCM9w9fmq4KxQ5EfOPWJ2ZFmdOsmuBOzQxICekSHpOebILgTsxNUzRcbfT6Ux2IdebYxFfI4qc0LRklwEAhGiaSgitqirOB50NdjtpatIoSv7FL97+5S89KSkphYWVBoOJotAwAwAAn9YciviqqkbDvpGukwQRH2AOkKIBgbK63W6HwzHXjj8uDCxL6upIIqHs23f+b/7mz/7bf/vLqqrlmEkTAAA+vTkU8QkhHC8a7ZkUhTABkHx+dz/PC3q9HuPKs4SiiMlEamo0VQ1EIq1vvPHDQCDQ1LQJKR8AAD6lORTxaZpmedGako+WUIC5QIr4OZ4YjcZkF7LAuVxk+XKN52PPP//eiRO8Xm9YvrxJrzfilxUAANyxORTxAQAWp2v78n/zm7jT6SwsrBRFHVI+AADcGZxFBwCQfNN9+Y8/rlitx//u7/6qre1sOBxIdlEAADBfYRQfAGZRLBb71a+eHRgYkKR4smu5RwYGOo1G5pOOv0/35dfVaarq3bv3zM9+9g8PPvjlVavWWa2O2SkTAAAWMkR8AJhFiUR8//6dNH0+O1tKdi33SGkplZen8vydPNZuJ3V1GsuGXnhh//HjRkLI6tUbDQYz5i0FAIBPBBEfAGaRpmmh0NRjj7mfflpNdi3zg9NJGho0hpGff/6tt98O2e32ioplSbkqFgAAzF/YZwAAzC2iSFasIE8+qdhsx//+7/8affkAAPBJIeIDAMwtNE30elJdrW3eHFqy5PJzz3332LH9gYA32XUBAMC8gUYdAIC5yOn8SF8+x/ErV64xGMyYSRMAAG4JER8AYI66ti//3Xc1q9VaUbEM8+UDAMAtoVEHAGDu0unI6tXkmWcUitr1v/7X/+joaAmHg8kuCgAA5jqM4gMAzF0URTiOVFRoDzwQO3Dgyne/+62nnvra8uVNmC//E+nv7aAIsdgcFrxu84ciy9FoaHx0OC7F9AaT3ZliNJopTC01fyiKEgz4PO5xSYqJoi41PUsU9TTDJLuuxQIRHwBgrrPZyLJlGk0HXnrp2JEj9kQi0dS0yWSyomPnluJSzOOZ3L/rNaPRUrO8CRF/vnBPjHZ3XrrSdn5idDgel3Q6vSs1s7CksqKq3myx4ZM/x2ma6p4Yu9J2vqu91e0eS0iSIOpS0rOqalblFJRYbfga3guI+AAA84DLRVat0jhOfu65t/fvj5vN5pqaVZgvf2aJuDQxPtJ84uDON17ILyzPyisqLlua7KLgFjRNjcfjredP7t/1+rnTR3Q6A8OwkhRVVbW4dKkgiqUVtQajKdllwkyCAV/r+ZNvv/xsT9dljuNYjpcT8WgkPLKlb8PWh6vrGjmOx++02YaIDwAwPxiNZPVqomnK66/v/8d/nPzbv/12SUmVTmdIdl1zl3ty7MTRPT/53t8F/d78wvJklwO3RZbl0eH+t195rqfr8pKalY888R9s9pTujosHdr9x4sjulPRMluWqljUku0yYybnTx3a//eu21uZN9z+ydtODKWmZg/3dr/7qh4f3vq3IiYysvLSMHAYdO7MMER9uQlGURFyKREI3LmJZTq83MCxLUXd57FDTNEmKxaUYRVEGo4miaPzEB7jWdF9+dbUWj3/Ql/8Hf/Bfq6uXm822ZJc2t6iqIsViZ08dPnF07/nTR2PRiKri4srzRjQSPrp/58hQX2l59aNP/Mfi8ipBEK12h8Fo8rjHLl1oLipdUlFVz7JcsiuFm9A0LZGIXzx/cqCvs7is6r4HPp9fXCGKOovNwXHcz3/w7d7u9lPH9m3/7FOI+LMNER9uIhIO9nW3Hz+8+8ZFDMOKOh3HC2aLPT0zp7CkUm8w3ZVWAUVRejoudVxu4Xhh3eYHdXojvv8AN7LbP+zL37cvXZKklSvXmEzWZNc1h0TCoZYz7+/d+cpgfzfH8dV1DW0XmpNdFNwWTdNisci55qOqqhYUV1RWLxd1eoqiRJ2+pLy6qrZh33uvD/Z1e6cmXKmZyS4WbkJV1cnxkcG+LlVVl9auyi8ut1jthBCOF6rrGnMLStouNLeeO7H1wceJkOxaFzpEfLiJUMB/qeX0T//17w1Gs9FkEXX6q4s0VZXlRDweN5ktZZW1G7d+dtnKdXrDXWgIVhS5/dK5d177hcFoqlu5VhB0iPgAN+VykYYGTa+Xf/KTV/bvjzIMvXLlOnxlropGwhfOnXBPjuUXlReXLWVZbniwN9lFwW1RFDkcDPT3dFit9vTMHJ3+wz40UacvX1p35MDO8bGhwf4eRPy5SVWV/p4rXo/banNULK3neXH6dpqmDUZzVnZBR9v5/t6OWDQsijrMrjOrEPFhJkWlS6rrVucVll69JS7FvJ7JSxear7Sd37frtcsXz/zvf3kxO7eI5vkk1gmw2Ez35cuy/MtfvvO9741nZGRkZxfr9cZk1zUniDp9WWXt6nXbMrPzCaFOHN1D00gS84MUi3qnJmPRsKWg2Gy1X7uIZTmnK43j+IDfOzk+kqwKYWbTo/jRSMjhSktJz2TYj+RMq90p6owB35RnakJvMF07gAh3HSI+zMSVmlFRVVdV++GJTaqmyon42s0PHt779qG9bw8P9raeO6k3mNIyspNYJ8DiVF1NJEk5eLD9z//8T77xjT9dtqzBYrHf+mELnU5vrKlv4jhOEHQBvzfZ5cAnEJckv8+jqqrAixz3kU4OlmVtzhSO5+VEXJKiyaoQbkHTQsFAPC7xvGA0WeiPnrYn6vSCIMqK7PNOpaZlIeLPKkR8mIkg6CwWu8OVeuMiv9czMtjb09k2MtQXueZym6qiBALe8dGhoN9LCNHpjTaHKyUtk2HYa0+f1TQtGgmNjgz4vVOaqhlNFocrVVXke7BRAAuG1UpqazVC/JOTzXv2PB+JRJqaNiHlsyxrszuTXQXcCVVV5ERc0zSaZq7r/6QomucFmqIlKRYN32Q2CJgLNE2TYhFFlmma5jiOfHTaDIZhaIbWVE2KxRScBD/LEPHhDlmsNpsjhWhaLBqR5QQhRFPVeFwaHuztunKxs/2C3zdFNGIwmtMyssuX1mXnFZktNoZhCSGKLE9OjPZ0XrrYcso9MUY0zeZIySsonRgbluIxA8GExwC3y+UiK1ZogiA/++w7x44RvV6/cuU6UdRjvnxYqBRZTiTiya4CPpaiyKo2c3zXNFUlmnaPClqsEPHhDk1Njo+PDhGKEvV6huUIIYqiTE6MvPTs9w7ueSsU9KdmZGkaCQf9khTLzS955ut/sbxhw/T1SqLR8P73Xn/1hR8ODXSbLTaO52VZlmLRrNxC79SE3e5K9sYBzCdWK1m3jhDyYV9+bm6ZKOqSXRfArOB4XsDHew6jKIYimPM6+RDxYSaSFPX7PVOTY1dvUTU1Lkm9XZf3v/f6+eajeoOppm61y5WuaarfN/XCT/+p9fzJkvKqTdsfLSyuoGlmfGyo9eyJPTtf3vPObxiaWbPpAULIoT1vnTj8HsMwX/7qny2pXmGx2r2eyROH9xw/stvv8yRvcwHmsWv78r/5zb+prKzFTJow73C8YDBbaJpWNVX76EiwoshBv0+WE3qD8dqZdmBOoSjKbLHygiDLiWg0ct2bmIgnZFlmWM7uTOEFzJo5uxDxYSbtl86FQ8FjB3ZevUXTNFmW3ZNj7olRpyt9ZdOWotIleqMpGPB3treePXXEYrWvWnvfuk07rHYXTdN5wTKb3dnb3d7T2Xax5VRVXYMg6k4fPzA5MVpcXn3/Q0+kZWSLOn0kHLLanKMjA+FQcIZ6AODjWK2krk7jeX8o1PzKK9/3eH6vsXGD1epIdl0An4AgiDa7i2W5UNAf/mjDvSzLbvdYIhE3GE1WG861mKMomnampOv1RkmK+TzutPRscs01yoJBXzQSFgTR5nBdnU8TZgkiPszEOzWZiMdHhnoJIZqqBgK+cDCgaVpGVl5+UXlN/eo1m3bY7C6WZf3eqc72C96pyYLiitT07Hg8PjE2PL0SUafPzS/u77kyMtg7PjJosliHBnp4XixfsuzqdJx6g7G0oqayqn5sZCBpWwswzzkcpLZW43n5xz9+78QJnuO4hoYNev1duGwFwL3B8bzZYrPZnX6vxzs1oarK1SudJ+LS8ECPFItZrI6UNEyKP0fRNJOWmWMwWUJB3/BgT1HpEoHoCCGapmmaOjk+GouGHa40g9F83XyacNfh9YWZZOUWli+pzczKJ4Qk5ET7xbMdly9EwsGmjds3b3+0rKL26lc0GPAN9HXJcjwaCfX3XAlc028TjYbDoaCqKMGgf3Cg22Kxx6IRpystMzvv2ueiGSYnvwTzYAB8GhYLaWwk8bj83HNvP/+8NzU1rahoiR5dDTBP0DSj0xmKSpecO31sdKg/Gg7pDCZCiKaqoZD/cuuZeFxypmZkZOcnu1K4OZqmM7MLbHbn6FBf+8WzKxo36fRGiqJUVY2Eg4N9nYlEIq+ghON4ikK//uxCxIeZZOcWrlpzX1XtKkKIpmlrNz3YfOLgb57/t/27XmcZlueF4rKq6XvKciISDqqqduHsic721umZc6apqhqXouFQMK+oTIrFphLjiUScveF8KYpQok7HshwBgE+nro6MjpJ9+zq++93vfutb/19eHvIQzBuiTt+wblvXlYsXzh3f+eavtn/mCZ3BOD421HziUPOJg1k5BQVF5TodfrXOURRFGY3motKlfT1XTh7bX161vG7lOqcz1ed1v/mbn3V3XMrMKVjZtIXlsK+fdYj4MJPfzYufNv2nxeqgKCro9/72tV+cOLpX0OmdKelmi51hGIqiaJqhCKmpX11RVW80mm9cW1pGTnpW7tjIIE3TmqoqqnLDXSiC0/ABPjWvl+vr40KhlJqaekytA/MLL4hLqlfULF9z4ez7u958cWigR9TpfR73YH8Xy3JrN+0oX7KMYXC54jmKoiiGZZetWOv1TB547/V3Xnv+4rmTJrM1GPCdP3PM5kipX7WurLL22nFAmCV4ieET4Hg+Myd/0/2PdF25eLHl9IkjewqKKxrW3KfTGzheMFtsNEMXly29b8fnc/KKrz5KTiR8vqlwMMALoqjTy7LM8UI0Egr4PnLVSU1TQwG/JEWRSADumCRRU1P0u++yvb2FOTmbdux42GazJbuoZGI5zmZ3lVXWpGXkmMyYYmgeYFk2NT2raf39NE1fPH/qwtnj0x0dok6/ZuMDDWvvQ5fO3FdYUhGLRSLhYE9n25VL5wghqqaazNZVTVuWN2xwpqQnu8BFAREfPhmdzpCdV7Rx22eDAV93x6XXXvxx+ZI6QRCNRnNmdj7L8qPD/SODfVnZBRRNUxSlaWooFDh36kh3x6W0zJy6levSM3J0OoPXMzXY3y0nEgzDUDStaVoiER/s7/L7PCLOowK4I6pKud30/v38T35i3LLlgSeeeLK4uPjWD1vQ9AZjWWWt3ZEiiLqbXqgb5qb6hvX5xeV93Ve6Oy7GYzGj2ZKdV7SkZgXPi+jhnvsEUVdTv7q0subS+VNDA92RcEhvMJVW1uTmlxpNNznID7MBER8+MY7jmjZsH+zrGhnqa7949uDuN9ZsesCZkl5dv9r68s9bzrxvNFmzc4vSM3MohgkFg1fazv3ix98J+D337fjClu2PijrDktqV7x/c1fz+/tr61eVL68wWWyQcar90/uSxvSNDfamI+AB3pLub2b1b+NGPdM8882fr12/Jy8u79WMWOpblLDaH0WyhKArdHfOL1eZcUm0urajWNI2maZbleB4zqc8bFEXpdIaqusbK6uWqqtI0zXECWvDvJUR8uAOUwWhatnLt+Njwrjd/tW/Xa2mZOTZ7SkZm7me/8Mzed189c/JQKOgvLKngeGFqcrzrysWxkYHlDRuWVK8QRT3DMGs3PhD0e8+cOPT8j/6xfOkyi80ZCQUvXzxmXsw+AAAgAElEQVQbj0u4ZiHAnWlvZ999V7hwoehLX3pqw4b7srOzOexNpzuDGQbhfj5iGIZhdNgpzFMURVEUJYo6QvAOJgciPtwEy3FWu7O4rCotI/vGiwhSFEUIVViypGHtfUMD3Yos+32ecDhod7jWbn5QUZRzzUeHBnoCfg/DsLFoJB6Xljdu2rjts+VL66Yn2Swprw74vUTTOq+0trWeFUSRoWlCtOq6xvGRwZS0TBbTaQHctliMGhuj33tP6O6uyM3d+rnPPepyuVjMOQ0AsIhhHwA3oTcY84vKd3zu9/OLyh3Om3evWm2O6mUNNE27J0btDpcUjbAsl5GV9/AXnqmuazzffHR0ZFBJJIxmS05eUe3yNa7UDFGnn36sTm9oWLOlqKSy+cSh3q7LkhRzulKr6hrNFtvwQA8hlE6np3CxHoDbIEnU0BC9f7+wd2/6qlU7nnji99PTcSobAMBih4gPN6HTG/OLyjOy8jiOZzn+4+5ms7tWNm1WZIVl2asNdjq9obi8Kie/WFFkTdNommFZThDF62bIYljOlZa5cdtnE/EHNE1jGIYXdTRNZ+YUEEJEUY9RfIDbcfky89Zb3EsvCd/4xtc3bNiamoozSgEAABEfboamaZ4XbnliE8OyetZ442MFQRQEcebHUhTFshxrvL5XGGdTAdy+5mZ2506hvb3o6aefbGramJGRgaZzAAAgiPgAAPNRLEb199PvvacbGVlSWbnt0UcfczgcPP+xx9wAAGBRQcQHAJhnolGqr4959VXh4sXy9euffOSRz5vNmGoaAAA+hIgPADDPdHbSb70lvPWW/Zvf/JPGxrUmkynZFQEAwNyCiA8AMJ8cPMjs3avv6Sn+4z/+6rJlK6xWK85NBwCA6yDiAwDMD6EQ1dJCv/uu3uutqa9/cNOmbXa7HefXAgDAjRDxAQDmgVCI6uhgfv1rcXS0tLHxoSef/KLZbMb4PQAA3BQiPgDAPNDSQv/61+LFi9lf/ep/Xrt2M/I9AADMABEfAGCuO3yY2bXL7PdXfuMbX6+tXYF8DwAAM0PEBwCYozSNRCLU8eP03r1mSVq9deuja9duNhgMyPcAADAzRHwAgLlI04jXS126RL/2mkGSqtev/+yOHZ8VBFz+GQAAbg0RHwBgLlJVcu4c9f3vC1NTGV//+h/ef/+DuHgtAADcJkR8AIC5RdOIqpI33qAPHLDp9ZVf+co3amqWcxw3O8+lSdHwcOcJQtD8My9pmiZFA1PD7QH3QLJrgTskRfyqqgy2H012IXAnpGhQx1MDAwMpKSmiKCa7nA8h4gPA7NI05tAhPhBQk13IPWIw0Hl51Pr1MY7T7uDhmkbCYerAAer9950ct+ozn3l05coms9kye/33DMPqjA6Komdp/TCrVFWJhTy8zqQz2JJdC9whRU6oSlxvcia7ELgTmqqyTFyv18+1q5Qg4gPALGIYtrKybnDQfvz4neTd+UiSJjIy+hobpTuI+KpKfD7q0iXmzTdNOt3ypqbPPvjgozQ9i+GboiiWF+zpxTQzK0cJYLYpciLoGTbZMy3OnGTXAndIURIJKeLILEt2IXCH6Ljb6Zxzv9AQ8QFgFhkMhr//+/+T7Cruqeee++kbb/ylotzJYxWFnDlD/fCHIiGljz76h+vW3Ter+R4AABaqORTxVVWNhQNoCQWYI2Jhr0BZ3G63zWaba8cfFx5NI5JE3nyT3r3bbrFUP/HEn1RU1CLfAwDAnZlDEZ8QwnK8wZJKUQgTAMmnyHGO40VRxCzss01RSCRCvfYadfJkisWybsuWx2trVxkMxmTXBQAA89Ucivg0TbO8aE3JR0sowFwgRfwcT4xGBM3ZpShkcpJqbqYPHnRZLKs3bnxk/fqtGL8HAIBPA3sRAIDk0LQPrl/b3Ez/0z8ZDIYVDz/89JYtDyHfAwDApzSHRvEBABYbSSKvvUYdPOgqK1vx5JP/T2lpVbIrAgCAhQARHwAgCRIJ4vdTr7xCLl7MTE1t2rbtqdLSKoPBlOy6AABgIUDEBwC412SZjIxQR4/S+/e7srOb1q37XEPDpmQXBQAACwc6PgEA7ilVJYEAdfQo/d3vGh2OlQ8++NTGjQ8muygAAFhQMIoPAHBPBQLkxRfJgQNZjz22bceOP8jOLkp2RQAAsNAg4gMA3COyTMJh8uyzVFdXwfLl92/f/mR2dqEo6pJdFwAALDSI+AAA90IsRoaHqUOHSGtrbm7uxg0bPlNSUpvsogAAYGFCLz4AwKybPr/2wAHm+9+3ZGdv2Lr1serqNckuCgAAFiyM4gMAzLrxcfLrX5P9+10PPbTl4YefKSioTHZFAACwkCHiAwDMIkkiHg/5+c+poaGSjRs333//47m5pYKA/nsAAJhFiPgAALNFkkh/P7VrF+nuLioru++++x4uL1+e7KIWF01TFUVpu9DMsGxaRo7DmZrsiuC2KIrs806Njwx6PZOyLPM8b7E5MrMLjEYzwyK6zAOJuBQM+kcGewN+byKR4Dje7kzJyMo1Gi00wyS7ukUB3xMAgFkxne/37OFfeMHxla88smHDw3l5NckuanHRNC0WjY4O97/47Pdsdtem+z+HiD/3aZpGNG18dKjlzPvNxw8MD/Yl4pIgiulZuY3r7q+qXWVzuFiWS3aZMJNEPD42Mth6/uTJo3smxobjkiSIuuy8wtXrt5cvWeZMSSeEUBSV7DIXOJxuCwAwK4aHySuvkDffTPva1760deuTOTlLk13RoqNp2shQ37M/+HbLmfen3GOJeDzZFcFtkeXEb199/hc//s7Jo/ucKWnF5VUcJxw/tPs7//O/NJ84FPB5kl0g3ILbPXZw71vf////4sypw0aztbB0qU5vOLj7rZ/96/8+vO9tVVWSXeCigFF8AIC7TJJIRwd5+WVqYqL04YcfXrfuCYcji6ZxbPqeCgUDZ08eOrD7jeaTh/w+j6ZqWrJLgtsRi0bOnDh4vvmYwWjeuO1zq5o2C6I+4PO0tTb/+rnvH9n/W4vV1rhuW7LLhJmcOrbvxJHdOp3+8S9/o7isymA0Bfy+U8f2HTv47rnTR/OLyqtqG1gOh2JmFyL+YhGLRi6cPT46MiCKuvyiirzCUp4XrruPqqqJRPzEkd1Tk+M2h2tF40ZRp2eYW39IpFi0t+vypQvN+UVl+UXlNrsrHArseuslm8NVWFyRW1A6O9sEMBfJsjI6Kr/4IvF6y8vLt27Y8FB6enGyi1pcJCk2Njxw9tSRU+/v62hrEUV9kPYluyi4XbFY5NT7+ycnRqqWNWy47+G8wlKGYRPxuNlqO998rLfrcnfHpZr6Jr3BmOxK4SY0VQ2FAu0Xz7knxsqX1DWsuS81I4fjuHhcMlusHZfPDw/0nj99rGJpPSL+bEOjzmIhxaJnTx3+1c/++ec/+PbB3W8EfJ4bj5TF49JgX9dLz37v2X//9v5dr0ciIUW5raNp0Wj4zMlD//advzq0563J8RFCiN/n/bfv/NWrL/x7+6Vzd39jAOYwWVanpqgjRzKWLdv+0EOPFBQsS3ZFi040HDrffOyd13/RdeWiMzW9uq7RaLIkuyi4LaqqxqKRSxeaaZrOKygtLKmcHmbieN7hTKtftT4WjQwP9k65x5NdKdycqqnjo4NjIwOCqKtd3mS1OzmOI4TwvFBcVpWdVxyNhi9fPJOIxzUcV5tliPiLhcFofujRr5QvWeaeHN2769WBvs5YLHrdfXyeyVde+Pf+no6isqotDzzqcKZxHJ+UagHmL45jcnLS/vRP/2DHjqdycnB+bRJIUqy3qy07t/DxL339a//lf9bUrzaazMkuCm6LLCcCAZ97YtRqczpcHzk3mheE3IISUaf3uMeH+ruTVSHMTFGUgd7OoN9rMlmy8oquOzHalZLBcfzo8EA4HFBkOVlFLhJo1FksGJZxpKSt2fhAOBQ4e+rwmy//3GA0F5dV0fQHP/PcE6MtZ443Hz/oTEmvX7VuSc3Kq4sA4PZt3nxfSUlxaWmOxZJ2O31ucNdZrPZtD/0eIcRqd2qaNjTQQ1H4bzY/SLGoz+OW5YTFajearNcuYhjWanNyHB+JhIN+b7IqhJlpmub3eSQpZrE5HK7U6+bHtNgcRpPZMzXp93osVgd6dWYVdj+LBUXRgiBWLWvwetz9vZ3nTh2pWFJnMlszsvIIIfG41H7p3L53X/F53Zu2P1K/ar3dkXL1sdM9+mMjA0G/V1EUnd7oSs0wGs0c/4nH+BOJuHdq0jM1IcWiDMOYrXZXSoao01MUNd3AF41GWIa12p0URU3PqKUoSsDviUsxQdBZ7c5rV+XzuCmK0ukNBiOG6GCuyMnJzcnJTXYVi5og6orLqmiGoShqahIdHfNJIhGPhAKapvK8eN1hZIZhjGYLw7KxaCQY9CerQpiZpmnBgDcuxViOMxhM140ViqLI8YKiyAG/N5GI64ghWXUuBoj4i4srNWNJzYrerst73nn59PEDzpR0Z0o6x/Gjw/3nm49dPH+qoLiice3WvGtOkI1Gwx73xEBv55W2896pCUVR9AZTXkFpflFZRna+xWq/zadWVcXv9QwN9FxpOz82MhAJBzmOtztTi8uW5haUulLSGYYdHe7v627nOL5u1XqD0cQwrKZpsVjkzMnDPs9kRmZe3ap1PC9QNK2qSsDnPX54t8lizS8sR8QHgKsoisLVkeYpTVXlROKmTdoURfO8QFN0IhGXbmg0hblC02LRqCwnaIpmGIaQj0x+Pz14p6mqFIuqt3eyH9wx/BNcdAqKyj/zhadbzhw7e+qIKzWjqq7B4Uw7fmhX8/EDgqj7/O9/La+wlBfEq/cfGx44tOetX/70/4RDQaPJzLKc3+chhKzf8tCOR754+zOXJRLxs6cO/+YXPzjffJQXdDzPE00LhQKu1IwHH/3yZx77st2R2nXl4pu/+RkhxJmaUVSyRKdnNU3zedw//pf/d7Cvs2nj9pyC4rT0HJamE/F4X8+V7/3D/6hd0bTjc1/MK8SkPQAAi4KmqphYHeCWEPEXHZbjU1IzH/78M6+++KPLrWd/++rz9Q0bzpw6IsuJxvXbltauunZE3D0xemjv27vfedmVkvH0175UUFwuiDqfx71n5yuDfV073/iV3ZlaUFxxO897YPebe995eXJ8+OEvPFO3cp0zJS0WjXR3tL339kuH974txaJPf+2/F5Uucaak93ZevnLpfFZ2gU5vCAX9A72dkXBQUZSAz9vb1e5wprEcN+Ue7+m8lEhIeQWl071GAAAw31E0w3L8Ta97qmqqFIupqirq9Jgiae6iKJ3eyM44VwdN0zq9HofaZhte30WHpmmD0bSyaXNb65lLF04f2vP22Mjg8GBvXkHphi2fcThTrz3/va31TOu5E7FY5OHHnl6z8YGU9CyW5WLRCC+Ir7344+6Oi8cOvnvLhK0ocjgUPH/66NBAT1Zu4faHn8wvLDOarYm4lJNX7PO6Tx3b13r2eFd7a2ZOQUpaZveVix1t51ev30YICfg9fT3tNE2ZzBZZTvR2tVfXNeqIweMe7+26zLJcdl5RSlrm7L5kAABwT/A8bzRZaIqW4rFEQrp2kaoooaBfVmSjaDEYTcmqEGZGUZTRbOF5IZ6IB4MBmz3l2qWxaDQuSTTDmiy26ybbgbsOkwwsRhzHZ+cVLW/cmJqe1dVxcd+uV/UGY92qdVXLGq77VX2p5eTQQI/d4WrauN1ossSlWCQcVBWlYml9bn5JJBw6eXTvLXsiE/H4+Mhgf08HTTO1y5uq6xrNVjtN04Koy8otXLvpwdyC0smJ0dZzJ2maScvI0RuMXR0XI5GQqqp+71RvV7vZYk/PzKVpuqfzUiIR1zRtanJsoLfD6UpLS882W2yz+WoBAMA9wgui1eYQRDEcCoRDwWsXyXLCPTmWiEs6ncFkxr/9OYqmaIcjRdTpo5Gwe2JEUT4yM6bfNxWJhERRb7bY72DGDvhEMIq/eK3d9IB3aqKt5XQo4F+78cHGtVuvbcGfNjzQFwkHna5Un8ft87ivXSTLCZZlB/u7ZVme+Ysaj0v9vR2RcNCVml5SXn3d0uKypemZOaeP7+/pvixJ0czs/JS0rFPv7w/4vHIi4fNO9XW3Z+YUiqI4OT7S2d6aiMc1TZ2cGB0a6K1d3mS+7fN9AQBgjuN5wWy1W+3OgM/j835kpxOPS0P9XVIsarE5UtOzklUhzIxm6IzsfKPJ4vVMjg4PVFatuHbp+NhwJBzMyi4wmS0YxZ9tiPiLl6gzOFxpKelZ4a729Mwcpyv9xvv4fFMe90Qw4Pu7v/ij6xaFgoFwKCDq9Im4JNzw2+BaciI+OT4sxaKiqLdYrk/kok7Hcbwiy6GgX1WVzOz8/KLy40d2d165YHO4pibHxkYGVzZtNltsly40D/Z3DfV3Bfye4cE+iqJq6ldbbc6bPikAAMxHgqirXb7m0J63Otou9HRezi0oZhhWlhPeqYljh96jaDo7rygjOz/ZZcLN0TSTmZ2fmZM/NNBz7MDO5Q0bdDo9w7LxuNTX3d7bdVmnM1Qta8A1Q+4BvMSLF8MwLMdxvEBRhOeFm47EU4TS6Q2ZOQWrP2bmHF4QzFa7pqozPBFF0RwnUDStEU0j18+FpmmaRjRCUTRNE0K5UjOycgt5Xujv7nA408bHhhVFzi8sc6VmetwTkhTr7+0QBN3k+LDeYCqtqDFZrDd9UgAAmI9Enb5x3dbLrWc621tee/FHq9ZsMRjNU5NjredO9HW3r1i9qayiduZxJUguQdRV1TaMDQ9cudzy+ks/qaxebrU6fL6p44d3T4wNly9ZtrxxIy56dQ8g4sNMDCazwWhOz8x9+PFnWIYl18xy4J2aDAX9PC/oDcZIODjDShiWtTlcPC/EohG/b+q6pcGALxaJsCxrsdgZhjGaLKlpWalpWUP93Qaj2e916w3GjOz89Mzc7o6LHMv1d3fIcsLnnUpJy0zPzBVF/axsOQAsCBRNcbxgMlv1RhOHxoD5gOeFssplK1ZvPH5kz5lThwN+r6jT+zzu8dGhzOyCpvXbC0puaxo3SIrpme8rq+p9nskp9/ipY/uGB3pMFls4FOi6cikzO395w4aisqUYxb8H8BLDTNLSszvbL/i8bpqizRY7w7IURWmapijypZbTHZdbbHZnTn7xzCvhOD4lLUunN/i9U/09HQ1rt9E0Pb0eQshgX5d7ckwQdRnZ+RwvEEIsVnv50roLZ49rFBFFfUpalt2ZYrHabY4UmyOlv7fD45kUBLF8SR0vitddOQ8A4Fosy9lszuLyqpS0TKMZMy3OAzRN6w3Ghx57Oj0zd887r7SceT8aCZsttrLK2vsffmJp7SpMsTD3ZeYUrL/vM1abc8/OV9rbzodDAaPJUla57OHPf6Wiql4UdckucFFAxIeZLKld2dt9ub+n47UXf/zw4884XekURSmK3NbavH/Xa53tF6qWNW7cFp95Jbwg5heXp2flnTl56P3Du9dufsiVmiGKOk1V43Hp8N7fXmk7b7HYa+pX6/VGQojZYqtYWnfm5KHOtpbMnPzKquUcJxBCrDZHbmFp69kTfp9nac2KkooqDAMAwMwMRlNFVX12XiHL8UZcBnv+MJmtq5q2VCytj8WiqqoyDCPq9BarXac3JLs0uC02R8qqNVsqquolKaYoyvQ7aLU5RB3ewXsECQlmUllVP9DbOTU5fmD3G5IUy8rJF0R9JBy6cPb97o5LNrurvmG9IOgkaaZ5M2ma1uuNjeu2hoP+K20tz/7g20VlSy0WmyRFR4b6TxzdYzCYljdsuHpVXaPZWlJRLYi6ibFhQqj84nKO4wghVpujoKii+f0DUixic6QUlyLiA8AtMAxrMJowjfq8w7Ks2WrHnGnzF8fxHN7BpEJCWtREnd7hTA2kZwsfc9QsPTO3ftX6SDh49uThljPHejovCYIuFot4pibTMnJXNG5Y3rBREHWJhKQ3mFLSMk1mK8vyhBCGYVLSMm2OFFFnmO7Mq13eFJckVVXbWs9MTozodPpEIj45MWowmmvqG1evv//q3Dg6nT4jOz+/sCyRiKdn5RYUV0438Jit9uKypanpWUazJbegNC0zB106AAAAADdCxF/UUlMzV6zeVFBU7krN+Lj7VC1blVdYurxhw9nTR90TI/G4ZDRbljdsrFm+urC4UtTpCSEcJ+QWlKzf8lBJRY3JbCGE6PSG9VsecqVmpmVkT6/H6UrftO2RJdUrjh7cOdTXFQoFDSZLcXn1ioaNBSUVNrvr6jPSDGMwmjfd/0hR2dL0zJyikkqO4wkhZrOtrLJm/ZbPUBRVVdeAZj4AAACAm0LEX9RyCkpSM7IVRTYYZjqKbTSaq+sayyprFUXRNI2iKI7jeVGcTt6EEEHUVVQtLyyp5HmR54Xphzz+5W8wDHvt5bR4QcjIznvo0S/LibiqahRFGIYVdPqr67mK4/iGtVuXN2xgWG76OAAhhGYYuyP1kSf+A6GoG6/SBQAAAADTEPEXNZ4XphP5zGiGEXX66QH7m9+BpkVRd+2wOs0wFqvjxrvRNH9joL8RRVF6g/HGGxmWRWMfAAAAwMzQygwAAAAAsKAg4gMAAAAALCiI+AAAAAAACwoiPgAAAADAgoKIDwAAAACwoCDiAwAAAAAsKIj4AAAAAAALCiI+AAAAAMCCgogPAAAAALCgIOIDAAAAACwoiPgAAAAAAAsKIj4AAAAAwILCJrsAAABIGk3T5LjkGe2kKIz4zEuqqsjxaNAzLEuRZNcCdygScKtKfGq4PdmFwJ0I+ycEJu52uy0WC8dxyS7nQ4j4AACLmqLI0dAUIVSyC4E7oWmaoiTi0aCmKsmuBe6QHI+oqhIJupNdCNyJuBRmeCoSiRiNRkR8AACYEyiKEnSGjOJVNDOH9kxw+xQ50X/pgCOzzOLMSXYtcIcmBloTUiSzeGWyC4E7MTXcTsfdOTlz7gs4hyK+qqqxcGC48wQGkwDmgljYK1AWt9tts9kYhkl2OQAAAHC75lDEpyiKYTmd0YGWUIC5QE7EWJYTBIGi8KsbAABgPplbEZ8TdPb0YhwvBpgLElKEF4jJZEp2IQAAAPDJYLwcAAAAAGBBQcQHAAAAAFhQEPEBAAAAABYURHwAAAAAgAUFER8AAAAAYEFBxAcAAAAAWFAQ8QEAAAAAFhREfAAAAACABQURHwAAAABgQUHEBwAAAABYUBDxAQAAAAAWFDbZBQAAANx9mqZGI+FQMCBJMUEQjSazTm+gKAxszT+ynAgFA1Is4krNoGkm2eXA7VJVNRoJh0MBWU6wLGey2ARBwDt4zyDiAwDAgqJpmqLIfu/U0EDPUH+Pz+u22pxZuQVZOQUWm4NhWIqikl0jfAJ+r6frSuuUe3zz/Y/yAgLiPKBpWjwuBXyeoYGekcHeSDikN5hyC0szMnNNZivH88kucFFAxAcAgAUlkYhPToz+8sffaTnzvndqUlEVhmZsDld1XeNTf/hfXSnpPC8ku0b4BN4/tGvfrlelWGztph28gPduHtA0tfNyy9uvPnfm5OFwMKCqKsMweoPpwUe/tGbjAwXFFckucFFAxIcPSFIsFo1omiqIOp4TGBafDQCYfzRN9bjHX/nlD1rPnUhJy9yw9bPpmbkjg72XWk63njvxyi9/8IUv/nFqehY6duY+TVP9Ps+pY/sO7H79cusZV2qmpmnJLgpuy+WLZw/ueev86WN5hWVlFTVmq33KPX7y6N4j+98hhJitdrsjhabxHZxdiHGLWiwW9U5N9HVfcU+O+X1T0XBI0zReEM0Wmys1IyunIC0zR6czJLtMAIDbFQz4Oq+0HtrzVlpGTtP67Ws27UhNzxobGbDZXQd2v3Foz1vLVq7VG4xmiz3ZlcJMggHfYH/XhbMnDu99u7/nSigUcKVmJrsouLXpNrmzp46cO31UpzduffAL1csaTGbrlHvC4Ux98zc/O3vqcF5BaeO6bTTadWYZIv7iFQoGhge6L7acPnZo11B/dyQcpCiKouhEIi7q9JlZ+bUrmlY1bcnNLzGaLckuFgDgtkyMj7RdaHZPjm1/+Km6VetS07MIIWkZOfUN6/1+z/M/+se2C80ZmXmI+HNc15XWQ3vePnlsXywaFnV6oyInuyK4LZqmhYL+zsstfp+ncd3W+lUbbHYnISQjU7ftod9rOXO8t6vtzMlDK1ZvQkf+bEPEX7xaz53Y9daLRw/sVFSlvLJ2ZdOm9IxcXhDHRgYvXzzTdaX1wrnj7RfPfuaxrzRtfCDZxQIA3JapibGu9lZFkYvKlqZl5Fy9PSMrr7SiRlGUno62qeXjhSWVSSwSbunVX/3o5NG9Gdl5n//9r/b3XDl3+qiiKMkuCm5NVZS+rnaPe8JitVcsqbt63gtF00aTJTe/uLf78pW2FgW/2WYfIv5ilEjEhwd69ux8ue3C6ezcogc+91R+YZndmSLqDDTNxKKR1eu3Xrl0fucbL3R1XDxz8nBWTmFeUVmyqwYAuLVQ0O+eHDOZrGaLlRfEq7dzvGA0mU0my+T4SDDgS2KFcDuq6xqLSpZUVNXnFpSEgn6aYRDx5wVVUyfGhyPhkMFkTsvIYX93Xh9FURRF2Rwper0xFPR7PZO8IOLE91mFiL8YxaKR40f2XDp/Sm80b97+6Ib7HrbYHBz34SGz7LxCV2pmPC698ZufdXVc7Gi/MB3x43FJkWWapmmGCfg8kXCI5ThnSjrLchRFaZoaj8cDPk8kEtJUjRdEq80h6vQ3nlKjaWo4FAwGfLFohKYZg8lsMluFa3bGmqbFomGKolmOowjl9bijkZCqqrwg2B0pHC/gNB0AuCkpFguHgkaTRRBEhvlwgkWapjle0BtNoaBfikaTWCHcjrqV61iOy8zKpxnm2r0DzHGaqno9k7FYxO5KtTqcNPORSU4NRqMg6vw+j8c9YbOnIOLPKkT8RUdRZL/Pc2Tfb4MBf33Dhvse/ILdmXpdYgB3ww4AACAASURBVGYYNiU1Y+uOL3RcvhCXYuFQYPr28ZFBz9SEzmAkqtrX2zExNqzXGxvW3edwpBJCAn7fyHDfQG+nxz2uKIrRZMkrKMnMKbA7UwVBnJ6IWlVVORGfGB8e7OsaHuzz+6ZYlktJy8zOLcrMyTeZrSzLTRd5pa2F43ij2SInEh2XW6bc44osG03mwuLKzJwCq9157W8SAIBpiiLLcsJoNNPM9Ts4hmb0ekMkHEKTwNyHeRXnKU3TwqFgIh7nWE5/w8XmOI5nWVZV5KDfJyfiySpykUDEX3Qi4dDIYN/QQHdKWmZR6RKnK+2mV4HheMGVlvGVr/4ZL4jOlLTpGw/sfuPYwV3ZeYVjI4ND/d1ez6So01M0tarpPlmOH9n3zuu//unU5Jgiy4RohKJtdufaTTseeuzL+UXlDMMSQmQ5MTY6+JPv/11L8zG/16NqKkUoluOycgsfevTLG7d91mZ3EUJi0ci//uNfmszW1Izswb7OjssXpFiUaIRmGLPF+oUvfX3z/Y+mpGF2BQC4CZqmRb2BYa6/RhLDsHqjKRbDED7ALJITCVVVk10FIOIvPgG/t6/7shSLZeUWpGXkfFzHC0VRFMVk5RTQNMNy3PSNibg0NjIwOtJvMlmX1Ky0O1MUOVFV2xDwTZ04umfn6y+YLdatO75QWlnDC+LocP/B3W+cPXUkGPD90X/+W7srhRAy0Nf5vW//+chQb/mSuhWrN+UWlEYj4bbW5pbmY6+88O8sx61o3JiematpWjQS7utu/7/t3WdwG2meHvCOQDfQjRwJ5hwlUqKonEfS5LyzYXy3e3dVu3u7dS5/WNeVq9auctXa39Zlu3znurPvznWbZ8c7p9lJmqA4yqICKeacEwCCiB2Abn/grIai4srSgASe3zd2N9B/NIrAg7ffMD87VVhS/hc/+HduXyAeW7p57eKJj4+e+uRdp8t75IVvfHVXDQDWD13TVVm+M2RoWkZOpXSED4AniWEYdKZdCxDx844spULB+UwmI1psZkFcuSudVqORsKLIunbb8iIGo9Hp/qIhX5GlVCqx5+ALrVv3enyBdFotKCw9+cnRa5fPSlLypTf+fOvOg4UlFQzLLoaDJEEcP/ZOV8flG1fPbdq6J62qN69dutF+bsuOA7sPPt+244DbW6DIkq+giOP4X/7Tfz9/+pivoNgfKFk+VzIRt9qdh579Wl3TZpvdKaWSLrevr+fGzNT4xOjgV3O5AGB9oSiKoqlkMq7dMTozo2VSyQRF0cgfAE8ISZK8ycywbEbLKIpM3L5aWTqd1jIZiqYF0XKr9RCeEET8vJNOq1Iqoesawxpo5rZ/sFQy0Xn9UnB+RlXklds9vsCBp1/94g+SNBi4nfue3tCy3SyIy4tcDPR2jo8OeHyBzVv3OD1+RZEVRTYauaaWbSNDvX1d16+cP1FWWZdMxDqvX0glE03NW2sbmjnetDyvhccXqGvabHe4ujvb23YcTG/du3wqjjdVVNXvfeoFmmFJkjSZxZqGltLymuD8TBQTYgDA3bAGI8eZwqEFVVV0Xb/VEVHX9bSqJuIxh8vDYpAfwJNBkqTF5jAaOVVR4rGo5r3tppmUSsmKzLIGu9ONf8MnDREfvhRZDB397T/euHIuHltauX1T255bEZ9lWUG0eHyBL+4A6HoyEZ+fnUwlEzaHe3Z6IhGPrXysltHSabW/tyMWjcSWFsdH+gmCYBh2MRxcWgzfOmxhdtrp9s5OTyyGFpKJ+PKXss3udHp8zIphtTRNO91ejuOf0BUAgPXOJIg2h2t0uE+WUlomQ/9hzj4tk5FSychisKyqznT7DUwAeFxIivJ4AyazIEvJxeB8pryaIL6M8tFIOJWIGzne5nAZsPTVE4aIn3eMHG9zuCmaTsSWUsn4yl0Wi+3gkVfrG1tlWVrecvnc8YnRgZXHkCTFMCxJ/KFhjCAUWcpkMtGl8I32c5NjQ/Tts1hEFkOyLEWXFtOqkkzGw6EFgiDe/uXfmUzCysMURQ4H56RUMpGIxaMR0Wp77C8cAPKB0+Utr6y/0X5uZKi3uLTKF/hi9au52cmRwW6KpiuqGpwub3aLBMhVNE0Xl1VZbc7R4b7um1fqN27heTNBEJqmyVJqbKRfkaWK6gaGYQniLlN9wGOEiJ93BMFSWFzOMOzM9HhwfmblLt4sNG/ZVdOY0DJf3Fmbm5lYmJ9eeQxJkhRJrZyER9MyhK6bTEJRcUVV3YY7JzCmaNpsFr3+wuDCLKETHMfXNbS4PP67lrehZRtnMj2G1wkAecnjDTRsbP30w99evXja6fIKFqsgWuOxpa6Oy1cvnbFYbQ0bWz1ezMcF8ESQJGVzuEvKqyfHh69d/rypZXtNfbMgWuPRSPul0yNDvTaHq2XLLoY13HU2P3iMEPHzjlm0FpVWOpyeuZmJsZH+pUhItNiXB58ZDMZAUdnKg20O5wMHxDAMS9G0IFqr6zd87U9+aLXab+3SCSKZiCXjMd4kuL0FBkOnWRAjYfbgs683bmxbOaWdmlZj0Yiu6Q6nW7TYpFTysb5oAMgXdoerur65YWPb8ED32ZMfkRTl9QXmZqfOnTo2MtTbsLGtur7Z7nBlu0yA3ESSpNHINW5sm54YvXH1/KlP3l1aDDmcnmBw9pP33pKlZFNzW3PrLobBWNsnDhE/73Ac7/UXbmrbffKTo51XL1TWNG3b9RTHmyiKvvWTWtM0TcukVVWR5TtnpViJJEnRYjMLFjWtzs9Nm0xmu9Nza7YKRZYmRgduXr9cXlUnWm2CaHV5Cvq6r8uSZDRyFptj+Yy6pgUXZntuXs2k0/VNm21255O+CACQqyia9voLv/P9v/77//ofz5768Mzx92wOVyQcZBi2fsPm73z/r73+QuqOKfNhLWMYluN4mqbR7rtetO06SFJUKDz/yftvffrh2xRJKYqsadpzr7z51DOvl5RXZ7vAvICIn4/MZvHZV/7V2Eh/f/eNX/7jfwsH57Zs319QWGr4Qx+bWDQyMthz4cyx9ounIouhkvKa+zwbw7AVVfUDPTeG+rquXj7Tum2/x1uwvOtG+7mP33+ru6P9qWdeKy6t8hUUNbW0nT35wYlj74gW6469R0iSJggiHo92d7b/7O9/arU5LBZbdd2GJ30FACCHGY1cWWXtD//tTwb7usZH+uOxJUG0lpRXV1Q3FpaU39mZENa45i27nB6/rml479YLhjFs2LTd7S3o67o+PTWaSiZ43lxSXlPb0OzxFWa7unyBiJ+PGNZQUlb99Ivf5Hlz782rHx79ZdeNy15/kdXuZBgmlUqEF+amJ8fGRvrSqrpl+/7dB5+/11ORJEmQ5MbNO+bnpj9+7633f/fzidHBsoo6k1kIB+cunz8xMtgjiJbaxhbRamMYw8bNO1vado+P9H/wL7+YmRrzB0oURZ4cG+q8fnExvNC244DXX7RqvWsAgD8KRdE8by6tqLU7PVW1TVIqwfFmm8NltTlYFpN4rD++gmKbw0XoOo3eHesERVGCaC2rrLPZXdGlsKoorMFod7otFjuLiXS+Koj4+YiiKJNZ2L7nMM+bzKJldKivq+NKd8cVI2eiGVqSUqos0zRts7vKq+tbt+9v3rxj+YFm0ery+E1mYdXnbFll3fbdh8PBucG+m+0XTg33d5vMQjg0vxhacHkKWrfva2xuM5stFE1XVDc8+/Kbpz97b3Zq/MTiUY+3QFWVcHA+kYi1btu//8grxWVVBEGQJOV0+6RUwixYbqucpETR5vL4LRZMuQMA98OyBpfb5/rDsn2wfpnMgsksPPg4WEtIkmRZg8cX8Pgwuj07EPHzl93h3nvopU1b93ZcPd95/eLIQPfC3LSqKIJZ9FbVV9VuaGndWVHTKIjWWw8pKq1s3b7faORWfdoaOX5j646issqzJz/saD8/OTY8PTlqsdm37NjftuNAc+tOg5Ff7kNptTlefP07RSWVVy+d7u64MtDTYeR4r79w+57D+59+xesrNBiMBEEwLNOyZaeqKIXFFStPxBgMZZV16bRaXlX/lVwkAAAAgPUHET+vkSQpCJbm1l01DS2KlEqnVV3XSYpiWYOR400mwXj7IlMbN22vrt1AUpTNtnpELMMwDqdn/+GXt+06pCiyrmk0zXC8ySyIrGF178ma+uaikorDz389rSokSbEsy/Em0Wq/NcTeYOCef+3buq7zJvPKB3Icv3nb3obmNvTIBAAAALgXRPy8RpIkzTCixSparA8+miAE0bqyUf/2p6JY1mB3uO0O9wOf54F3XSmKuuvtdYqiRYtNRC8dAAAAgHvDuEYAAAAAgJyCiA8AAAAAkFMQ8QEAAAAAcgoiPgAAAABATkHEBwAAAADIKYj4AAAAAAA5BREfAAAAACCnIOIDAAAAAOQURHwAAAAAgJyCiA8AAAAAkFMQ8QEAAAAAcgoiPgAAAABATmGyXQAAAGRTWlUi8yMkSWe7EHgUmpZJq1IiMqel1WzXAo9IioczaWVxdijbhcCjSMZCRkpZXFwUBIFl2WyX8yVEfACA/KXreiatxsJThJ7tUuCR6ISeUeVkLKhK8WzXAo9IlmK6pkWD49kuBB6FIicojl5aWuJ5HhEfAADWBJIkjby5oGYXRa+hbyZ4eJm0OtZ1whmotbqKs10LPKL58U5VTgaqtma7EHgUoaleSgmWlpZmu5DV1lDE1zRNSkSnBi4QBJntWgCAkBKLRtIaDAbtdjtNoxcHAADAurGGIj5JkjTD8oKTJDEIGCD70qrEMKzRaCRJ/OoGAABYT9ZWxGeNvMNfhfvFAGuBKicNRkIUxWwXAgAAAH8ctJcDAAAAAOQURHwAAAAAgJyCiA8AAAAAkFMQ8QEAAAAAcgoiPgAAAABATkHEBwAAAADIKYj4AAAAAAA5BREfAAAAACCnIOIDAAAAAOQURHwAAAAAgJyCiA8AAAAAkFMQ8QEAAAAAcgqT7QIAAAAeP0lKyVJSURRdy5AUbTAYjRzPcXy264KHommaoshSKqkqsq7rFEWxBiNvMjMMS1FonVxnFFlOpeIkQfJmgWUN2S4nXyDiAwBADrp5/VL7hZN93dfj0SXBYq1tbGndtn9T2+5s1wUPRZGl7s4r504dG+rvSiUTotVWWdO079CLxWVVPG/OdnXwxxke7D75yVGDgTv4zGslZVXZLidfIOIDAEBOiUWXrl/5/KN3fxWcnzFyvL+wZGFu6tLZ4+Mjg4l4tLl1l2ixZrtGuCdd19Oq8skHv71w5pOpiVG31+9weeKxpYuffzo80P36m9+tbdgkWmzZLhMe1nB/17mTH31+/P3quo2ylMx2OXkEET9fyLI00NsRCQc53lRYXO7y+BmGXXWMruuZTLq748piOCgIlrqmzUaOp2n6gU+uKPLs1PjoUK8/UOILFIsWWyqVuHz2uGix+QtLfQVFT+Y1AQCspijy3MzEx7//zchAT2llbUvrLo8vMDU5cv3K2aH+mx+/RxQUlnIczxrQW2CNUlVlbLjv8xMfTI2PlFXWtm7bZzKLC/PT3TeuXLlw0h8oNpnEho1bsl0mPICua7IkjY30nz354dlTH06ODxeVVGqalu268ggifr6Qkokzn71/5cJJUbQefPb1vU+9IFqsJHlbj8Z0Wo2EF97+xd8N9XdV1jYVlVYwLPswEV9KJq5cOPnWP//NU8++fuDpV0WLLRpZ/Nuf/vuK6sbDz7+BiA8AX5l4dGlooOvc6WPNW3Y989K3dh94bnl7YXHFv/zmH86dOrb3qRcdLo/d4c5unXAvUip5/szHI4O9lTWN3/zOv66ub2YYRkqlGje2jY32XzzzaaCwrKah+c5WKlg70ul0MhGbnhh5/51ftF84OTk+RD1EloDHC2NW8oXJLB558Rtub0Hn9Ytv//x/To0PK7Ky6phIOPi7X/3vG+3nLDZ769a9Lk/BQw6L0XQtlUqEgnPx2FI6rRIEoWUyoeDcUiQky6nH/2IAAO5hemr0xpWziiJv3XmwqnbDre11jZt27X9OUeSrl85MTYxksUK4P0lKXTp7PJNJl1fW1dQ3LzczGTnOV1C8e//zqVRibKR/YW4622XC/SzMT3949Jf/4Ud/9vu3/4/L69+weUe2K8pHiPj5gmYYf0Hx1p0Hq+o2zE5PHPv9b2amx1YeEF1aHOjtPPXpuyxraNmyq3X7PoqiSJJ82BPouqZpuq5/8RdBaJqm619uAQD4CiwthqbGRxiGCRSV251fNtVb7U5/oIhhmKnx4aXFUBYrhPtQVTUejczPTtrsTre3gGaY5a8hkiQ53lRWWWs0cuHg3Mzk2AOfCrIoEg7GohGny/uNP/urb3znrzZv3ZPtivIROurkC4qieJO5uXVncH5mcmzo4rnP6po22WxOm8NFEISWySz3fZyZGjtw5JVNbXu8/tW9a5YioVQyoWmakeNF0cqwhkeYuUzTtLSqxqKLsixRFGUWLLxJYBiGIAhd11VFSWdUiqQ43rTyIYosa1qaphnjignvNC0jSSmSIBmGRbdaAFiWiEeDCzNGziSIVqORu7XdYDCazBYjZwouzCTi0SxWCPehKNJSJJxMxAuLKyw2x8pdDMN6fAHWaIzHo4vhhWxVCA9DEK21DS0eX6BxY5uvoCgcnM92RfkIET+/lJRXt7Tt7rnZfvXSmSvnT7o8/pbWXSRFRRZDHe3nz58+5nT79x9+pbah5VZ8T6tqMhkLLcyPjfSFg3PpdNpidRQUlnh8hTa7c2UWvz9d11PJRGQxOD87NTM1Fo8t0TTj9hT4A8Uur1+02EiCDC7MLMxNMyxbUd1oMBiXa1BVZbCvMxGP2hzu8qo6hmFJktR1PZmI93Zd5zje4wt4fIEndckAYF2RJSkRjwuCZbntYCWGYcyCmIjHZEnKSm3wQIosR5fCmqaZTALH3fb9QtO0aLUxNCtLqXgMP9LWNH+g2B8oxniJ7ELEzy8kSVXWNL36re8ND/ScOfG+3emua9zEm4RL549fPHc8nU6//MafV9Y2mQXx1kMikdDVS6d/9r/+y9z0hCJLOqHTNG21OQ4998bBZ16rqW9+yFPrujbQ2/HRu7/+9IO302lV0zSSIEiKqq1vfublb+07/DLH8e0XTn707q8NRuMPfvSTopLK5UVqlhZDf/PTH48M9mzbdeiHP/qJw+mhGSaTTo+PDvznH/9lZU3j0y9+84DvlSdyvQBgHWIYxu7yMHcMJWIY1mZ3RtBLZw3TMhlFlu/aw5OiaJ4XKJqWUsl4bOmrrw0eHk0jXmYf3oP8QpKkIFoqqhsOPPPqyY+Pdt24fPyjdza27rx89nhwfrqxecvug8/bne5bM+3EopEzn7334dFfLYbnDz//Rkl5tcHAhYKzl84dv3TueDIRN31b9BcUP8ypL509fuLYOzfaz9XUb9zYutPh9KRSieGB7u4blz88+ut4PPb6m98tKqsyCeLs1Phgb6fHG+A4PpmITU+Ozk1PLC2GgvMzY8P9osVGM0xkMTgy2BMJB30Fxb47+hQBQF4jCYqi7hxJRJLkrb7dsFbpxL1HcJEkQRKEruu6jrkX1zT8l60FiPh5h2FYh8O976kXRwd7J8YGP/3g7fnZqYHeDqfLt/eplwpLKgwG462DB3o72i+dnp0Z37n3meVF6ViDcTEctNqdH//+rY6r5ytrGg8997X7n3G50/yVCye7Oq7wZuGF179d09BitTllKTXZMKxpWl/X9UtnP9u26ymfv8jjLRgf6e/rvr6pbY/V5oguRUaH+2RZYg1GKZUcGeqpaWjheCK0MDfc363renFppReTcgLACpqmpZLxTCazantGy6QSCS2DdLh2kSRF0fRd46FO6Ol0WtM1ljWsHJcFAHeFiJ+PDEausbmtbefByGLo6uUzQwNddodry479u/Y/w7K39Zy7dunz0cEet8f/+pvf8wVKltO/1xc4eOTV8eGBU5/+/tSn7+0+8Bx9R5/XlVRVnZ+Z6u26psjStt2HjrzwjVu7fAVFqiIn4tHh/q5rlz8/8PQrvkAJazD23LyaTMZ1TVsMLwz0dJgFC28y6wQx2NupPiMTBLEwPz3U32V3uP2BUpvd+WSuEwCsPzRN0zS9FAkvT+C7UlpVIosh7uFW9IOsYBiWNwkkRWUyae32H2laJpOMx7RMxiQKooj1iQEeAJNm5iOSJCmKPnDklbadBzOZzPzsVNvOg9v3HBbE1YthTY4PxWNRi9UuiNZ4NBIOzoWDc+HQfCqVEESLwWAY6L2hqqvn119FkaWRoZ54LOLxFzZu3Lpqb/2G1qLiimQiPtBzXU6lCgIlbo9/bLg/EVvKZNJLkdDE6EBxaVVV7UaON40M9qZVhSCIUHBuemq0fsNmp8uDPn8AcAtvFmw2ZyqR0O5oxdc0TZZSNruTNwtZqQ0eiON5h8tL03QyGZek5MpdmUxm+ZebwcjxJryDAA+AbJS/bA5XYXF5oKhsYnSwvLI+UFx+5zHh4HxoYTYRj/743/zJql2h4Gw4tGA0cqqiGFbMTHentKoG52dkSfJ4zXana9VesyAaOV5Nq4uLoXQmHSguL62ou9F+bnx00OMNRMLBqcnRfYdeEi22wb7O7s72hbkZRVFmp8ZURampbxYttv/P6wAAucRisXsLivp7O0ILc4l41CxYlrfHY0sL8zOynPIWFFks9uwWCffCsAbRYnU4PYuhhVBwbuUuRZEmxgYlKWV3uv2FpdmqEGC9QMTPXwaDkTeZeZOZJAmzYDHdrVEknUkzLOtwekrKa1btWt7CcbzJLJLE/QbW6ISuaRqh6yRF3dniTlE0SVHLK2cRhO71FxaVVBAEOTLY43B65menpFSyrLLW5fZHl8LtF06Nj/Rzs+bZmUmDkavf0Lpq4mQAyHNOt6+iuvHMZ+91d1wOFJfdmvVrcny4u+MKoesV1Y1Oty+7RcK9UBTF8+by6sab1y5Mjg3Nz065PD6KorVMJhaN3Gg/R+i6z1/k9Rdmu1KAtQ4RH+6H401mwVpcVv31P/3Bqj48UiopyxLDsoJoTaXi93kSmqIFwcKwrCLLyURs1V5JSqqKTNO02SxSFG2x2r3+QqvdNTrUZxYsC3PTBoOxuKza6yscG+knSHJ4sEfX9fDCnNPlLauoNZnFu54UAPKT0+2taWh2ewMd1y443T6ON5nMYjIRu3bpzM3rFz2+QG1Ds9PtzXaZcE9GjtvUtnuor3N4oPvi2c82bNpmNPLJRKz35tXOaxd9/sLSihorGncAHgQRH+7H4fQwDJNOq2WVdauWsx0e7I5NLs9MfM8JzpYxrMHjKzRyfCwamZlaver4wtxUdClsMHIeX4BhWZpm7E5PbUPL5Nggy7I6oVvtTq8v4PUXuj1+QbSMjQzEo0uqKldUN3AmM4bNAcBKosVWUVW/fc/hzz763dHf/tPIUG9d46aem1c7rp6PRSOHnvtaeVUDOvitZbxJ2HfopauXTp8/dewf/sd/2nf4JafTMz46cOXCqfnZ6a//6Q+amrdlu0aAdQARH+6npr55dKh3dnr8kw/e3r3/2eVeMVomMzc78dHRX3dcPV9RXV9V13T/JzFyXEV1g9sb6LnZfvHsZ/sOv2wWRIZhdV3XNO386Y/7ezoE0bph0/blzkIWq72usaWv+1pv1zWPr7C6dgNrMBIEYbU5i0urRod6lxZDFdX1tQ2bMNAWAO5kc7hff/N7Fpu9p7O9u+PKtUtnjBxfUFhS1/TakeffsDtWjwiCNYUkSZ43vfbN7xaVVF69dPrK+RPpdJph2OKyqte+9b2tuw45cBNmvbFY7ZU1jf7CEg6znX6FkJDgfjZs2jY+0n/+zMcfvPPzVCJeXFZl5Pjo0mLn9YsXP/9U0zLFpVUMw945Od1KNM1YbY7NW/dEwgu9Xdfe+tnfVtU0We1ORZFnJkfPHP9AVZXG5q1VdRuWpzq2WO21DZto+p/nZiYcLm95dT3LGgiCsNodZZW13Z3t0aVFi9VRXbcBER8A7mQwGItKq/Ydeqm8sn5+dioejwqCxeMLFJdVFZZUYlGeNW55hbKK6gbeZC4sLp+fnVRVxcjxbm+gpr7Z4wsY7zvBA6xBZZV1r7/5fbe3wO50Z7uWPIKElNcMBqNosVrtTtaweqX3ZeVV9Tv2HkklEx3XLnz20f91eQo43hSLRiZGB3mzsGnLrj1PvcDxpkQ8ZjTyVpuDN5mXYzdFUVabwyxaDQbj8uf1tl2HVFU5cezopx+8PdDbIVrsqiJNTYxmMumm5m17Dj7v9X0xfMpkFkorawuLypKJmMPpqaz5ohXfZndV17ecOf4+TdPFZVVFpZU0hVlfAWA1kiRJkqyq3VBVuyHbtcAj4nhTeVV9eVV9tguBx6CopKKopCLbVeQdRPy8ZrHaK6obOd4sWu8+hRzDsFu2HygqqTz5ydHL50/0dV9XZFm0WCtrGnbuf7Zlyy63p4AgCJpmnB5/XdNmX6CE400EQRgMxrqmzYXF5dY/rEtVWFJx+Pmvl5RVf/TuryfGBof6uxiG9RUU7dh7ZMv2Ays/xxmGtVrtrdv3W+yO0orassra5QW5LDZHTd3Gho1tJEHWNW5Gb1oAAACAuyIlScp2DV8YHh7uGxr3Ve6kaPbBR8PjkEzEY9GIqshOt483me96jK7rqqrEopFkPKaqiqZpNE0bOV4QLbxJWO5Ck8lkkolYdGnRbBZNgmgwGNNpdW5m0mAwmgXx1qQ36bQqpZLRyKKiSJlMhiRJljWYRYvZLK5ajVzTtMXwgiylDEbOZnfSNEOSpKZpqqqEFuZIghBEq2hFxH+yZoev2gWirXVTtguBJ2h8fLyzu6+gZh8+eNepTFod6zrhDNRaXcXZrgUe0fx4pyonA1Wrl4aEdSE01UspwX17d2W7kNXQip/XTGbB9KBVHkmSNBiMTpfX6brnCCeapkWLbWWzOsOwgaKyVYcxDCuIVuEhFh6nKOrO01EUz4DSHQAAAt9JREFUZTRyBYUlD3w4AAAAQD5DV2YAAAAAgJyCiA8AAAAAkFMQ8QEAAAAAcgoiPgAAAABATkHEBwAAAADIKYj4AAAAAAA5BREfAAAAACCnIOIDAAAAAOQURHwAAAAAgJyCiA8AAAAAkFMQ8QEAAAAAcgoiPgAAAABATkHEBwAAAADIKUy2CwAAgGzSNU1ORkkaXwfrkpZJ61pGlZNScinbtcAjSquyllbwDq5TqiKxuiZJksFgoKg11HSOz3QAgPylaZqUSkwPXNQJPdu1wKPQdUKV46Gp3sjcULZrgUeUViVd1+Xez7NdCDyKtCqbeMPExEQgEDCZTNku50trKOJrmiYnYzPD7QRBZrsWACBSsSBHWcLhsNVqpWk62+XAE0GSpJHj7QVNJIW3eF3StPTcaIfFVWi2eLJdCzyiyPxoJi05C2qzXQg8imhowkAk/X6/0WjMdi23WUMRn+M4p8MuWMwkIj7AGhDnMoLZxDAMSeJfMmeRJEnRjNnmpWg227XAo8ikVZrp4cx2we7Pdi3wiJKxoCpTeAfXKTm5RCmKIAjZLmS1NRTxrVZrdXWV2+1eUz2ZAPJWKBQiCMJisWS7EAAAAPjjrKGIL4qiKIrZrgIAvuB0OrNdAgAAADwKtJcDAAAAAOQURHwAAAAAgJyCiA8AAAAAkFMQ8QEAAAAAcgoiPgAAAABATkHEBwAAAADIKYj4AAAAAAA5BREfAAAAACCnIOIDAAAAAOQURHwAAAAAgJyCiA8AAAAAkFMQ8QEAAAAAcgopSVK2awAAAAAAgMcGrfgAAAAAADkFER8AAAAAIKcg4gMAAAAA5BREfAAAAACAnIKIDwAAAACQUxDxAQAAAAByCiI+AAAAAEBOQcQHAAAAAMgpiPgAAAAAADkFER8AAAAAIKcg4gMAAAAA5BREfAAAAACAnIKIDwAAAACQUxDxAQAAAAByCiI+AAAAAEBOQcQHAAAAAMgp/w/XmJmBOIKsjgAAAABJRU5ErkJggg==)"
      ]
    },
    {
      "cell_type": "code",
      "source": [
        "sentiment_dict = {'negative': 0, 'neutral': 1, 'positive': 2}\n",
        "data['Sentiment'] = data['Sentiment'].apply(lambda x: sentiment_dict[x])\n",
        "\n",
        "from keras.utils import to_categorical\n",
        "Y = to_categorical(data['Sentiment'], num_classes=3)\n"
      ],
      "metadata": {
        "id": "49vSykBEsM0m"
      },
      "execution_count": 35,
      "outputs": []
    },
    {
      "cell_type": "code",
      "source": [
        "Y"
      ],
      "metadata": {
        "colab": {
          "base_uri": "https://localhost:8080/"
        },
        "id": "6wcRo_Rx6J6P",
        "outputId": "6e12a118-4619-4ce5-f602-79122694c093"
      },
      "execution_count": 36,
      "outputs": [
        {
          "output_type": "execute_result",
          "data": {
            "text/plain": [
              "array([[1., 0., 0.],\n",
              "       [1., 0., 0.],\n",
              "       [1., 0., 0.],\n",
              "       ...,\n",
              "       [0., 0., 1.],\n",
              "       [0., 0., 1.],\n",
              "       [0., 0., 1.]], dtype=float32)"
            ]
          },
          "metadata": {},
          "execution_count": 36
        }
      ]
    },
    {
      "cell_type": "markdown",
      "metadata": {
        "id": "qPMZfGooLkyt"
      },
      "source": [
        "### Train & Test Data Splitting"
      ]
    },
    {
      "cell_type": "code",
      "source": [
        "# Split arrays or matrices into random train and test subsets.\n",
        "# https://scikit-learn.org/stable/modules/generated/sklearn.model_selection.train_test_split.html\n",
        "\n",
        "from sklearn.model_selection import train_test_split \n",
        "\n",
        "X_train, X_test, y_train, y_test = train_test_split(data_pad, Y, test_size=0.20)\n",
        "X_train.shape, X_test.shape, y_train.shape, y_test.shape"
      ],
      "metadata": {
        "colab": {
          "base_uri": "https://localhost:8080/"
        },
        "id": "R-j5t2Hv6QRL",
        "outputId": "2704c63c-619f-4e51-d928-b39db0964f9a"
      },
      "execution_count": 37,
      "outputs": [
        {
          "output_type": "execute_result",
          "data": {
            "text/plain": [
              "((320, 100), (80, 100), (320, 3), (80, 3))"
            ]
          },
          "metadata": {},
          "execution_count": 37
        }
      ]
    },
    {
      "cell_type": "markdown",
      "metadata": {
        "id": "iKNwSPNHOTMr"
      },
      "source": [
        "### Define Model Architecture (LSTM)\n",
        "\n"
      ]
    },
    {
      "cell_type": "code",
      "source": [
        "!pip install tensorflow"
      ],
      "metadata": {
        "colab": {
          "base_uri": "https://localhost:8080/"
        },
        "id": "-vV2ddV4s2cO",
        "outputId": "382fcc3e-d386-40e6-8d70-17382b3f3918"
      },
      "execution_count": 38,
      "outputs": [
        {
          "output_type": "stream",
          "name": "stdout",
          "text": [
            "Looking in indexes: https://pypi.org/simple, https://us-python.pkg.dev/colab-wheels/public/simple/\n",
            "Requirement already satisfied: tensorflow in /usr/local/lib/python3.9/dist-packages (2.12.0)\n",
            "Requirement already satisfied: termcolor>=1.1.0 in /usr/local/lib/python3.9/dist-packages (from tensorflow) (2.2.0)\n",
            "Requirement already satisfied: gast<=0.4.0,>=0.2.1 in /usr/local/lib/python3.9/dist-packages (from tensorflow) (0.4.0)\n",
            "Requirement already satisfied: packaging in /usr/local/lib/python3.9/dist-packages (from tensorflow) (23.0)\n",
            "Requirement already satisfied: wrapt<1.15,>=1.11.0 in /usr/local/lib/python3.9/dist-packages (from tensorflow) (1.14.1)\n",
            "Requirement already satisfied: numpy<1.24,>=1.22 in /usr/local/lib/python3.9/dist-packages (from tensorflow) (1.22.4)\n",
            "Requirement already satisfied: astunparse>=1.6.0 in /usr/local/lib/python3.9/dist-packages (from tensorflow) (1.6.3)\n",
            "Requirement already satisfied: typing-extensions>=3.6.6 in /usr/local/lib/python3.9/dist-packages (from tensorflow) (4.5.0)\n",
            "Requirement already satisfied: libclang>=13.0.0 in /usr/local/lib/python3.9/dist-packages (from tensorflow) (16.0.0)\n",
            "Requirement already satisfied: protobuf!=4.21.0,!=4.21.1,!=4.21.2,!=4.21.3,!=4.21.4,!=4.21.5,<5.0.0dev,>=3.20.3 in /usr/local/lib/python3.9/dist-packages (from tensorflow) (3.20.3)\n",
            "Requirement already satisfied: setuptools in /usr/local/lib/python3.9/dist-packages (from tensorflow) (67.6.1)\n",
            "Requirement already satisfied: tensorflow-io-gcs-filesystem>=0.23.1 in /usr/local/lib/python3.9/dist-packages (from tensorflow) (0.32.0)\n",
            "Requirement already satisfied: jax>=0.3.15 in /usr/local/lib/python3.9/dist-packages (from tensorflow) (0.4.7)\n",
            "Requirement already satisfied: h5py>=2.9.0 in /usr/local/lib/python3.9/dist-packages (from tensorflow) (3.8.0)\n",
            "Requirement already satisfied: absl-py>=1.0.0 in /usr/local/lib/python3.9/dist-packages (from tensorflow) (1.4.0)\n",
            "Requirement already satisfied: grpcio<2.0,>=1.24.3 in /usr/local/lib/python3.9/dist-packages (from tensorflow) (1.53.0)\n",
            "Requirement already satisfied: opt-einsum>=2.3.2 in /usr/local/lib/python3.9/dist-packages (from tensorflow) (3.3.0)\n",
            "Requirement already satisfied: google-pasta>=0.1.1 in /usr/local/lib/python3.9/dist-packages (from tensorflow) (0.2.0)\n",
            "Requirement already satisfied: keras<2.13,>=2.12.0 in /usr/local/lib/python3.9/dist-packages (from tensorflow) (2.12.0)\n",
            "Requirement already satisfied: tensorflow-estimator<2.13,>=2.12.0 in /usr/local/lib/python3.9/dist-packages (from tensorflow) (2.12.0)\n",
            "Requirement already satisfied: flatbuffers>=2.0 in /usr/local/lib/python3.9/dist-packages (from tensorflow) (23.3.3)\n",
            "Requirement already satisfied: tensorboard<2.13,>=2.12 in /usr/local/lib/python3.9/dist-packages (from tensorflow) (2.12.1)\n",
            "Requirement already satisfied: six>=1.12.0 in /usr/local/lib/python3.9/dist-packages (from tensorflow) (1.16.0)\n",
            "Requirement already satisfied: wheel<1.0,>=0.23.0 in /usr/local/lib/python3.9/dist-packages (from astunparse>=1.6.0->tensorflow) (0.40.0)\n",
            "Requirement already satisfied: scipy>=1.7 in /usr/local/lib/python3.9/dist-packages (from jax>=0.3.15->tensorflow) (1.10.1)\n",
            "Requirement already satisfied: ml-dtypes>=0.0.3 in /usr/local/lib/python3.9/dist-packages (from jax>=0.3.15->tensorflow) (0.0.4)\n",
            "Requirement already satisfied: google-auth-oauthlib<1.1,>=0.5 in /usr/local/lib/python3.9/dist-packages (from tensorboard<2.13,>=2.12->tensorflow) (1.0.0)\n",
            "Requirement already satisfied: requests<3,>=2.21.0 in /usr/local/lib/python3.9/dist-packages (from tensorboard<2.13,>=2.12->tensorflow) (2.27.1)\n",
            "Requirement already satisfied: werkzeug>=1.0.1 in /usr/local/lib/python3.9/dist-packages (from tensorboard<2.13,>=2.12->tensorflow) (2.2.3)\n",
            "Requirement already satisfied: markdown>=2.6.8 in /usr/local/lib/python3.9/dist-packages (from tensorboard<2.13,>=2.12->tensorflow) (3.4.3)\n",
            "Requirement already satisfied: tensorboard-data-server<0.8.0,>=0.7.0 in /usr/local/lib/python3.9/dist-packages (from tensorboard<2.13,>=2.12->tensorflow) (0.7.0)\n",
            "Requirement already satisfied: tensorboard-plugin-wit>=1.6.0 in /usr/local/lib/python3.9/dist-packages (from tensorboard<2.13,>=2.12->tensorflow) (1.8.1)\n",
            "Requirement already satisfied: google-auth<3,>=1.6.3 in /usr/local/lib/python3.9/dist-packages (from tensorboard<2.13,>=2.12->tensorflow) (2.17.1)\n",
            "Requirement already satisfied: cachetools<6.0,>=2.0.0 in /usr/local/lib/python3.9/dist-packages (from google-auth<3,>=1.6.3->tensorboard<2.13,>=2.12->tensorflow) (5.3.0)\n",
            "Requirement already satisfied: rsa<5,>=3.1.4 in /usr/local/lib/python3.9/dist-packages (from google-auth<3,>=1.6.3->tensorboard<2.13,>=2.12->tensorflow) (4.9)\n",
            "Requirement already satisfied: pyasn1-modules>=0.2.1 in /usr/local/lib/python3.9/dist-packages (from google-auth<3,>=1.6.3->tensorboard<2.13,>=2.12->tensorflow) (0.2.8)\n",
            "Requirement already satisfied: requests-oauthlib>=0.7.0 in /usr/local/lib/python3.9/dist-packages (from google-auth-oauthlib<1.1,>=0.5->tensorboard<2.13,>=2.12->tensorflow) (1.3.1)\n",
            "Requirement already satisfied: importlib-metadata>=4.4 in /usr/local/lib/python3.9/dist-packages (from markdown>=2.6.8->tensorboard<2.13,>=2.12->tensorflow) (6.1.0)\n",
            "Requirement already satisfied: certifi>=2017.4.17 in /usr/local/lib/python3.9/dist-packages (from requests<3,>=2.21.0->tensorboard<2.13,>=2.12->tensorflow) (2022.12.7)\n",
            "Requirement already satisfied: urllib3<1.27,>=1.21.1 in /usr/local/lib/python3.9/dist-packages (from requests<3,>=2.21.0->tensorboard<2.13,>=2.12->tensorflow) (1.26.15)\n",
            "Requirement already satisfied: charset-normalizer~=2.0.0 in /usr/local/lib/python3.9/dist-packages (from requests<3,>=2.21.0->tensorboard<2.13,>=2.12->tensorflow) (2.0.12)\n",
            "Requirement already satisfied: idna<4,>=2.5 in /usr/local/lib/python3.9/dist-packages (from requests<3,>=2.21.0->tensorboard<2.13,>=2.12->tensorflow) (3.4)\n",
            "Requirement already satisfied: MarkupSafe>=2.1.1 in /usr/local/lib/python3.9/dist-packages (from werkzeug>=1.0.1->tensorboard<2.13,>=2.12->tensorflow) (2.1.2)\n",
            "Requirement already satisfied: zipp>=0.5 in /usr/local/lib/python3.9/dist-packages (from importlib-metadata>=4.4->markdown>=2.6.8->tensorboard<2.13,>=2.12->tensorflow) (3.15.0)\n",
            "Requirement already satisfied: pyasn1<0.5.0,>=0.4.6 in /usr/local/lib/python3.9/dist-packages (from pyasn1-modules>=0.2.1->google-auth<3,>=1.6.3->tensorboard<2.13,>=2.12->tensorflow) (0.4.8)\n",
            "Requirement already satisfied: oauthlib>=3.0.0 in /usr/local/lib/python3.9/dist-packages (from requests-oauthlib>=0.7.0->google-auth-oauthlib<1.1,>=0.5->tensorboard<2.13,>=2.12->tensorflow) (3.2.2)\n"
          ]
        }
      ]
    },
    {
      "cell_type": "code",
      "execution_count": 39,
      "metadata": {
        "id": "qSktR163OQ_H"
      },
      "outputs": [],
      "source": [
        "'''\n",
        "# https://www.tensorflow.org/api_docs/python/tf/keras/layers/LSTM\n",
        "'''\n",
        "\n",
        "from tensorflow.keras.models import Sequential\n",
        "from tensorflow.keras.layers import Embedding, LSTM, Dropout, Dense\n",
        "\n",
        "model_LSTM = Sequential()\n",
        "model_LSTM.add(Embedding(                                           # Buat embedding layer yang menerima panjang dictionary hasil Tokenisasi\n",
        "    input_dim = WV_DICTIONARY_SIZE,\n",
        "    input_length = MAX_SEQ_LENGTH,\n",
        "    output_dim = 64))      \n",
        "model_LSTM.add(LSTM(64))                                            # Tambahkan satu layer LSTM\n",
        "model_LSTM.add(Dropout(0.5))                             \n",
        "model_LSTM.add(Dense(3, activation='softmax'))"
      ]
    },
    {
      "cell_type": "code",
      "source": [
        "model_LSTM.summary()"
      ],
      "metadata": {
        "colab": {
          "base_uri": "https://localhost:8080/"
        },
        "id": "K1mgUfQS6pLG",
        "outputId": "b049f86d-01e6-49cc-b0fe-1d16b12c3f2b"
      },
      "execution_count": 40,
      "outputs": [
        {
          "output_type": "stream",
          "name": "stdout",
          "text": [
            "Model: \"sequential\"\n",
            "_________________________________________________________________\n",
            " Layer (type)                Output Shape              Param #   \n",
            "=================================================================\n",
            " embedding (Embedding)       (None, 100, 64)           206336    \n",
            "                                                                 \n",
            " lstm (LSTM)                 (None, 64)                33024     \n",
            "                                                                 \n",
            " dropout (Dropout)           (None, 64)                0         \n",
            "                                                                 \n",
            " dense (Dense)               (None, 3)                 195       \n",
            "                                                                 \n",
            "=================================================================\n",
            "Total params: 239,555\n",
            "Trainable params: 239,555\n",
            "Non-trainable params: 0\n",
            "_________________________________________________________________\n"
          ]
        }
      ]
    },
    {
      "cell_type": "code",
      "execution_count": 41,
      "metadata": {
        "id": "lzNEx-DsOjxE"
      },
      "outputs": [],
      "source": [
        "# Compile model\n",
        "model_LSTM.compile(loss='categorical_crossentropy', optimizer='adam', metrics=['accuracy'])"
      ]
    },
    {
      "cell_type": "markdown",
      "metadata": {
        "id": "89VV-LzHOm-N"
      },
      "source": [
        "### Training"
      ]
    },
    {
      "cell_type": "code",
      "execution_count": 42,
      "metadata": {
        "colab": {
          "base_uri": "https://localhost:8080/"
        },
        "id": "kY5JA8ddOmKK",
        "outputId": "328e7cea-a23d-4c24-cab8-15420b51547e"
      },
      "outputs": [
        {
          "output_type": "stream",
          "name": "stdout",
          "text": [
            "Epoch 1/20\n",
            "10/10 [==============================] - 11s 321ms/step - loss: 1.0118 - accuracy: 0.4656 - val_loss: 0.8644 - val_accuracy: 0.5000\n",
            "Epoch 2/20\n",
            "10/10 [==============================] - 3s 264ms/step - loss: 0.7972 - accuracy: 0.4781 - val_loss: 0.7084 - val_accuracy: 0.5125\n",
            "Epoch 3/20\n",
            "10/10 [==============================] - 2s 207ms/step - loss: 0.7381 - accuracy: 0.4844 - val_loss: 0.7046 - val_accuracy: 0.4875\n",
            "Epoch 4/20\n",
            "10/10 [==============================] - 1s 99ms/step - loss: 0.7070 - accuracy: 0.5250 - val_loss: 0.7061 - val_accuracy: 0.5000\n",
            "Epoch 5/20\n",
            "10/10 [==============================] - 1s 61ms/step - loss: 0.7157 - accuracy: 0.5219 - val_loss: 0.7054 - val_accuracy: 0.5000\n",
            "Epoch 6/20\n",
            "10/10 [==============================] - 1s 65ms/step - loss: 0.7408 - accuracy: 0.4719 - val_loss: 0.7055 - val_accuracy: 0.5000\n",
            "Epoch 7/20\n",
            "10/10 [==============================] - 0s 18ms/step - loss: 0.7470 - accuracy: 0.4531 - val_loss: 0.7101 - val_accuracy: 0.4875\n",
            "Epoch 8/20\n",
            "10/10 [==============================] - 1s 22ms/step - loss: 0.7214 - accuracy: 0.4969 - val_loss: 0.7064 - val_accuracy: 0.5000\n",
            "Epoch 9/20\n",
            "10/10 [==============================] - 0s 20ms/step - loss: 0.7293 - accuracy: 0.4688 - val_loss: 0.7067 - val_accuracy: 0.4875\n",
            "Epoch 10/20\n",
            "10/10 [==============================] - 0s 20ms/step - loss: 0.7255 - accuracy: 0.4625 - val_loss: 0.7062 - val_accuracy: 0.5000\n",
            "Epoch 11/20\n",
            "10/10 [==============================] - 0s 24ms/step - loss: 0.7065 - accuracy: 0.5000 - val_loss: 0.7042 - val_accuracy: 0.4875\n",
            "Epoch 12/20\n",
            "10/10 [==============================] - 0s 21ms/step - loss: 0.7239 - accuracy: 0.4750 - val_loss: 0.7047 - val_accuracy: 0.4875\n",
            "Epoch 13/20\n",
            "10/10 [==============================] - 0s 27ms/step - loss: 0.7136 - accuracy: 0.5188 - val_loss: 0.7024 - val_accuracy: 0.5000\n",
            "Epoch 14/20\n",
            "10/10 [==============================] - 0s 17ms/step - loss: 0.7196 - accuracy: 0.5000 - val_loss: 0.7026 - val_accuracy: 0.5000\n",
            "Epoch 15/20\n",
            "10/10 [==============================] - 0s 18ms/step - loss: 0.7007 - accuracy: 0.5094 - val_loss: 0.7018 - val_accuracy: 0.5000\n",
            "Epoch 16/20\n",
            "10/10 [==============================] - 1s 64ms/step - loss: 0.7138 - accuracy: 0.4594 - val_loss: 0.7019 - val_accuracy: 0.4875\n",
            "Epoch 17/20\n",
            "10/10 [==============================] - 1s 66ms/step - loss: 0.7060 - accuracy: 0.4844 - val_loss: 0.7019 - val_accuracy: 0.4875\n",
            "Epoch 18/20\n",
            "10/10 [==============================] - 0s 25ms/step - loss: 0.6919 - accuracy: 0.5219 - val_loss: 0.7013 - val_accuracy: 0.5000\n",
            "Epoch 19/20\n",
            "10/10 [==============================] - 0s 21ms/step - loss: 0.7061 - accuracy: 0.5094 - val_loss: 0.7021 - val_accuracy: 0.4875\n",
            "Epoch 20/20\n",
            "10/10 [==============================] - 0s 22ms/step - loss: 0.7192 - accuracy: 0.4688 - val_loss: 0.7036 - val_accuracy: 0.4875\n",
            "CPU times: user 11.5 s, sys: 813 ms, total: 12.3 s\n",
            "Wall time: 22.5 s\n"
          ]
        }
      ],
      "source": [
        "%%time\n",
        "\n",
        "EPOCH = 20\n",
        "BATCH_SIZE = 32\n",
        "\n",
        "history_LSTM = model_LSTM.fit(X_train, y_train, epochs=EPOCH, batch_size=BATCH_SIZE, validation_data=(X_test, y_test))"
      ]
    },
    {
      "cell_type": "code",
      "execution_count": 43,
      "metadata": {
        "id": "9BwsY5uJOrNy"
      },
      "outputs": [],
      "source": [
        "# Buat fungsi untuk plotting hasil training\n",
        "def plot_graphs(history, string):\n",
        "  plt.plot(history.history[string])\n",
        "  plt.plot(history.history['val_'+string])\n",
        "  plt.xlabel(\"Epochs\")\n",
        "  plt.ylabel(string)\n",
        "  plt.legend([string, 'val_'+string])\n",
        "  plt.show()"
      ]
    },
    {
      "cell_type": "code",
      "execution_count": 44,
      "metadata": {
        "colab": {
          "base_uri": "https://localhost:8080/",
          "height": 881
        },
        "id": "BTKpXfZMOvZ1",
        "outputId": "cc33ed0e-7f29-4865-9dc3-2d759d9a1267"
      },
      "outputs": [
        {
          "output_type": "display_data",
          "data": {
            "text/plain": [
              "<Figure size 640x480 with 1 Axes>"
            ],
            "image/png": "[encoded data removed]"
          },
          "metadata": {}
        },
        {
          "output_type": "display_data",
          "data": {
            "text/plain": [
              "<Figure size 640x480 with 1 Axes>"
            ],
            "image/png": "[encoded data removed]"
          },
          "metadata": {}
        }
      ],
      "source": [
        "plot_graphs(history_LSTM, 'accuracy')\n",
        "plot_graphs(history_LSTM, 'loss')"
      ]
    },
    {
      "cell_type": "code",
      "execution_count": 45,
      "metadata": {
        "colab": {
          "base_uri": "https://localhost:8080/"
        },
        "id": "Qk3L-uKpOzjG",
        "outputId": "b720e7d0-27ea-451b-f62c-c1a6a63d9636"
      },
      "outputs": [
        {
          "output_type": "stream",
          "name": "stdout",
          "text": [
            "\n",
            "Epoch No.  Train Accuracy  Train Loss      Val Accuracy    Val Loss\n",
            "       1   0.465625 \t   1.011833 \t   0.500000 \t   0.864384\n",
            "       2   0.478125 \t   0.797152 \t   0.512500 \t   0.708356\n",
            "       3   0.484375 \t   0.738138 \t   0.487500 \t   0.704639\n",
            "       4   0.525000 \t   0.706979 \t   0.500000 \t   0.706092\n",
            "       5   0.521875 \t   0.715671 \t   0.500000 \t   0.705418\n",
            "       6   0.471875 \t   0.740844 \t   0.500000 \t   0.705473\n",
            "       7   0.453125 \t   0.746985 \t   0.487500 \t   0.710108\n",
            "       8   0.496875 \t   0.721363 \t   0.500000 \t   0.706371\n",
            "       9   0.468750 \t   0.729321 \t   0.487500 \t   0.706654\n",
            "      10   0.462500 \t   0.725461 \t   0.500000 \t   0.706229\n",
            "      11   0.500000 \t   0.706456 \t   0.487500 \t   0.704178\n",
            "      12   0.475000 \t   0.723918 \t   0.487500 \t   0.704717\n",
            "      13   0.518750 \t   0.713643 \t   0.500000 \t   0.702431\n",
            "      14   0.500000 \t   0.719556 \t   0.500000 \t   0.702555\n",
            "      15   0.509375 \t   0.700703 \t   0.500000 \t   0.701783\n",
            "      16   0.459375 \t   0.713834 \t   0.487500 \t   0.701909\n",
            "      17   0.484375 \t   0.706036 \t   0.487500 \t   0.701936\n",
            "      18   0.521875 \t   0.691920 \t   0.500000 \t   0.701315\n",
            "      19   0.509375 \t   0.706098 \t   0.487500 \t   0.702133\n",
            "      20   0.468750 \t   0.719230 \t   0.487500 \t   0.703603\n"
          ]
        }
      ],
      "source": [
        "print('\\nEpoch No.  Train Accuracy  Train Loss      Val Accuracy    Val Loss')\n",
        "for i in range(EPOCH):\n",
        "  print('{:8d} {:10f} \\t {:10f} \\t {:10f} \\t {:10f}'.format(i + 1, history_LSTM.history['accuracy'][i], history_LSTM.history['loss'][i], history_LSTM.history['val_accuracy'][i], history_LSTM.history['val_loss'][i]))"
      ]
    },
    {
      "cell_type": "markdown",
      "metadata": {
        "id": "g3uiORegO1od"
      },
      "source": [
        "### Evaluate"
      ]
    },
    {
      "cell_type": "code",
      "execution_count": 46,
      "metadata": {
        "colab": {
          "base_uri": "https://localhost:8080/"
        },
        "id": "PZo_QdUlO3uo",
        "outputId": "6521050d-f48c-4315-e51c-3aadd90038db"
      },
      "outputs": [
        {
          "output_type": "stream",
          "name": "stdout",
          "text": [
            "3/3 [==============================] - 1s 10ms/step\n",
            "3/3 [==============================] - 0s 14ms/step - loss: 0.7036 - accuracy: 0.4875\n"
          ]
        }
      ],
      "source": [
        "# Lakukan prediksi pada data uji\n",
        "y_pred = np.argmax(model_LSTM.predict(X_test), axis=1)\n",
        "y_true = np.argmax(y_test, axis=1)\n",
        "\n",
        "loss, accuracy = model_LSTM.evaluate(X_test, y_test)"
      ]
    },
    {
      "cell_type": "code",
      "execution_count": 47,
      "metadata": {
        "colab": {
          "base_uri": "https://localhost:8080/"
        },
        "id": "WP1jOEebO6tK",
        "outputId": "132e27ed-45f8-4dff-ec67-d343735f12e8"
      },
      "outputs": [
        {
          "output_type": "stream",
          "name": "stdout",
          "text": [
            "              precision    recall  f1-score   support\n",
            "\n",
            "           0       0.00      0.00      0.00         0\n",
            "           1       0.00      0.00      0.00         1\n",
            "           2       0.97      0.49      0.66        79\n",
            "\n",
            "    accuracy                           0.49        80\n",
            "   macro avg       0.33      0.16      0.22        80\n",
            "weighted avg       0.96      0.49      0.65        80\n",
            "\n"
          ]
        }
      ],
      "source": [
        "from sklearn.metrics import classification_report\n",
        "\n",
        "# Tampilkan laporan klasifikasi yang dilakukan model pada data uji\n",
        "print(classification_report(y_pred, y_true))"
      ]
    },
    {
      "cell_type": "markdown",
      "metadata": {
        "id": "FfK-ZPDvPBwn"
      },
      "source": [
        "## Bidirectional Long short term memory network (Bi-LSTM) + Word2Vec\n",
        "Contoh sebelumnya kita hanya menggunakan dictionary yang dihasilkan ketika proses Tokenizing. Lalu, ketika pemodelan ditambahkan layer embedding sebelum di fitkan ke layer LSTM.\n",
        "\n",
        "\n",
        "Selanjutnya, kita akan memanfaatkan word2vec yang telah dilatih pada proses sebelumnya untuk mengubah teks menjadi bentuk vektor.\n",
        "\n",
        "\n",
        "\n"
      ]
    },
    {
      "cell_type": "markdown",
      "metadata": {
        "id": "yI5Rn6UeP7UR"
      },
      "source": [
        "### Load Word2Vec"
      ]
    },
    {
      "cell_type": "code",
      "source": [
        "from gensim.models import KeyedVectors\n",
        "\n",
        "# Load word2vec model\n",
        "my_word2vec = KeyedVectors.load('myvec-word2vec-100.wordvectors', mmap='r')\n",
        "\n",
        "# Get available vocabulary in the model\n",
        "my_word2vec_vocab = set(my_word2vec.index_to_key)\n",
        "\n",
        "# Get the embedding vector for a specific word (with error handling)\n",
        "word = 'anak'\n",
        "if word in my_word2vec_vocab:\n",
        "    embedding_vector = my_word2vec[word]\n",
        "    print(f'The embedding vector for \"{word}\" is: {embedding_vector}')\n",
        "else:\n",
        "    print(f'The word \"{word}\" is not in the vocabulary.')\n"
      ],
      "metadata": {
        "colab": {
          "base_uri": "https://localhost:8080/"
        },
        "id": "pBvtl91ezPFh",
        "outputId": "cbcf4e45-27dc-4f24-d805-ccd3baec9e78"
      },
      "execution_count": 48,
      "outputs": [
        {
          "output_type": "stream",
          "name": "stdout",
          "text": [
            "The embedding vector for \"anak\" is: [-0.08965279  0.16122237  0.0638966   0.02110137  0.04004653 -0.35366172\n",
            "  0.19840175  0.45647717 -0.16275978 -0.09879215 -0.14553635 -0.39760676\n",
            " -0.0878851   0.07475206 -0.10774878 -0.19613044  0.07109585 -0.26879856\n",
            " -0.04475833 -0.37825167  0.15513504  0.14419198  0.17874874 -0.25801843\n",
            " -0.05426653 -0.02525695 -0.23251732 -0.10477359 -0.22212471  0.00905766\n",
            "  0.24580173  0.01866961  0.12756453 -0.15772682 -0.03114882  0.27847412\n",
            "  0.06334408 -0.1414518  -0.08433933 -0.46753526  0.07838009 -0.20770684\n",
            " -0.16797167  0.13248251  0.18054982 -0.1837914  -0.29100138 -0.09075769\n",
            "  0.09493707  0.15614803  0.07701831 -0.22299409 -0.04556736  0.01100311\n",
            " -0.16314411  0.11218885  0.16754515 -0.06226735 -0.13510388  0.13087931\n",
            "  0.17601721  0.07877944  0.00412523 -0.01790112 -0.41677043  0.25730184\n",
            "  0.10243613  0.17330727 -0.39889967  0.37475765 -0.22526938  0.24168195\n",
            "  0.25006297 -0.07020313  0.2535611  -0.00408131  0.04574604 -0.00467099\n",
            " -0.18761021  0.01578682 -0.17031172 -0.02459707 -0.24375035  0.35830712\n",
            " -0.10393204  0.04363187  0.03009238  0.29277277  0.10002192  0.04484348\n",
            "  0.2971188   0.10728465  0.04632269 -0.02000908  0.41992852  0.14597431\n",
            "  0.09034189 -0.1101165   0.11478052 -0.09270813]\n"
          ]
        }
      ]
    },
    {
      "cell_type": "code",
      "source": [
        "word2vec_dict = {}\n",
        "for anak in my_word2vec_vocab:\n",
        "    word2vec_dict[anak] = my_word2vec.get_vector(anak)\n",
        "\n",
        "print('The numbers of key-value pairs: ', len(word2vec_dict)) # Should be the same as the vocab size in the Word2Vec model\n"
      ],
      "metadata": {
        "colab": {
          "base_uri": "https://localhost:8080/"
        },
        "id": "zFSuPjbx1FTC",
        "outputId": "3fda8c74-1fd2-4c14-dd97-53ff03c4992b"
      },
      "execution_count": 49,
      "outputs": [
        {
          "output_type": "stream",
          "name": "stdout",
          "text": [
            "The numbers of key-value pairs:  3224\n"
          ]
        }
      ]
    },
    {
      "cell_type": "markdown",
      "source": [
        "### Create Embedding Matrix"
      ],
      "metadata": {
        "id": "voFiQZFX9uev"
      }
    },
    {
      "cell_type": "code",
      "source": [
        "EMBEDDING_MATRIX = np.zeros(shape=(WV_DICTIONARY_SIZE, EMBEDDING_SIZE))\n",
        "\n",
        "for word, i in tokenizer.word_index.items():\n",
        "  embed_vector = word2vec_dict.get(word)\n",
        "  if embed_vector is not None:               # Word is in the vocabulary learned by the w2v model\n",
        "    EMBEDDING_MATRIX[i] = embed_vector"
      ],
      "metadata": {
        "id": "FOdp_p9X9xXr"
      },
      "execution_count": 50,
      "outputs": []
    },
    {
      "cell_type": "code",
      "source": [
        "# Cek index keberapa di Word2Vec vocabulary dari suatu kata\n",
        "print(WV_DICTIONARY.get('anak'))"
      ],
      "metadata": {
        "colab": {
          "base_uri": "https://localhost:8080/"
        },
        "id": "HIK_moa095GL",
        "outputId": "15adb0af-0304-480d-8ee3-09c6f820cb12"
      },
      "execution_count": 51,
      "outputs": [
        {
          "output_type": "stream",
          "name": "stdout",
          "text": [
            "17\n"
          ]
        }
      ]
    },
    {
      "cell_type": "code",
      "source": [
        "# Cek vector dari suatu kata\n",
        "print(EMBEDDING_MATRIX[25])"
      ],
      "metadata": {
        "colab": {
          "base_uri": "https://localhost:8080/"
        },
        "id": "HB1X-t6u952t",
        "outputId": "8a1d7e84-f362-4324-8c08-82484f6e71ec"
      },
      "execution_count": 52,
      "outputs": [
        {
          "output_type": "stream",
          "name": "stdout",
          "text": [
            "[-0.07808435  0.15318425  0.05903637  0.01675038  0.05087892 -0.34186849\n",
            "  0.1981128   0.42577311 -0.15767388 -0.11689576 -0.13316785 -0.36721331\n",
            " -0.06444498  0.06627184 -0.07763609 -0.17171453  0.06563759 -0.25869837\n",
            " -0.03305986 -0.35639462  0.16060132  0.13531105  0.16947658 -0.22369523\n",
            " -0.0346958  -0.01242948 -0.2245436  -0.1001009  -0.19920777  0.0257829\n",
            "  0.23371908  0.03644173  0.09713694 -0.16389856 -0.01511089  0.25666243\n",
            "  0.04594669 -0.12893245 -0.06910193 -0.44733149  0.0741702  -0.194593\n",
            " -0.14874487  0.10785972  0.15998743 -0.1890953  -0.25700912 -0.0767004\n",
            "  0.08220503  0.1546469   0.08468524 -0.21598518 -0.06558431  0.01582115\n",
            " -0.14341363  0.10824672  0.15137596 -0.05795948 -0.13535133  0.11666897\n",
            "  0.15147427  0.0701929   0.00762693 -0.00704335 -0.39078152  0.26030034\n",
            "  0.09871062  0.14954555 -0.37805229  0.35892242 -0.20809652  0.23317057\n",
            "  0.22334291 -0.07033544  0.22068392 -0.00136152  0.0290301  -0.00794638\n",
            " -0.17508686  0.03394611 -0.15498507 -0.01795829 -0.21021686  0.32600796\n",
            " -0.09053485  0.04842523  0.03946818  0.28963944  0.09548441  0.02866459\n",
            "  0.28927916  0.08583377  0.03800128 -0.01075403  0.40117732  0.11593415\n",
            "  0.08251516 -0.121491    0.10229278 -0.08620284]\n"
          ]
        }
      ]
    },
    {
      "cell_type": "code",
      "source": [
        "# Cek dimensi word vector. X = jumlah kata pada vocabulary, y = dimensi vektor\n",
        "EMBEDDING_MATRIX.shape"
      ],
      "metadata": {
        "colab": {
          "base_uri": "https://localhost:8080/"
        },
        "id": "HJ71MZML-LbR",
        "outputId": "55e838ac-271c-4f73-e895-5ff5d03573b6"
      },
      "execution_count": 53,
      "outputs": [
        {
          "output_type": "execute_result",
          "data": {
            "text/plain": [
              "(3224, 100)"
            ]
          },
          "metadata": {},
          "execution_count": 53
        }
      ]
    },
    {
      "cell_type": "markdown",
      "metadata": {
        "id": "8kPVZnJWRF-Z"
      },
      "source": [
        "### Define Model (Bi LSTM)\n",
        "Nah, sekarang kita membahkan layer embedding berdasarkan matrix embedding yang di dapatkan dari word2vec yang sudah kita latih sebelumnya. Selain itu, kita akan mencoba menggunakan arsitektur Bidirectional LSTM.\n",
        "\n",
        "![image.png](data:image/png;base64,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)\n",
        "\n"
      ]
    },
    {
      "cell_type": "code",
      "execution_count": 54,
      "metadata": {
        "id": "DJStxSr6Qd3V"
      },
      "outputs": [],
      "source": [
        "from tensorflow.keras.models import Sequential\n",
        "from tensorflow.keras.layers import Embedding, Bidirectional, LSTM, Dropout\n",
        "from tensorflow.keras.initializers import Constant\n",
        "\n",
        "model_BiLSTM_w2v = Sequential()\n",
        "model_BiLSTM_w2v.add(Embedding(\n",
        "    input_dim = WV_DICTIONARY_SIZE,\n",
        "    output_dim = EMBEDDING_SIZE,\n",
        "    input_length = MAX_SEQ_LENGTH,\n",
        "    trainable = False,\n",
        "    embeddings_initializer = Constant(EMBEDDING_MATRIX)))\n",
        "model_BiLSTM_w2v.add(Bidirectional(LSTM(64)))\n",
        "model_LSTM.add(Dropout(0.5))  \n",
        "model_BiLSTM_w2v.add(Dense(3, activation='softmax'))"
      ]
    },
    {
      "cell_type": "code",
      "source": [
        "model_BiLSTM_w2v.summary()"
      ],
      "metadata": {
        "colab": {
          "base_uri": "https://localhost:8080/"
        },
        "id": "RpV9SE9XAYOa",
        "outputId": "76ae39dc-9435-4234-84bd-c38943550778"
      },
      "execution_count": 55,
      "outputs": [
        {
          "output_type": "stream",
          "name": "stdout",
          "text": [
            "Model: \"sequential_1\"\n",
            "_________________________________________________________________\n",
            " Layer (type)                Output Shape              Param #   \n",
            "=================================================================\n",
            " embedding_1 (Embedding)     (None, 100, 100)          322400    \n",
            "                                                                 \n",
            " bidirectional (Bidirectiona  (None, 128)              84480     \n",
            " l)                                                              \n",
            "                                                                 \n",
            " dense_1 (Dense)             (None, 3)                 387       \n",
            "                                                                 \n",
            "=================================================================\n",
            "Total params: 407,267\n",
            "Trainable params: 84,867\n",
            "Non-trainable params: 322,400\n",
            "_________________________________________________________________\n"
          ]
        }
      ]
    },
    {
      "cell_type": "code",
      "execution_count": 56,
      "metadata": {
        "id": "3BnDmLSvRvXw"
      },
      "outputs": [],
      "source": [
        "# Compile model\n",
        "model_BiLSTM_w2v.compile(loss='categorical_crossentropy', optimizer='adam', metrics=['accuracy'])"
      ]
    },
    {
      "cell_type": "markdown",
      "metadata": {
        "id": "TL7RP7HOR6vc"
      },
      "source": [
        "### Training"
      ]
    },
    {
      "cell_type": "code",
      "execution_count": 57,
      "metadata": {
        "colab": {
          "base_uri": "https://localhost:8080/"
        },
        "id": "8Y06kyRmR76q",
        "outputId": "bf7202ce-c420-4489-adb1-10f76e08f5a1"
      },
      "outputs": [
        {
          "output_type": "stream",
          "name": "stdout",
          "text": [
            "Epoch 1/20\n",
            "10/10 [==============================] - 8s 97ms/step - loss: 1.0177 - accuracy: 0.3875 - val_loss: 0.8801 - val_accuracy: 0.4875\n",
            "Epoch 2/20\n",
            "10/10 [==============================] - 0s 20ms/step - loss: 0.7635 - accuracy: 0.5125 - val_loss: 0.7011 - val_accuracy: 0.5000\n",
            "Epoch 3/20\n",
            "10/10 [==============================] - 0s 16ms/step - loss: 0.7013 - accuracy: 0.4781 - val_loss: 0.6978 - val_accuracy: 0.4250\n",
            "Epoch 4/20\n",
            "10/10 [==============================] - 0s 14ms/step - loss: 0.6873 - accuracy: 0.5437 - val_loss: 0.7087 - val_accuracy: 0.4500\n",
            "Epoch 5/20\n",
            "10/10 [==============================] - 0s 15ms/step - loss: 0.6904 - accuracy: 0.5094 - val_loss: 0.7153 - val_accuracy: 0.4000\n",
            "Epoch 6/20\n",
            "10/10 [==============================] - 0s 14ms/step - loss: 0.7000 - accuracy: 0.5125 - val_loss: 0.7206 - val_accuracy: 0.5500\n",
            "Epoch 7/20\n",
            "10/10 [==============================] - 0s 13ms/step - loss: 0.7026 - accuracy: 0.5437 - val_loss: 0.7213 - val_accuracy: 0.4250\n",
            "Epoch 8/20\n",
            "10/10 [==============================] - 0s 13ms/step - loss: 0.6773 - accuracy: 0.5719 - val_loss: 0.7183 - val_accuracy: 0.5000\n",
            "Epoch 9/20\n",
            "10/10 [==============================] - 0s 13ms/step - loss: 0.6757 - accuracy: 0.5906 - val_loss: 0.7245 - val_accuracy: 0.4375\n",
            "Epoch 10/20\n",
            "10/10 [==============================] - 0s 14ms/step - loss: 0.6754 - accuracy: 0.5875 - val_loss: 0.7212 - val_accuracy: 0.4875\n",
            "Epoch 11/20\n",
            "10/10 [==============================] - 0s 13ms/step - loss: 0.6717 - accuracy: 0.5906 - val_loss: 0.7117 - val_accuracy: 0.5125\n",
            "Epoch 12/20\n",
            "10/10 [==============================] - 0s 12ms/step - loss: 0.6737 - accuracy: 0.6062 - val_loss: 0.7475 - val_accuracy: 0.4000\n",
            "Epoch 13/20\n",
            "10/10 [==============================] - 0s 15ms/step - loss: 0.6824 - accuracy: 0.5781 - val_loss: 0.7231 - val_accuracy: 0.5000\n",
            "Epoch 14/20\n",
            "10/10 [==============================] - 0s 14ms/step - loss: 0.7078 - accuracy: 0.5219 - val_loss: 0.7308 - val_accuracy: 0.4000\n",
            "Epoch 15/20\n",
            "10/10 [==============================] - 0s 13ms/step - loss: 0.6931 - accuracy: 0.5562 - val_loss: 0.7057 - val_accuracy: 0.5375\n",
            "Epoch 16/20\n",
            "10/10 [==============================] - 0s 14ms/step - loss: 0.6720 - accuracy: 0.6062 - val_loss: 0.7271 - val_accuracy: 0.3875\n",
            "Epoch 17/20\n",
            "10/10 [==============================] - 0s 14ms/step - loss: 0.6715 - accuracy: 0.6031 - val_loss: 0.7022 - val_accuracy: 0.5500\n",
            "Epoch 18/20\n",
            "10/10 [==============================] - 0s 14ms/step - loss: 0.6724 - accuracy: 0.6062 - val_loss: 0.7071 - val_accuracy: 0.4875\n",
            "Epoch 19/20\n",
            "10/10 [==============================] - 0s 14ms/step - loss: 0.6646 - accuracy: 0.6156 - val_loss: 0.7041 - val_accuracy: 0.5250\n",
            "Epoch 20/20\n",
            "10/10 [==============================] - 0s 13ms/step - loss: 0.6693 - accuracy: 0.6094 - val_loss: 0.7056 - val_accuracy: 0.5125\n",
            "CPU times: user 8.59 s, sys: 345 ms, total: 8.93 s\n",
            "Wall time: 11.9 s\n"
          ]
        }
      ],
      "source": [
        "%%time\n",
        "\n",
        "EPOCH = 20\n",
        "BATCH_SIZE = 32\n",
        "\n",
        "history_BiLSTM_w2v = model_BiLSTM_w2v.fit(X_train, y_train, epochs=EPOCH, batch_size=BATCH_SIZE, validation_data=(X_test, y_test))"
      ]
    },
    {
      "cell_type": "code",
      "execution_count": 58,
      "metadata": {
        "colab": {
          "base_uri": "https://localhost:8080/",
          "height": 881
        },
        "id": "YdTQF9wlR_es",
        "outputId": "4d22a864-817a-40fc-869d-0709b3b9ab86"
      },
      "outputs": [
        {
          "output_type": "display_data",
          "data": {
            "text/plain": [
              "<Figure size 640x480 with 1 Axes>"
            ],
            "image/png": "[encoded data removed]"
          },
          "metadata": {}
        },
        {
          "output_type": "display_data",
          "data": {
            "text/plain": [
              "<Figure size 640x480 with 1 Axes>"
            ],
            "image/png": "[encoded data removed]"
          },
          "metadata": {}
        }
      ],
      "source": [
        "plot_graphs(history_BiLSTM_w2v, 'accuracy')\n",
        "plot_graphs(history_BiLSTM_w2v, 'loss')"
      ]
    },
    {
      "cell_type": "code",
      "execution_count": 59,
      "metadata": {
        "colab": {
          "base_uri": "https://localhost:8080/"
        },
        "id": "9VIpiOErSDE7",
        "outputId": "d77802f5-a9d0-4c9d-8d80-3c81749cbca4"
      },
      "outputs": [
        {
          "output_type": "stream",
          "name": "stdout",
          "text": [
            "\n",
            "Epoch No.  Train Accuracy  Train Loss      Val Accuracy    Val Loss\n",
            "       1   0.387500 \t   1.017711 \t   0.487500 \t   0.880100\n",
            "       2   0.512500 \t   0.763532 \t   0.500000 \t   0.701107\n",
            "       3   0.478125 \t   0.701273 \t   0.425000 \t   0.697768\n",
            "       4   0.543750 \t   0.687340 \t   0.450000 \t   0.708686\n",
            "       5   0.509375 \t   0.690409 \t   0.400000 \t   0.715276\n",
            "       6   0.512500 \t   0.699977 \t   0.550000 \t   0.720630\n",
            "       7   0.543750 \t   0.702557 \t   0.425000 \t   0.721295\n",
            "       8   0.571875 \t   0.677267 \t   0.500000 \t   0.718269\n",
            "       9   0.590625 \t   0.675667 \t   0.437500 \t   0.724543\n",
            "      10   0.587500 \t   0.675357 \t   0.487500 \t   0.721172\n",
            "      11   0.590625 \t   0.671689 \t   0.512500 \t   0.711651\n",
            "      12   0.606250 \t   0.673681 \t   0.400000 \t   0.747526\n",
            "      13   0.578125 \t   0.682415 \t   0.500000 \t   0.723099\n",
            "      14   0.521875 \t   0.707778 \t   0.400000 \t   0.730829\n",
            "      15   0.556250 \t   0.693062 \t   0.537500 \t   0.705746\n",
            "      16   0.606250 \t   0.671967 \t   0.387500 \t   0.727053\n",
            "      17   0.603125 \t   0.671474 \t   0.550000 \t   0.702238\n",
            "      18   0.606250 \t   0.672354 \t   0.487500 \t   0.707102\n",
            "      19   0.615625 \t   0.664553 \t   0.525000 \t   0.704055\n",
            "      20   0.609375 \t   0.669324 \t   0.512500 \t   0.705612\n"
          ]
        }
      ],
      "source": [
        "print('\\nEpoch No.  Train Accuracy  Train Loss      Val Accuracy    Val Loss')\n",
        "for i in range(EPOCH):\n",
        "  print('{:8d} {:10f} \\t {:10f} \\t {:10f} \\t {:10f}'.format(i + 1, history_BiLSTM_w2v.history['accuracy'][i], history_BiLSTM_w2v.history['loss'][i], history_BiLSTM_w2v.history['val_accuracy'][i], history_BiLSTM_w2v.history['val_loss'][i]))"
      ]
    },
    {
      "cell_type": "markdown",
      "metadata": {
        "id": "RnVy8oIRSFCp"
      },
      "source": [
        "### Evaluate"
      ]
    },
    {
      "cell_type": "code",
      "execution_count": 60,
      "metadata": {
        "colab": {
          "base_uri": "https://localhost:8080/"
        },
        "id": "D1mEkQVHSGNY",
        "outputId": "f5b22a5e-d9dc-47c6-9ab5-e8ac739a1e98"
      },
      "outputs": [
        {
          "output_type": "stream",
          "name": "stdout",
          "text": [
            "3/3 [==============================] - 1s 11ms/step\n",
            "3/3 [==============================] - 0s 10ms/step - loss: 0.7056 - accuracy: 0.5125\n"
          ]
        }
      ],
      "source": [
        "# Lakukan prediksi pada data uji\n",
        "y_pred = np.argmax(model_BiLSTM_w2v.predict(X_test), axis=1)\n",
        "y_true = np.argmax(y_test, axis=1)\n",
        "\n",
        "loss, accuracy = model_BiLSTM_w2v.evaluate(X_test, y_test)"
      ]
    },
    {
      "cell_type": "code",
      "execution_count": 61,
      "metadata": {
        "colab": {
          "base_uri": "https://localhost:8080/"
        },
        "id": "4NPQPBCtSIOY",
        "outputId": "d1fa72ba-0900-42e8-973c-4aab7529b7bd"
      },
      "outputs": [
        {
          "output_type": "stream",
          "name": "stdout",
          "text": [
            "              precision    recall  f1-score   support\n",
            "\n",
            "           0       0.42      0.52      0.47        33\n",
            "           2       0.60      0.51      0.55        47\n",
            "\n",
            "    accuracy                           0.51        80\n",
            "   macro avg       0.51      0.51      0.51        80\n",
            "weighted avg       0.53      0.51      0.52        80\n",
            "\n"
          ]
        }
      ],
      "source": [
        "# Tampilkan laporan klasifikasi yang dilakukan model pada data uji\n",
        "print(classification_report(y_pred, y_true))"
      ]
    }
  ],
  "metadata": {
    "accelerator": "GPU",
    "colab": {
      "provenance": []
    },
    "kernelspec": {
      "display_name": "Python 3.8.8 ('base')",
      "language": "python",
      "name": "python3"
    },
    "language_info": {
      "name": "python",
      "version": "3.8.8"
    },
    "vscode": {
      "interpreter": {
        "hash": "ad2bdc8ecc057115af97d19610ffacc2b4e99fae6737bb82f5d7fb13d2f2c186"
      }
    }
  },
  "nbformat": 4,
  "nbformat_minor": 0
}